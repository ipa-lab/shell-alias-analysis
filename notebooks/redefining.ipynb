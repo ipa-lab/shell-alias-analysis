{
 "cells": [
  {
   "cell_type": "code",
   "execution_count": 1,
   "metadata": {},
   "outputs": [],
   "source": [
    "import sqlite3\n",
    "import pandas as pd\n",
    "import matplotlib.pyplot as plt\n",
    "%matplotlib inline\n",
    "%load_ext sql"
   ]
  },
  {
   "cell_type": "code",
   "execution_count": 2,
   "metadata": {},
   "outputs": [],
   "source": [
    "%sql sqlite:///results.db"
   ]
  },
  {
   "cell_type": "markdown",
   "metadata": {},
   "source": [
    "# Redefining commands\n",
    "\n",
    "`A = A C`\n",
    "\n",
    "Redefining occurs when we declare an alias of the same name as (one of) the command(s) that it aliases."
   ]
  },
  {
   "cell_type": "code",
   "execution_count": 8,
   "metadata": {},
   "outputs": [
    {
     "name": "stdout",
     "output_type": "stream",
     "text": [
      " * sqlite:///results.db\n",
      "Done.\n"
     ]
    },
    {
     "data": {
      "text/html": [
       "<table>\n",
       "    <tr>\n",
       "        <th>#</th>\n",
       "        <th>%</th>\n",
       "    </tr>\n",
       "    <tr>\n",
       "        <td>319239</td>\n",
       "        <td>14.48</td>\n",
       "    </tr>\n",
       "</table>"
      ],
      "text/plain": [
       "[(319239, 14.48)]"
      ]
     },
     "execution_count": 8,
     "metadata": {},
     "output_type": "execute_result"
    }
   ],
   "source": [
    "%%sql\n",
    "with total as (select count(*) as total from alias)\n",
    "select \n",
    "    count(distinct alias_id) as '#', \n",
    "    round(count(distinct alias_id)*100.0/total,2) as '%' \n",
    "from alias join command using (alias_id)\n",
    "join total\n",
    "where alias.name = command.name;"
   ]
  },
  {
   "cell_type": "markdown",
   "metadata": {},
   "source": [
    "#### How many of these are scripts?"
   ]
  },
  {
   "cell_type": "code",
   "execution_count": 14,
   "metadata": {},
   "outputs": [
    {
     "name": "stdout",
     "output_type": "stream",
     "text": [
      " * sqlite:///results.db\n",
      "Done.\n"
     ]
    },
    {
     "data": {
      "text/html": [
       "<table>\n",
       "    <tr>\n",
       "        <th>#</th>\n",
       "        <th>%</th>\n",
       "        <th>% of redefines</th>\n",
       "    </tr>\n",
       "    <tr>\n",
       "        <td>5075</td>\n",
       "        <td>0.23</td>\n",
       "        <td>1.59</td>\n",
       "    </tr>\n",
       "</table>"
      ],
      "text/plain": [
       "[(5075, 0.23, 1.59)]"
      ]
     },
     "execution_count": 14,
     "metadata": {},
     "output_type": "execute_result"
    }
   ],
   "source": [
    "%%sql\n",
    "with \n",
    "    total as (select count(*) as total from alias),\n",
    "    total_redefines as (\n",
    "        select count(distinct alias_id) as total_redefines\n",
    "        from alias join command using (alias_id)\n",
    "        where alias.name = command.name\n",
    "    )\n",
    "select \n",
    "    count(distinct alias_id) as '#', \n",
    "    round(count(distinct alias_id)*100.0/total,2) as '%',\n",
    "    round(count(distinct alias_id)*100.0/total_redefines,2) as '% of redefines'\n",
    "from alias join command using (alias_id)\n",
    "join total\n",
    "join total_redefines\n",
    "where alias.name = command.name\n",
    "and alias.num_commands != 1;"
   ]
  },
  {
   "cell_type": "markdown",
   "metadata": {},
   "source": [
    "#### How many use `sudo`?"
   ]
  },
  {
   "cell_type": "code",
   "execution_count": 15,
   "metadata": {},
   "outputs": [
    {
     "name": "stdout",
     "output_type": "stream",
     "text": [
      " * sqlite:///results.db\n",
      "Done.\n"
     ]
    },
    {
     "data": {
      "text/html": [
       "<table>\n",
       "    <tr>\n",
       "        <th>#</th>\n",
       "        <th>%</th>\n",
       "        <th>% of redefines</th>\n",
       "    </tr>\n",
       "    <tr>\n",
       "        <td>7468</td>\n",
       "        <td>0.34</td>\n",
       "        <td>2.34</td>\n",
       "    </tr>\n",
       "</table>"
      ],
      "text/plain": [
       "[(7468, 0.34, 2.34)]"
      ]
     },
     "execution_count": 15,
     "metadata": {},
     "output_type": "execute_result"
    }
   ],
   "source": [
    "%%sql\n",
    "with \n",
    "    total as (select count(*) as total from alias),\n",
    "    total_redefines as (\n",
    "        select count(distinct alias_id) as total_redefines\n",
    "        from alias join command using (alias_id)\n",
    "        where alias.name = command.name\n",
    "    )\n",
    "select \n",
    "    count(distinct alias_id) as '#', \n",
    "    round(count(distinct alias_id)*100.0/total,2) as '%',\n",
    "    round(count(distinct alias_id)*100.0/total_redefines,2) as '% of redefines'\n",
    "from alias join command using (alias_id)\n",
    "join total\n",
    "join total_redefines\n",
    "where alias.name = command.name\n",
    "and command.sudo = 1;"
   ]
  },
  {
   "cell_type": "code",
   "execution_count": null,
   "metadata": {},
   "outputs": [],
   "source": []
  }
 ],
 "metadata": {
  "kernelspec": {
   "display_name": "Python 3.7.6 64-bit",
   "language": "python",
   "name": "python37664bit0fda1b1dbdee481db7662a4e7d3141e4"
  },
  "language_info": {
   "codemirror_mode": {
    "name": "ipython",
    "version": 3
   },
   "file_extension": ".py",
   "mimetype": "text/x-python",
   "name": "python",
   "nbconvert_exporter": "python",
   "pygments_lexer": "ipython3",
   "version": "3.7.6"
  }
 },
 "nbformat": 4,
 "nbformat_minor": 4
}
