{
 "cells": [
  {
   "cell_type": "code",
   "execution_count": 1,
   "metadata": {},
   "outputs": [],
   "source": [
    "import sqlite3\n",
    "import pandas as pd\n",
    "import stringdist\n",
    "import matplotlib.pyplot as plt\n",
    "%matplotlib inline\n",
    "%load_ext sql"
   ]
  },
  {
   "cell_type": "code",
   "execution_count": 2,
   "metadata": {},
   "outputs": [],
   "source": [
    "%sql sqlite:///results.db"
   ]
  },
  {
   "cell_type": "markdown",
   "metadata": {},
   "source": [
    "## Autocorrect"
   ]
  },
  {
   "cell_type": "markdown",
   "metadata": {},
   "source": [
    "Candidates for autocorrect are all aliases with one command, where the alias name is the same length as the command name. We first exclude aliases of length two, because of the common occurence of stuff like `ll=ls -l`, but then add those two-character aliases whose names are palindromes of their commands, like `sl=ls` or `dc=cd`."
   ]
  },
  {
   "cell_type": "code",
   "execution_count": 5,
   "metadata": {},
   "outputs": [
    {
     "name": "stdout",
     "output_type": "stream",
     "text": [
      " * sqlite:///results.db\n",
      "Done.\n",
      "Returning data to local variable candidates\n"
     ]
    }
   ],
   "source": [
    "%%sql candidates <<\n",
    "select alias.name, command.name\n",
    "from alias join command using (alias_id)\n",
    "where alias.num_commands = 1\n",
    "and length(alias.name) = length(command.name)\n",
    "and length(alias.name) > 2\n",
    "\n",
    "union\n",
    "\n",
    "select alias.name, command.name\n",
    "from alias join command using (alias_id)\n",
    "where alias.num_commands = 1\n",
    "and length(alias.name) = length(command.name)\n",
    "and length(alias.name) = 2\n",
    "and substr(alias.name,-1,1) = substr(command.name,1,1)\n",
    "and substr(alias.name,1,1) = substr(command.name,-1,1);"
   ]
  },
  {
   "cell_type": "markdown",
   "metadata": {},
   "source": [
    "Now we need to empirically determine a good cutoff for the distance measure. This means playing around with the following code:"
   ]
  },
  {
   "cell_type": "code",
   "execution_count": 55,
   "metadata": {},
   "outputs": [
    {
     "name": "stdout",
     "output_type": "stream",
     "text": [
      "candidates: 33261\n",
      "autocorrects: 9195\n"
     ]
    }
   ],
   "source": [
    "import stringdist\n",
    "\n",
    "autocorrects = []\n",
    "\n",
    "for (alias,cmd) in candidates:\n",
    "    dist = stringdist.rdlevenshtein(alias, cmd)\n",
    "    if dist > 0 and dist <= 2:\n",
    "        autocorrects.append((alias, cmd, dist))\n",
    "\n",
    "autocorrects.sort(key=lambda tup: tup[2], reverse=True)\n",
    "      \n",
    "print('candidates: %d' % len(candidates))\n",
    "print('autocorrects: %d' % len(autocorrects))\n",
    "#print(*autocorrects[:200], sep='\\n')"
   ]
  },
  {
   "cell_type": "markdown",
   "metadata": {},
   "source": [
    "Seems like 2 is a good cutoff."
   ]
  },
  {
   "cell_type": "code",
   "execution_count": 56,
   "metadata": {},
   "outputs": [
    {
     "name": "stdout",
     "output_type": "stream",
     "text": [
      " * sqlite:///results.db\n",
      "Done.\n"
     ]
    },
    {
     "data": {
      "text/plain": [
       "0.42"
      ]
     },
     "execution_count": 56,
     "metadata": {},
     "output_type": "execute_result"
    }
   ],
   "source": [
    "total_r = %sql select count(*) from alias;\n",
    "total = total_r[0][0]\n",
    "autocorr = len(autocorrects);\n",
    "round(autocorr*100.0/total,2)"
   ]
  }
 ],
 "metadata": {
  "kernelspec": {
   "display_name": "Python 3.7.6 64-bit",
   "language": "python",
   "name": "python37664bit0fda1b1dbdee481db7662a4e7d3141e4"
  },
  "language_info": {
   "codemirror_mode": {
    "name": "ipython",
    "version": 3
   },
   "file_extension": ".py",
   "mimetype": "text/x-python",
   "name": "python",
   "nbconvert_exporter": "python",
   "pygments_lexer": "ipython3",
   "version": "3.7.6"
  }
 },
 "nbformat": 4,
 "nbformat_minor": 4
}
