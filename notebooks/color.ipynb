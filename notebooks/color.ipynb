{
 "cells": [
  {
   "cell_type": "code",
   "execution_count": 1,
   "metadata": {},
   "outputs": [],
   "source": [
    "import sqlite3\n",
    "import pandas as pd\n",
    "import matplotlib.pyplot as plt\n",
    "%matplotlib inline\n",
    "%load_ext sql"
   ]
  },
  {
   "cell_type": "code",
   "execution_count": 2,
   "metadata": {},
   "outputs": [],
   "source": [
    "%sql sqlite:///results.db"
   ]
  },
  {
   "cell_type": "markdown",
   "metadata": {},
   "source": [
    "# Color"
   ]
  },
  {
   "cell_type": "code",
   "execution_count": 55,
   "metadata": {},
   "outputs": [
    {
     "name": "stdout",
     "output_type": "stream",
     "text": [
      " * sqlite:///results.db\n",
      "Done.\n"
     ]
    },
    {
     "data": {
      "text/html": [
       "<table>\n",
       "    <tr>\n",
       "        <th>#</th>\n",
       "        <th>%</th>\n",
       "        <th>% of redefines</th>\n",
       "    </tr>\n",
       "    <tr>\n",
       "        <td>182623</td>\n",
       "        <td>8.29</td>\n",
       "        <td>57.21</td>\n",
       "    </tr>\n",
       "</table>"
      ],
      "text/plain": [
       "[(182623, 8.29, 57.21)]"
      ]
     },
     "execution_count": 55,
     "metadata": {},
     "output_type": "execute_result"
    }
   ],
   "source": [
    "%%sql\n",
    "with \n",
    "    total as (select count(*) as total from alias),\n",
    "    total_redefs as (select count(distinct alias_id) as total_redefs from alias join command using (alias_id) where alias.name = command.name)\n",
    "select \n",
    "    count(distinct alias_id) as '#', \n",
    "    round(count(distinct alias_id)*100.0/total,2) as '%',\n",
    "    round(count(distinct alias_id)*100.0/total_redefs,2) as '% of redefines'\n",
    "from alias join command using (alias_id)\n",
    "join total\n",
    "join total_redefs\n",
    "where\n",
    "    ((alias.value like '%color%' and alias.value not like '%color=never%')\n",
    "    or (alias.value like '%colour%' and alias.value not like '%colour=never%')\n",
    "    or alias.value like '%pygmentize%'\n",
    "    or alias.value like '%grc %'\n",
    "    or alias.value like '%grcat %'\n",
    "    or (command.name = 'less' and command.arguments like '%r%')\n",
    "    or (command.name = 'tmux' and (command.arguments like '%-2%' or command.arguments like '%-T 256%'))\n",
    "    )\n",
    "and (\n",
    "    alias.name = command.name \n",
    "    or alias.name in known_commands\n",
    ")"
   ]
  },
  {
   "cell_type": "code",
   "execution_count": 57,
   "metadata": {},
   "outputs": [
    {
     "name": "stdout",
     "output_type": "stream",
     "text": [
      " * sqlite:///results.db\n",
      "Done.\n"
     ]
    },
    {
     "data": {
      "text/html": [
       "<table>\n",
       "    <tr>\n",
       "        <th>#</th>\n",
       "        <th>%</th>\n",
       "    </tr>\n",
       "    <tr>\n",
       "        <td>223698</td>\n",
       "        <td>10.15</td>\n",
       "    </tr>\n",
       "</table>"
      ],
      "text/plain": [
       "[(223698, 10.15)]"
      ]
     },
     "execution_count": 57,
     "metadata": {},
     "output_type": "execute_result"
    }
   ],
   "source": [
    "%%sql\n",
    "with total as (select count(*) as total from alias)\n",
    "select \n",
    "    count(distinct alias_id) as '#', \n",
    "    round(count(distinct alias_id)*100.0/total,2) as '%'\n",
    "from alias join command using (alias_id)\n",
    "join total\n",
    "where\n",
    "    ((alias.value like '%color%' and alias.value not like '%color=never%')\n",
    "    or (alias.value like '%colour%' and alias.value not like '%colour=never%')\n",
    "    or alias.value like '%pygmentize%'\n",
    "    or alias.value like '%grc %'\n",
    "    or alias.value like '%grcat %'\n",
    "    or (command.name = 'less' and command.arguments like '%r%')\n",
    "    or (command.name = 'tmux' and (command.arguments like '%-2%' or command.arguments like '%-T 256%'))\n",
    "    )"
   ]
  },
  {
   "cell_type": "code",
   "execution_count": null,
   "metadata": {},
   "outputs": [],
   "source": []
  }
 ],
 "metadata": {
  "kernelspec": {
   "display_name": "Python 3.7.6 64-bit",
   "language": "python",
   "name": "python37664bit0fda1b1dbdee481db7662a4e7d3141e4"
  },
  "language_info": {
   "codemirror_mode": {
    "name": "ipython",
    "version": 3
   },
   "file_extension": ".py",
   "mimetype": "text/x-python",
   "name": "python",
   "nbconvert_exporter": "python",
   "pygments_lexer": "ipython3",
   "version": "3.8.5"
  }
 },
 "nbformat": 4,
 "nbformat_minor": 4
}
