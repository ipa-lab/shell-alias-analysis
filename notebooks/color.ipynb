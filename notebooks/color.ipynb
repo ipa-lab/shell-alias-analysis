{
 "cells": [
  {
   "cell_type": "code",
   "execution_count": 1,
   "metadata": {},
   "outputs": [],
   "source": [
    "import sqlite3\n",
    "import pandas as pd\n",
    "import matplotlib.pyplot as plt\n",
    "%matplotlib inline\n",
    "%load_ext sql"
   ]
  },
  {
   "cell_type": "code",
   "execution_count": 2,
   "metadata": {},
   "outputs": [],
   "source": [
    "%sql sqlite:///results.db"
   ]
  },
  {
   "cell_type": "markdown",
   "metadata": {},
   "source": [
    "# Color"
   ]
  },
  {
   "cell_type": "code",
   "execution_count": 64,
   "metadata": {},
   "outputs": [
    {
     "name": "stdout",
     "output_type": "stream",
     "text": [
      " * sqlite:///results.db\n",
      "Done.\n"
     ]
    },
    {
     "data": {
      "text/plain": [
       "[]"
      ]
     },
     "execution_count": 64,
     "metadata": {},
     "output_type": "execute_result"
    }
   ],
   "source": [
    "%%sql\n",
    "create view aliases_colorizing_output as\n",
    "select distinct alias_id\n",
    "from alias join command using (alias_id)\n",
    "where \n",
    "    (alias.value like '%color%' and alias.value not like '%color=never%')\n",
    "    or (alias.value like '%colour%' and alias.value not like '%colour=never%')\n",
    "    or alias.value like '%pygmentize%'\n",
    "    or alias.value like '%grc %'\n",
    "    or alias.value like '%grcat %'\n",
    "    or (command.name = 'less' and command.arguments like '%r%')\n",
    "    or (command.name = 'tmux' and (command.arguments like '%-2%' or command.arguments like '%-T 256%'))"
   ]
  },
  {
   "cell_type": "code",
   "execution_count": 67,
   "metadata": {},
   "outputs": [
    {
     "name": "stdout",
     "output_type": "stream",
     "text": [
      " * sqlite:///results.db\n",
      "Done.\n"
     ]
    },
    {
     "data": {
      "text/html": [
       "<table>\n",
       "    <tr>\n",
       "        <th>#</th>\n",
       "        <th>%</th>\n",
       "        <th>% of redefines</th>\n",
       "    </tr>\n",
       "    <tr>\n",
       "        <td>182624</td>\n",
       "        <td>8.29</td>\n",
       "        <td>57.21</td>\n",
       "    </tr>\n",
       "</table>"
      ],
      "text/plain": [
       "[(182624, 8.29, 57.21)]"
      ]
     },
     "execution_count": 67,
     "metadata": {},
     "output_type": "execute_result"
    }
   ],
   "source": [
    "%%sql\n",
    "with \n",
    "    total as (select count(*) as total from alias),\n",
    "    total_redefs as (select count(distinct alias_id) as total_redefs from alias join command using (alias_id) where alias.name = command.name)\n",
    "select \n",
    "    count(distinct alias_id) as '#', \n",
    "    round(count(distinct alias_id)*100.0/total,2) as '%',\n",
    "    round(count(distinct alias_id)*100.0/total_redefs,2) as '% of redefines'\n",
    "from alias \n",
    "join aliases_colorizing_output using (alias_id)\n",
    "join command using (alias_id)\n",
    "join total\n",
    "join total_redefs\n",
    "where (\n",
    "    alias.name = command.name \n",
    "    or alias.name in known_commands\n",
    ")"
   ]
  },
  {
   "cell_type": "code",
   "execution_count": 68,
   "metadata": {},
   "outputs": [
    {
     "name": "stdout",
     "output_type": "stream",
     "text": [
      " * sqlite:///results.db\n",
      "Done.\n"
     ]
    },
    {
     "data": {
      "text/html": [
       "<table>\n",
       "    <tr>\n",
       "        <th>#</th>\n",
       "        <th>%</th>\n",
       "    </tr>\n",
       "    <tr>\n",
       "        <td>223698</td>\n",
       "        <td>10.15</td>\n",
       "    </tr>\n",
       "</table>"
      ],
      "text/plain": [
       "[(223698, 10.15)]"
      ]
     },
     "execution_count": 68,
     "metadata": {},
     "output_type": "execute_result"
    }
   ],
   "source": [
    "%%sql\n",
    "with total as (select count(*) as total from alias)\n",
    "select \n",
    "    count(distinct alias_id) as '#', \n",
    "    round(count(distinct alias_id)*100.0/total,2) as '%'\n",
    "from alias\n",
    "join aliases_colorizing_output using (alias_id)\n",
    "join total"
   ]
  },
  {
   "cell_type": "markdown",
   "metadata": {},
   "source": [
    "---\n",
    "## By Command"
   ]
  },
  {
   "cell_type": "code",
   "execution_count": 84,
   "metadata": {},
   "outputs": [
    {
     "name": "stdout",
     "output_type": "stream",
     "text": [
      " * sqlite:///results.db\n",
      "Done.\n"
     ]
    },
    {
     "data": {
      "text/html": [
       "<table>\n",
       "    <tr>\n",
       "        <th>cmd_name</th>\n",
       "        <th>num</th>\n",
       "        <th>per</th>\n",
       "    </tr>\n",
       "    <tr>\n",
       "        <td>colordiff</td>\n",
       "        <td>2164</td>\n",
       "        <td>100.89</td>\n",
       "    </tr>\n",
       "    <tr>\n",
       "        <td>colorls</td>\n",
       "        <td>1193</td>\n",
       "        <td>100.34</td>\n",
       "    </tr>\n",
       "    <tr>\n",
       "        <td>pygmentize</td>\n",
       "        <td>1413</td>\n",
       "        <td>100.21</td>\n",
       "    </tr>\n",
       "    <tr>\n",
       "        <td>colourify</td>\n",
       "        <td>1599</td>\n",
       "        <td>99.94</td>\n",
       "    </tr>\n",
       "    <tr>\n",
       "        <td>grc</td>\n",
       "        <td>1997</td>\n",
       "        <td>99.75</td>\n",
       "    </tr>\n",
       "    <tr>\n",
       "        <td>fgrep</td>\n",
       "        <td>26929</td>\n",
       "        <td>98.69</td>\n",
       "    </tr>\n",
       "    <tr>\n",
       "        <td>vdir</td>\n",
       "        <td>3155</td>\n",
       "        <td>95.58</td>\n",
       "    </tr>\n",
       "    <tr>\n",
       "        <td>diff</td>\n",
       "        <td>4319</td>\n",
       "        <td>91.95</td>\n",
       "    </tr>\n",
       "    <tr>\n",
       "        <td>egrep</td>\n",
       "        <td>28291</td>\n",
       "        <td>90.7</td>\n",
       "    </tr>\n",
       "    <tr>\n",
       "        <td>gls</td>\n",
       "        <td>2583</td>\n",
       "        <td>89.16</td>\n",
       "    </tr>\n",
       "    <tr>\n",
       "        <td>dir</td>\n",
       "        <td>3943</td>\n",
       "        <td>75.36</td>\n",
       "    </tr>\n",
       "    <tr>\n",
       "        <td>grep</td>\n",
       "        <td>46871</td>\n",
       "        <td>54.42</td>\n",
       "    </tr>\n",
       "    <tr>\n",
       "        <td>command</td>\n",
       "        <td>1839</td>\n",
       "        <td>46.59</td>\n",
       "    </tr>\n",
       "    <tr>\n",
       "        <td>less</td>\n",
       "        <td>6260</td>\n",
       "        <td>38.3</td>\n",
       "    </tr>\n",
       "    <tr>\n",
       "        <td>ls</td>\n",
       "        <td>79339</td>\n",
       "        <td>29.56</td>\n",
       "    </tr>\n",
       "    <tr>\n",
       "        <td>tmux</td>\n",
       "        <td>5959</td>\n",
       "        <td>26.11</td>\n",
       "    </tr>\n",
       "</table>"
      ],
      "text/plain": [
       "[('colordiff', 2164, 100.89),\n",
       " ('colorls', 1193, 100.34),\n",
       " ('pygmentize', 1413, 100.21),\n",
       " ('colourify', 1599, 99.94),\n",
       " ('grc', 1997, 99.75),\n",
       " ('fgrep', 26929, 98.69),\n",
       " ('vdir', 3155, 95.58),\n",
       " ('diff', 4319, 91.95),\n",
       " ('egrep', 28291, 90.7),\n",
       " ('gls', 2583, 89.16),\n",
       " ('dir', 3943, 75.36),\n",
       " ('grep', 46871, 54.42),\n",
       " ('command', 1839, 46.59),\n",
       " ('less', 6260, 38.3),\n",
       " ('ls', 79339, 29.56),\n",
       " ('tmux', 5959, 26.11)]"
      ]
     },
     "execution_count": 84,
     "metadata": {},
     "output_type": "execute_result"
    }
   ],
   "source": [
    "%%sql\n",
    "select \n",
    "    cmd_name,\n",
    "    count(distinct alias_id) as num,\n",
    "    round(count(distinct alias_id)*100.0/total,2) as per\n",
    "from (\n",
    "    select command.name as cmd_name, alias_id\n",
    "    from alias \n",
    "    join aliases_colorizing_output using (alias_id) \n",
    "    join command using (alias_id)\n",
    "    where command.name not like '%=%'\n",
    "    \n",
    "    union\n",
    "    \n",
    "    select alias.name as cmd_name, alias_id\n",
    "    from alias\n",
    "    join aliases_colorizing_output using (alias_id)\n",
    "    where alias.name in known_commands\n",
    "    \n",
    "    union\n",
    "    \n",
    "    select argument.name as cmd_name, alias_id\n",
    "    from alias\n",
    "    join aliases_colorizing_output using (alias_id) \n",
    "    join command using (alias_id)\n",
    "    join argument using (command_id)\n",
    "    where argument.name in known_commands\n",
    ")   \n",
    "join command_alias_totals using (cmd_name)\n",
    "group by cmd_name\n",
    "having num > 1000 and per > 20\n",
    "order by per desc, num desc"
   ]
  },
  {
   "cell_type": "code",
   "execution_count": null,
   "metadata": {},
   "outputs": [],
   "source": []
  }
 ],
 "metadata": {
  "kernelspec": {
   "display_name": "Python 3.7.6 64-bit",
   "language": "python",
   "name": "python37664bit0fda1b1dbdee481db7662a4e7d3141e4"
  },
  "language_info": {
   "codemirror_mode": {
    "name": "ipython",
    "version": 3
   },
   "file_extension": ".py",
   "mimetype": "text/x-python",
   "name": "python",
   "nbconvert_exporter": "python",
   "pygments_lexer": "ipython3",
   "version": "3.8.5"
  }
 },
 "nbformat": 4,
 "nbformat_minor": 4
}
