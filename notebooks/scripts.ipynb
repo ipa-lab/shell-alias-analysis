{
 "cells": [
  {
   "cell_type": "code",
   "execution_count": 1,
   "metadata": {},
   "outputs": [],
   "source": [
    "import sqlite3\n",
    "import pandas as pd\n",
    "import matplotlib.pyplot as plt\n",
    "%matplotlib inline\n",
    "%load_ext sql"
   ]
  },
  {
   "cell_type": "code",
   "execution_count": 2,
   "metadata": {},
   "outputs": [],
   "source": [
    "%sql sqlite:///results.db"
   ]
  },
  {
   "cell_type": "markdown",
   "metadata": {},
   "source": [
    "# Scripts\n",
    "\n",
    "Any alias that is a composition of two or more commands."
   ]
  },
  {
   "cell_type": "code",
   "execution_count": 4,
   "metadata": {},
   "outputs": [
    {
     "name": "stdout",
     "output_type": "stream",
     "text": [
      " * sqlite:///results.db\n",
      "Done.\n"
     ]
    },
    {
     "data": {
      "text/html": [
       "<table>\n",
       "    <tr>\n",
       "        <th>#</th>\n",
       "        <th>%</th>\n",
       "    </tr>\n",
       "    <tr>\n",
       "        <td>204142</td>\n",
       "        <td>9.26</td>\n",
       "    </tr>\n",
       "</table>"
      ],
      "text/plain": [
       "[(204142, 9.26)]"
      ]
     },
     "execution_count": 4,
     "metadata": {},
     "output_type": "execute_result"
    }
   ],
   "source": [
    "%%sql\n",
    "with total as (select count(*) as total from alias)\n",
    "select \n",
    "    count(distinct alias_id) as '#', \n",
    "    round(count(distinct alias_id)*100.0/total,2) as '%' \n",
    "from alias join command using (alias_id)\n",
    "join total\n",
    "where alias.num_commands != 1;\n"
   ]
  },
  {
   "cell_type": "code",
   "execution_count": 6,
   "metadata": {},
   "outputs": [
    {
     "name": "stdout",
     "output_type": "stream",
     "text": [
      " * sqlite:///results.db\n",
      "Done.\n"
     ]
    },
    {
     "data": {
      "text/html": [
       "<table>\n",
       "    <tr>\n",
       "        <th>num_commands</th>\n",
       "        <th>#</th>\n",
       "        <th>%</th>\n",
       "    </tr>\n",
       "    <tr>\n",
       "        <td>1</td>\n",
       "        <td>2000057</td>\n",
       "        <td>90.74</td>\n",
       "    </tr>\n",
       "    <tr>\n",
       "        <td>2</td>\n",
       "        <td>137740</td>\n",
       "        <td>6.25</td>\n",
       "    </tr>\n",
       "    <tr>\n",
       "        <td>3</td>\n",
       "        <td>38178</td>\n",
       "        <td>1.73</td>\n",
       "    </tr>\n",
       "    <tr>\n",
       "        <td>4</td>\n",
       "        <td>15095</td>\n",
       "        <td>0.68</td>\n",
       "    </tr>\n",
       "    <tr>\n",
       "        <td>5</td>\n",
       "        <td>5799</td>\n",
       "        <td>0.26</td>\n",
       "    </tr>\n",
       "    <tr>\n",
       "        <td>6</td>\n",
       "        <td>3471</td>\n",
       "        <td>0.16</td>\n",
       "    </tr>\n",
       "    <tr>\n",
       "        <td>7</td>\n",
       "        <td>1481</td>\n",
       "        <td>0.07</td>\n",
       "    </tr>\n",
       "    <tr>\n",
       "        <td>8</td>\n",
       "        <td>998</td>\n",
       "        <td>0.05</td>\n",
       "    </tr>\n",
       "    <tr>\n",
       "        <td>9</td>\n",
       "        <td>642</td>\n",
       "        <td>0.03</td>\n",
       "    </tr>\n",
       "    <tr>\n",
       "        <td>10</td>\n",
       "        <td>263</td>\n",
       "        <td>0.01</td>\n",
       "    </tr>\n",
       "</table>"
      ],
      "text/plain": [
       "[(1, 2000057, 90.74),\n",
       " (2, 137740, 6.25),\n",
       " (3, 38178, 1.73),\n",
       " (4, 15095, 0.68),\n",
       " (5, 5799, 0.26),\n",
       " (6, 3471, 0.16),\n",
       " (7, 1481, 0.07),\n",
       " (8, 998, 0.05),\n",
       " (9, 642, 0.03),\n",
       " (10, 263, 0.01)]"
      ]
     },
     "execution_count": 6,
     "metadata": {},
     "output_type": "execute_result"
    }
   ],
   "source": [
    "%%sql\n",
    "with total as (select count(*) as total from alias)\n",
    "select num_commands, count(*) as '#', round(count(*)*100.0/total,2) as '%'\n",
    "from alias \n",
    "join total\n",
    "group by num_commands\n",
    "order by count(*) desc\n",
    "limit 10;"
   ]
  },
  {
   "cell_type": "markdown",
   "metadata": {},
   "source": [
    "### Most used operators"
   ]
  },
  {
   "cell_type": "code",
   "execution_count": 11,
   "metadata": {},
   "outputs": [
    {
     "name": "stdout",
     "output_type": "stream",
     "text": [
      " * sqlite:///results.db\n",
      "Done.\n"
     ]
    },
    {
     "data": {
      "text/html": [
       "<table>\n",
       "    <tr>\n",
       "        <th>operator</th>\n",
       "        <th>count(*)</th>\n",
       "        <th>round(count(*)*100.0/total, 2)</th>\n",
       "    </tr>\n",
       "    <tr>\n",
       "        <td>|</td>\n",
       "        <td>137000</td>\n",
       "        <td>39.66</td>\n",
       "    </tr>\n",
       "    <tr>\n",
       "        <td>;</td>\n",
       "        <td>102277</td>\n",
       "        <td>29.61</td>\n",
       "    </tr>\n",
       "    <tr>\n",
       "        <td>&amp;&amp;</td>\n",
       "        <td>92849</td>\n",
       "        <td>26.88</td>\n",
       "    </tr>\n",
       "    <tr>\n",
       "        <td>&amp;</td>\n",
       "        <td>9653</td>\n",
       "        <td>2.79</td>\n",
       "    </tr>\n",
       "    <tr>\n",
       "        <td>||</td>\n",
       "        <td>2910</td>\n",
       "        <td>0.84</td>\n",
       "    </tr>\n",
       "    <tr>\n",
       "        <td>|&amp;</td>\n",
       "        <td>746</td>\n",
       "        <td>0.22</td>\n",
       "    </tr>\n",
       "</table>"
      ],
      "text/plain": [
       "[('|', 137000, 39.66),\n",
       " (';', 102277, 29.61),\n",
       " ('&&', 92849, 26.88),\n",
       " ('&', 9653, 2.79),\n",
       " ('||', 2910, 0.84),\n",
       " ('|&', 746, 0.22)]"
      ]
     },
     "execution_count": 11,
     "metadata": {},
     "output_type": "execute_result"
    }
   ],
   "source": [
    "%%sql\n",
    "with total as (select count(*) as total from command where operator is not null)\n",
    "select operator, count(*), round(count(*)*100.0/total, 2) \n",
    "from command \n",
    "join total\n",
    "where operator is not null\n",
    "group by operator \n",
    "order by 2 desc"
   ]
  },
  {
   "cell_type": "markdown",
   "metadata": {},
   "source": [
    "### Operators by position"
   ]
  },
  {
   "cell_type": "code",
   "execution_count": 19,
   "metadata": {},
   "outputs": [
    {
     "name": "stdout",
     "output_type": "stream",
     "text": [
      " * sqlite:///results.db\n",
      "Done.\n",
      "Returning data to local variable ops_pos\n"
     ]
    }
   ],
   "source": [
    "%%sql ops_pos << \n",
    "select operator, position as pos, count(*) as num \n",
    "from command\n",
    "where operator is not null\n",
    "group by position, operator \n",
    "order by operator, position asc, num desc"
   ]
  },
  {
   "cell_type": "code",
   "execution_count": 20,
   "metadata": {},
   "outputs": [
    {
     "data": {
      "text/html": [
       "<div>\n",
       "<style scoped>\n",
       "    .dataframe tbody tr th:only-of-type {\n",
       "        vertical-align: middle;\n",
       "    }\n",
       "\n",
       "    .dataframe tbody tr th {\n",
       "        vertical-align: top;\n",
       "    }\n",
       "\n",
       "    .dataframe thead th {\n",
       "        text-align: right;\n",
       "    }\n",
       "</style>\n",
       "<table border=\"1\" class=\"dataframe\">\n",
       "  <thead>\n",
       "    <tr style=\"text-align: right;\">\n",
       "      <th>operator</th>\n",
       "      <th>|</th>\n",
       "      <th>|&amp;</th>\n",
       "      <th>&amp;</th>\n",
       "      <th>;</th>\n",
       "      <th>&amp;&amp;</th>\n",
       "      <th>||</th>\n",
       "    </tr>\n",
       "    <tr>\n",
       "      <th>pos</th>\n",
       "      <th></th>\n",
       "      <th></th>\n",
       "      <th></th>\n",
       "      <th></th>\n",
       "      <th></th>\n",
       "      <th></th>\n",
       "    </tr>\n",
       "  </thead>\n",
       "  <tbody>\n",
       "    <tr>\n",
       "      <th>0</th>\n",
       "      <td>14619.0</td>\n",
       "      <td>671.0</td>\n",
       "      <td>62.0</td>\n",
       "      <td>61.0</td>\n",
       "      <td>51.0</td>\n",
       "      <td>3.0</td>\n",
       "    </tr>\n",
       "    <tr>\n",
       "      <th>1</th>\n",
       "      <td>78082.0</td>\n",
       "      <td>62.0</td>\n",
       "      <td>8109.0</td>\n",
       "      <td>53208.0</td>\n",
       "      <td>62901.0</td>\n",
       "      <td>1780.0</td>\n",
       "    </tr>\n",
       "    <tr>\n",
       "      <th>2</th>\n",
       "      <td>25622.0</td>\n",
       "      <td>10.0</td>\n",
       "      <td>897.0</td>\n",
       "      <td>22083.0</td>\n",
       "      <td>17124.0</td>\n",
       "      <td>666.0</td>\n",
       "    </tr>\n",
       "    <tr>\n",
       "      <th>3</th>\n",
       "      <td>9923.0</td>\n",
       "      <td>3.0</td>\n",
       "      <td>249.0</td>\n",
       "      <td>11100.0</td>\n",
       "      <td>6744.0</td>\n",
       "      <td>205.0</td>\n",
       "    </tr>\n",
       "    <tr>\n",
       "      <th>4</th>\n",
       "      <td>4307.0</td>\n",
       "      <td>NaN</td>\n",
       "      <td>102.0</td>\n",
       "      <td>5781.0</td>\n",
       "      <td>2824.0</td>\n",
       "      <td>115.0</td>\n",
       "    </tr>\n",
       "    <tr>\n",
       "      <th>5</th>\n",
       "      <td>2617.0</td>\n",
       "      <td>NaN</td>\n",
       "      <td>54.0</td>\n",
       "      <td>3370.0</td>\n",
       "      <td>1247.0</td>\n",
       "      <td>42.0</td>\n",
       "    </tr>\n",
       "    <tr>\n",
       "      <th>6</th>\n",
       "      <td>903.0</td>\n",
       "      <td>NaN</td>\n",
       "      <td>33.0</td>\n",
       "      <td>2215.0</td>\n",
       "      <td>686.0</td>\n",
       "      <td>22.0</td>\n",
       "    </tr>\n",
       "    <tr>\n",
       "      <th>7</th>\n",
       "      <td>464.0</td>\n",
       "      <td>NaN</td>\n",
       "      <td>29.0</td>\n",
       "      <td>1502.0</td>\n",
       "      <td>368.0</td>\n",
       "      <td>15.0</td>\n",
       "    </tr>\n",
       "    <tr>\n",
       "      <th>8</th>\n",
       "      <td>149.0</td>\n",
       "      <td>NaN</td>\n",
       "      <td>22.0</td>\n",
       "      <td>985.0</td>\n",
       "      <td>215.0</td>\n",
       "      <td>9.0</td>\n",
       "    </tr>\n",
       "    <tr>\n",
       "      <th>9</th>\n",
       "      <td>76.0</td>\n",
       "      <td>NaN</td>\n",
       "      <td>15.0</td>\n",
       "      <td>467.0</td>\n",
       "      <td>170.0</td>\n",
       "      <td>10.0</td>\n",
       "    </tr>\n",
       "    <tr>\n",
       "      <th>10</th>\n",
       "      <td>56.0</td>\n",
       "      <td>NaN</td>\n",
       "      <td>9.0</td>\n",
       "      <td>308.0</td>\n",
       "      <td>98.0</td>\n",
       "      <td>4.0</td>\n",
       "    </tr>\n",
       "  </tbody>\n",
       "</table>\n",
       "</div>"
      ],
      "text/plain": [
       "operator        |     |&       &        ;       &&      ||\n",
       "pos                                                       \n",
       "0         14619.0  671.0    62.0     61.0     51.0     3.0\n",
       "1         78082.0   62.0  8109.0  53208.0  62901.0  1780.0\n",
       "2         25622.0   10.0   897.0  22083.0  17124.0   666.0\n",
       "3          9923.0    3.0   249.0  11100.0   6744.0   205.0\n",
       "4          4307.0    NaN   102.0   5781.0   2824.0   115.0\n",
       "5          2617.0    NaN    54.0   3370.0   1247.0    42.0\n",
       "6           903.0    NaN    33.0   2215.0    686.0    22.0\n",
       "7           464.0    NaN    29.0   1502.0    368.0    15.0\n",
       "8           149.0    NaN    22.0    985.0    215.0     9.0\n",
       "9            76.0    NaN    15.0    467.0    170.0    10.0\n",
       "10           56.0    NaN     9.0    308.0     98.0     4.0"
      ]
     },
     "execution_count": 20,
     "metadata": {},
     "output_type": "execute_result"
    }
   ],
   "source": [
    "ops_pos = ops_pos.DataFrame().pivot(index='pos', columns='operator', values='num')[:11]\n",
    "ops_pos = ops_pos.sort_values(ops_pos.first_valid_index(), axis=1, ascending=False)\n",
    "ops_pos"
   ]
  }
 ],
 "metadata": {
  "kernelspec": {
   "display_name": "Python 3.7.6 64-bit",
   "language": "python",
   "name": "python37664bit0fda1b1dbdee481db7662a4e7d3141e4"
  },
  "language_info": {
   "codemirror_mode": {
    "name": "ipython",
    "version": 3
   },
   "file_extension": ".py",
   "mimetype": "text/x-python",
   "name": "python",
   "nbconvert_exporter": "python",
   "pygments_lexer": "ipython3",
   "version": "3.8.5"
  }
 },
 "nbformat": 4,
 "nbformat_minor": 4
}
