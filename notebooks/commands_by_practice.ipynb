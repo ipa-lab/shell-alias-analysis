{
 "cells": [
  {
   "cell_type": "code",
   "execution_count": 1,
   "metadata": {},
   "outputs": [],
   "source": [
    "import sqlite3\n",
    "import pandas as pd\n",
    "import matplotlib.pyplot as plt\n",
    "%matplotlib inline\n",
    "%load_ext sql"
   ]
  },
  {
   "cell_type": "code",
   "execution_count": 2,
   "metadata": {},
   "outputs": [],
   "source": [
    "%sql sqlite:///results.db"
   ]
  },
  {
   "cell_type": "markdown",
   "metadata": {},
   "source": [
    "# Code for Generating the Big Table of Commands Broken Down by Customization Practice\n",
    "\n",
    "Some stuff is spread out over the other notebooks."
   ]
  },
  {
   "cell_type": "code",
   "execution_count": 3,
   "metadata": {},
   "outputs": [
    {
     "name": "stdout",
     "output_type": "stream",
     "text": [
      " * sqlite:///results.db\n",
      "Done.\n"
     ]
    },
    {
     "data": {
      "text/plain": [
       "[]"
      ]
     },
     "execution_count": 3,
     "metadata": {},
     "output_type": "execute_result"
    }
   ],
   "source": [
    "%%sql\n",
    "create view command_alias_totals as\n",
    "select cmd_name, count(distinct alias_id) as total\n",
    "    from (\n",
    "        select command.name as cmd_name, alias_id from command\n",
    "        union\n",
    "        select alias.name as cmd_name, alias_id from alias where alias.name in known_commands\n",
    "    )\n",
    "    group by cmd_name"
   ]
  },
  {
   "cell_type": "code",
   "execution_count": 7,
   "metadata": {},
   "outputs": [
    {
     "name": "stdout",
     "output_type": "stream",
     "text": [
      " * sqlite:///results.db\n",
      "Done.\n",
      "Done.\n",
      "41 rows affected.\n"
     ]
    },
    {
     "data": {
      "text/plain": [
       "[]"
      ]
     },
     "execution_count": 7,
     "metadata": {},
     "output_type": "execute_result"
    }
   ],
   "source": [
    "%%sql\n",
    "drop table if exists selected_commands;\n",
    "create temporary table selected_commands (command_synonym_id integer, cmd_name text);\n",
    "insert into selected_commands values\n",
    "(1,'git'),\n",
    "(1,'/usr/bin/git'),\n",
    "(2,'hg'),\n",
    "(3,'grep'),\n",
    "(3,'egrep'),\n",
    "(3,'fgrep'),\n",
    "(4,'sort'),\n",
    "(5,'vi'),\n",
    "(5,'vim'),\n",
    "(5,'nvim'),\n",
    "(5,'mvim'),\n",
    "(6,'emacs'),\n",
    "(6,'emacsclient'),\n",
    "(7,'sed'),\n",
    "(8,'subl'),\n",
    "(9,'nano'),\n",
    "(10,'ls'),\n",
    "(11,'cd'),\n",
    "(12,'rm'),\n",
    "(13,'cp'),\n",
    "(14,'mv'),\n",
    "(15,'du'),\n",
    "(16,'mkdir'),\n",
    "(17,'df'),\n",
    "(18,'docker'),\n",
    "(18,'docker-compose'),\n",
    "(18,'docker-machine'),\n",
    "(19,'kubectl'),\n",
    "(19,'k'),\n",
    "(20,'vagrant'),\n",
    "(21,'ssh'),\n",
    "(22,'curl'),\n",
    "(23,'wget'),\n",
    "(24,'apt'),\n",
    "(24,'apt-get'),\n",
    "(24,'apt-cache'),\n",
    "(24,'aptitude'),\n",
    "(24,'$apt_pref'),\n",
    "(25,'pacman'),\n",
    "(26,'brew'),\n",
    "(27,'tmux');"
   ]
  },
  {
   "cell_type": "code",
   "execution_count": 9,
   "metadata": {},
   "outputs": [
    {
     "name": "stdout",
     "output_type": "stream",
     "text": [
      " * sqlite:///results.db\n",
      "Done.\n",
      "Returning data to local variable bigtable\n"
     ]
    }
   ],
   "source": [
    "%%sql bigtable <<\n",
    "\n",
    "with cmds as (select cmd_name from selected_commands)\n",
    "\n",
    "select \n",
    "\n",
    "'',\n",
    "'\\texttt{{' || cmd_name || '}}' as 'Command',\n",
    "'\\num{{' || sum(total) || '}}' as '# Aliases',\n",
    "'',\n",
    "'\\pie{{' || round(sum(nicknaming)*100.0/sum(total),2) || '}}' as 'Nicknaming Commands',\n",
    "'\\pie{{' || round(sum(abbreviating)*100.0/sum(total),2) || '}}' as 'Abbreviating Subcommands',\n",
    "'\\pie{{' || round(sum(bookmarking)*100.0/sum(total),2) || '}}' as 'Bookmarking Locations',\n",
    "'',\n",
    "'\\pie{{' || round(sum(substituting)*100.0/sum(total),2) || '}}' as 'Substituting Commands',\n",
    "'\\pie{{' || round(sum(overriding)*100.0/sum(total),2) || '}}' as 'Overriding Defaults',\n",
    "'\\pie{{' || round(sum(colorizing)*100.0/sum(total),2) || '}}' as 'Colorizing Output',\n",
    "'\\pie{{' || round(sum(elevating)*100.0/sum(total),2) || '}}' as 'Elevating Privilege',\n",
    "'',\n",
    "'\\pie{{' || round(sum(transforming)*100.0/sum(total),2) || '}}' as 'Transforming Data',\n",
    "'\\pie{{' || round(sum(chaining)*100.0/sum(total),2) || '}}' as 'Chaining Subcommands',\n",
    "'',\n",
    "'\\hist{{' || cmd_name || '}}' as 'Compression Ratio'\n",
    "\n",
    "from\n",
    "\n",
    "(select * from command_alias_totals where cmd_name in cmds)\n",
    "\n",
    "left outer join (select * from selected_commands) using (cmd_name)\n",
    "\n",
    "left outer join (\n",
    "\n",
    "select command.name as cmd_name, count(distinct alias_id) as nicknaming\n",
    "from alias join command using (alias_id)\n",
    "where alias.value = command.name\n",
    "and alias.name != command.name\n",
    "and alias.name not in known_commands\n",
    "and cmd_name in cmds group by cmd_name\n",
    "\n",
    ") using (cmd_name) left outer join (    \n",
    "\n",
    "    select command.name as cmd_name, count(distinct alias_id) as abbreviating\n",
    "    from alias join command using (alias_id)\n",
    "    where alias.num_commands = 1\n",
    "    and command.num_arguments = 1\n",
    "    and command.name in commands_with_subcommands\n",
    "    and cmd_name in cmds group by cmd_name\n",
    "    \n",
    ") using (cmd_name) left outer join (\n",
    "\n",
    "    select command.name as cmd_name, count(distinct alias_id) as bookmarking\n",
    "    from argument\n",
    "    join bookmark using (argument_id)\n",
    "    join command using (command_id)\n",
    "    where cmd_name in cmds group by cmd_name\n",
    "\n",
    ") using (cmd_name) left outer join (\n",
    "\n",
    "    select cmd_name, count(distinct alias_id) as substituting from (\n",
    "\n",
    "        select alias.name as cmd_name, alias_id\n",
    "        from alias\n",
    "        where alias.name in known_commands\n",
    "        and alias.value != alias.name\n",
    "        and alias.value not like alias.name || ' %'\n",
    "        and alias.value not like '% ' || alias.name\n",
    "        and alias.value not like '% ' || alias.name || ' %'\n",
    "        and cmd_name in cmds\n",
    "    \n",
    "        union\n",
    "    \n",
    "        select command.name as cmd_name, alias_id\n",
    "        from alias join command using (alias_id)\n",
    "        where alias.name in known_commands\n",
    "        and alias.value != alias.name\n",
    "        and alias.value not like alias.name || ' %'\n",
    "        and alias.value not like '% ' || alias.name\n",
    "        and alias.value not like '% ' || alias.name || ' %'\n",
    "        and cmd_name in cmds\n",
    "\n",
    "    ) group by cmd_name\n",
    "\n",
    ") using (cmd_name) left outer join (\n",
    "\n",
    "    select command.name as cmd_name, count(distinct alias_id) as overriding\n",
    "    from alias join command using (alias_id)\n",
    "    where alias.name = command.name\n",
    "    and cmd_name in cmds group by cmd_name\n",
    "\n",
    ") using (cmd_name) left outer join (\n",
    "\n",
    "    select cmd_name, count(distinct alias_id) as colorizing from (\n",
    "    \n",
    "        select command.name as cmd_name, alias_id\n",
    "        from alias \n",
    "        join aliases_colorizing_output using (alias_id) \n",
    "        join command using (alias_id)\n",
    "        where command.name not like '%=%'\n",
    "        and cmd_name in cmds\n",
    "    \n",
    "        union\n",
    "    \n",
    "        select alias.name as cmd_name, alias_id\n",
    "        from alias\n",
    "        join aliases_colorizing_output using (alias_id)\n",
    "        where alias.name in known_commands\n",
    "        and cmd_name in cmds\n",
    "    \n",
    "        union\n",
    "    \n",
    "        select argument.name as cmd_name, alias_id\n",
    "        from alias\n",
    "        join aliases_colorizing_output using (alias_id) \n",
    "        join command using (alias_id)\n",
    "        join argument using (command_id)\n",
    "        where argument.name in known_commands\n",
    "        and cmd_name in cmds\n",
    "\n",
    "    ) group by cmd_name\n",
    "\n",
    ") using (cmd_name) left outer join (\n",
    "\n",
    "    select command.name as cmd_name, count(distinct alias_id) as elevating\n",
    "    from command\n",
    "    where command.sudo = 1\n",
    "    and command.name not like '-%'\n",
    "    and cmd_name in cmds group by cmd_name\n",
    "\n",
    ") using (cmd_name) left outer join (\n",
    "\n",
    "    select command.name as cmd_name, count(distinct alias_id) as transforming\n",
    "    from command\n",
    "    where command.operator = '|'\n",
    "    and cmd_name in cmds group by cmd_name\n",
    "\n",
    ") using (cmd_name) left outer join (\n",
    "\n",
    "    select c1.name as cmd_name, count(distinct alias_id) as chaining\n",
    "    from alias \n",
    "    join command c1 using (alias_id)\n",
    "    join command c2 using (alias_id)\n",
    "    where c1.name in commands_with_subcommands\n",
    "    and c1.name = c2.name\n",
    "    and c2.position = c1.position + 1\n",
    "    and (c2.operator = '&&' or c2.operator = ';')\n",
    "    and cmd_name in cmds group by cmd_name\n",
    "\n",
    ") using (cmd_name)\n",
    "\n",
    "\n",
    "group by command_synonym_id"
   ]
  },
  {
   "cell_type": "code",
   "execution_count": 10,
   "metadata": {},
   "outputs": [
    {
     "name": "stdout",
     "output_type": "stream",
     "text": [
      "\\begin{tabular}{llrlllllllllllllccc}\n",
      "\\toprule\n",
      "'' &                Command &     # Aliases & '' & Nicknaming Commands & Abbreviating Subcommands & Bookmarking Locations & '' & Substituting Commands & Overriding Defaults & Colorizing Output & Elevating Privilege & '' & Transforming Data & Chaining Subcommands & '' &    Compression Ratio \\\\\n",
      "\\midrule\n",
      "   &  \\texttt{/usr/bin/git} &  \\num{315841} &    &          \\pie{3.44} &              \\pie{36.11} &            \\pie{1.84} &    &            \\pie{0.97} &          \\pie{0.04} &        \\pie{1.26} &          \\pie{0.03} &    &        \\pie{0.05} &           \\pie{3.82} &    &  \\hist{/usr/bin/git} \\\\\n",
      "   &            \\texttt{hg} &    \\num{2799} &    &          \\pie{2.47} &              \\pie{44.52} &            \\pie{2.22} &    &           \\pie{22.15} &          \\pie{0.57} &        \\pie{1.68} &                None &    &        \\pie{0.07} &           \\pie{3.43} &    &            \\hist{hg} \\\\\n",
      "   &         \\texttt{egrep} &  \\num{144606} &    &          \\pie{0.59} &                     None &            \\pie{1.86} &    &            \\pie{2.39} &         \\pie{67.06} &        \\pie{70.6} &          \\pie{0.03} &    &       \\pie{25.48} &                 None &    &         \\hist{egrep} \\\\\n",
      "   &          \\texttt{sort} &   \\num{10802} &    &          \\pie{0.19} &                     None &            \\pie{0.35} &    &            \\pie{1.46} &          \\pie{0.15} &        \\pie{0.65} &          \\pie{0.01} &    &       \\pie{95.97} &                 None &    &          \\hist{sort} \\\\\n",
      "   &          \\texttt{mvim} &   \\num{99521} &    &          \\pie{8.68} &                     None &           \\pie{29.12} &    &           \\pie{50.52} &          \\pie{1.68} &        \\pie{0.39} &          \\pie{3.41} &    &        \\pie{0.73} &                 None &    &          \\hist{mvim} \\\\\n",
      "   &         \\texttt{emacs} &   \\num{12990} &    &         \\pie{11.74} &                     None &            \\pie{8.31} &    &           \\pie{18.41} &         \\pie{12.04} &         \\pie{1.8} &          \\pie{2.03} &    &        \\pie{0.02} &                 None &    &         \\hist{emacs} \\\\\n",
      "   &           \\texttt{sed} &    \\num{7545} &    &          \\pie{0.46} &                     None &           \\pie{20.32} &    &           \\pie{14.04} &          \\pie{2.03} &        \\pie{2.68} &           \\pie{0.8} &    &       \\pie{70.01} &                 None &    &           \\hist{sed} \\\\\n",
      "   &          \\texttt{subl} &    \\num{5030} &    &          \\pie{10.6} &                     None &           \\pie{31.49} &    &            \\pie{44.0} &          \\pie{1.39} &         \\pie{0.1} &          \\pie{1.93} &    &        \\pie{1.15} &                 None &    &          \\hist{subl} \\\\\n",
      "   &          \\texttt{nano} &    \\num{4030} &    &          \\pie{6.67} &                     None &           \\pie{36.97} &    &           \\pie{11.17} &         \\pie{16.63} &        \\pie{0.15} &         \\pie{16.72} &    &        \\pie{0.05} &                 None &    &          \\hist{nano} \\\\\n",
      "   &            \\texttt{ls} &  \\num{268423} &    &           \\pie{2.2} &                     None &            \\pie{0.61} &    &            \\pie{3.41} &         \\pie{28.08} &       \\pie{29.56} &          \\pie{0.04} &    &         \\pie{0.0} &                 None &    &            \\hist{ls} \\\\\n",
      "   &            \\texttt{cd} &  \\num{164164} &    &          \\pie{1.07} &                     None &           \\pie{45.61} &    &            \\pie{1.78} &          \\pie{0.16} &         \\pie{0.1} &          \\pie{0.01} &    &         \\pie{0.0} &                 None &    &            \\hist{cd} \\\\\n",
      "   &            \\texttt{rm} &   \\num{26131} &    &          \\pie{0.93} &                     None &           \\pie{19.67} &    &             \\pie{9.3} &         \\pie{49.45} &        \\pie{0.07} &          \\pie{8.43} &    &        \\pie{0.07} &                 None &    &            \\hist{rm} \\\\\n",
      "   &            \\texttt{cp} &   \\num{18628} &    &          \\pie{1.14} &                     None &           \\pie{13.28} &    &            \\pie{3.24} &         \\pie{74.37} &        \\pie{0.16} &           \\pie{1.8} &    &        \\pie{0.04} &                 None &    &            \\hist{cp} \\\\\n",
      "   &            \\texttt{mv} &   \\num{14897} &    &          \\pie{1.91} &                     None &             \\pie{5.1} &    &            \\pie{3.13} &         \\pie{81.23} &        \\pie{0.01} &          \\pie{1.01} &    &        \\pie{0.01} &                 None &    &            \\hist{mv} \\\\\n",
      "   &            \\texttt{du} &   \\num{12480} &    &          \\pie{0.04} &                     None &            \\pie{3.13} &    &            \\pie{3.91} &         \\pie{45.45} &        \\pie{2.01} &          \\pie{1.75} &    &        \\pie{0.02} &                 None &    &            \\hist{du} \\\\\n",
      "   &         \\texttt{mkdir} &   \\num{10351} &    &         \\pie{10.11} &                     None &            \\pie{4.37} &    &            \\pie{2.02} &         \\pie{57.72} &        \\pie{0.05} &          \\pie{0.72} &    &        \\pie{0.01} &                 None &    &         \\hist{mkdir} \\\\\n",
      "   &            \\texttt{df} &   \\num{10266} &    &          \\pie{0.18} &                     None &             \\pie{0.3} &    &            \\pie{4.41} &         \\pie{82.09} &        \\pie{0.78} &          \\pie{0.17} &    &              None &                 None &    &            \\hist{df} \\\\\n",
      "   &        \\texttt{docker} &   \\num{39111} &    &         \\pie{16.36} &              \\pie{23.87} &           \\pie{11.48} &    &            \\pie{0.89} &          \\pie{0.99} &         \\pie{0.1} &          \\pie{4.19} &    &        \\pie{0.09} &           \\pie{2.75} &    &        \\hist{docker} \\\\\n",
      "   &             \\texttt{k} &   \\num{12610} &    &         \\pie{20.37} &              \\pie{13.94} &            \\pie{2.31} &    &            \\pie{0.75} &          \\pie{1.03} &        \\pie{0.03} &          \\pie{0.13} &    &        \\pie{0.06} &           \\pie{0.21} &    &             \\hist{k} \\\\\n",
      "   &       \\texttt{vagrant} &    \\num{6847} &    &         \\pie{10.79} &              \\pie{63.27} &            \\pie{1.04} &    &             \\pie{0.8} &          \\pie{0.13} &        \\pie{0.19} &          \\pie{0.34} &    &        \\pie{0.01} &            \\pie{4.7} &    &       \\hist{vagrant} \\\\\n",
      "   &           \\texttt{ssh} &   \\num{32573} &    &          \\pie{0.82} &                     None &           \\pie{65.43} &    &             \\pie{1.9} &          \\pie{3.86} &        \\pie{1.95} &          \\pie{0.28} &    &        \\pie{0.16} &                 None &    &           \\hist{ssh} \\\\\n",
      "   &          \\texttt{curl} &   \\num{10558} &    &           \\pie{0.4} &                     None &           \\pie{80.24} &    &            \\pie{4.23} &          \\pie{3.06} &        \\pie{0.42} &          \\pie{0.16} &    &         \\pie{0.3} &                 None &    &          \\hist{curl} \\\\\n",
      "   &          \\texttt{wget} &    \\num{3937} &    &           \\pie{1.3} &                     None &           \\pie{28.63} &    &            \\pie{7.47} &         \\pie{38.96} &        \\pie{0.03} &          \\pie{0.84} &    &              None &                 None &    &          \\hist{wget} \\\\\n",
      "   &     \\texttt{$apt_pref} &   \\num{17632} &    &          \\pie{1.28} &              \\pie{58.35} &            \\pie{0.11} &    &            \\pie{3.06} &          \\pie{4.37} &        \\pie{0.03} &         \\pie{75.24} &    &        \\pie{0.06} &          \\pie{17.04} &    &     \\hist{$apt_pref} \\\\\n",
      "   &        \\texttt{pacman} &   \\num{14798} &    &          \\pie{1.33} &              \\pie{67.02} &            \\pie{0.72} &    &            \\pie{4.09} &          \\pie{7.57} &        \\pie{7.12} &         \\pie{63.02} &    &         \\pie{0.3} &           \\pie{1.19} &    &        \\hist{pacman} \\\\\n",
      "   &          \\texttt{brew} &    \\num{8555} &    &          \\pie{3.12} &              \\pie{32.24} &            \\pie{0.89} &    &            \\pie{1.48} &          \\pie{0.16} &        \\pie{0.14} &          \\pie{1.68} &    &        \\pie{0.04} &          \\pie{33.77} &    &          \\hist{brew} \\\\\n",
      "   &          \\texttt{tmux} &   \\num{22821} &    &           \\pie{5.6} &                     None &            \\pie{4.37} &    &             \\pie{1.7} &         \\pie{18.52} &       \\pie{26.11} &          \\pie{0.04} &    &        \\pie{0.03} &                 None &    &          \\hist{tmux} \\\\\n",
      "\\bottomrule\n",
      "\\end{tabular}\n",
      "\n"
     ]
    }
   ],
   "source": [
    "print(bigtable.DataFrame().to_latex(index=False, escape=False, column_format='llrlllllllllllllccc'))"
   ]
  },
  {
   "cell_type": "code",
   "execution_count": null,
   "metadata": {},
   "outputs": [],
   "source": []
  }
 ],
 "metadata": {
  "kernelspec": {
   "display_name": "Python 3.7.6 64-bit",
   "language": "python",
   "name": "python37664bit0fda1b1dbdee481db7662a4e7d3141e4"
  },
  "language_info": {
   "codemirror_mode": {
    "name": "ipython",
    "version": 3
   },
   "file_extension": ".py",
   "mimetype": "text/x-python",
   "name": "python",
   "nbconvert_exporter": "python",
   "pygments_lexer": "ipython3",
   "version": "3.8.5"
  }
 },
 "nbformat": 4,
 "nbformat_minor": 4
}
