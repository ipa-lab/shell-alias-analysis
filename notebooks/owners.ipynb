{
 "cells": [
  {
   "cell_type": "markdown",
   "metadata": {},
   "source": [
    "For privacy and data protection reasons, the dataset does not include specific data about repository owners. The scrape_owners.py script uses the GitHub API to collect public profile information (like bio, email, and location) and adds it to the database. This notebook presumes the script has been run, and the data added."
   ]
  },
  {
   "cell_type": "code",
   "execution_count": 1,
   "metadata": {},
   "outputs": [],
   "source": [
    "import sqlite3\n",
    "import pandas as pd\n",
    "import matplotlib.pyplot as plt\n",
    "%matplotlib inline\n",
    "%load_ext sql"
   ]
  },
  {
   "cell_type": "code",
   "execution_count": 2,
   "metadata": {},
   "outputs": [],
   "source": [
    "%sql sqlite:///results.db"
   ]
  },
  {
   "cell_type": "code",
   "execution_count": 3,
   "metadata": {},
   "outputs": [
    {
     "name": "stdout",
     "output_type": "stream",
     "text": [
      " * sqlite:///results.db\n",
      "Done.\n"
     ]
    },
    {
     "data": {
      "text/html": "<table>\n    <tr>\n        <th>count(*)</th>\n    </tr>\n    <tr>\n        <td>122587</td>\n    </tr>\n</table>",
      "text/plain": "[(122587,)]"
     },
     "execution_count": 3,
     "metadata": {},
     "output_type": "execute_result"
    }
   ],
   "source": [
    "%sql select count(*) from owner;"
   ]
  },
  {
   "cell_type": "code",
   "execution_count": 10,
   "metadata": {},
   "outputs": [
    {
     "name": "stdout",
     "output_type": "stream",
     "text": [
      " * sqlite:///results.db\n",
      "Done.\n"
     ]
    }
   ],
   "source": [
    "locations = %sql select location, count(*) from owner where location is not null group by location;"
   ]
  },
  {
   "cell_type": "code",
   "execution_count": 35,
   "metadata": {},
   "outputs": [
    {
     "name": "stdout",
     "output_type": "stream",
     "text": [
      "[('japan', 3292), ('germany', 2627), ('china', 2093), ('uk', 1854), ('france', 1701), ('usa', 1663), ('canada', 1386), ('australia', 1124), ('brazil', 993), ('united states', 966), ('sweden', 940), ('russia', 819), ('india', 809), ('poland', 652), ('united kingdom', 613), ('taiwan', 566), ('switzerland', 525), ('spain', 521), ('norway', 462), ('ukraine', 417), ('netherlands', 411), ('italy', 397), ('the netherlands', 376), ('singapore', 367), ('belgium', 364), ('brasil', 336), ('denmark', 332), ('finland', 320), ('argentina', 274), ('ireland', 268), ('new zealand', 250), ('us', 247), ('czech republic', 237), ('portugal', 228), ('austria', 221), ('israel', 201), ('indonesia', 200), ('mexico', 196), ('bulgaria', 162), ('romania', 152), ('vietnam', 150), ('south korea', 141), ('greece', 140), ('hungary', 139), ('south africa', 128), ('philippines', 115), ('belarus', 108), ('hong kong', 108), ('chile', 98), ('turkey', 93), ('thailand', 84), ('colombia', 84), ('malaysia', 74), ('estonia', 70), ('croatia', 69), ('lithuania', 66), ('serbia', 65), ('jp', 60), ('slovakia', 58), ('republic of korea', 58), ('bangladesh', 53), ('latvia', 53), ('nl', 52), ('viet nam', 47), ('kenya', 43), ('uruguay', 40), ('russian federation', 40), ('deutschland', 37), ('egypt', 36), ('de', 36), ('peru', 36), ('iran', 34), ('slovenia', 33), ('iceland', 33), ('nepal', 33), ('espana', 32), ('sri lanka', 31), ('au', 30), ('luxembourg', 30), ('nigeria', 29), ('costa rica', 28), ('ecuador', 26), ('venezuela', 25), ('united states of america', 25), ('pakistan', 25), ('ru', 23), ('morocco', 21), ('日本', 19), ('国', 18), ('moldova', 17), ('it', 17), ('sverige', 17), ('algeria', 16), ('cz', 16), ('georgia', 16), ('guatemala', 16), ('jpn', 16), ('puerto rico', 15), ('ghana', 14), ('bairro', 13), ('paraguay', 12), ('cyprus', 12), ('polska', 12), ('tunisia', 12), ('kazakhstan', 11), ('island', 11), ('es', 11), ('bolivia', 11), ('id', 11), ('saudi arabia', 11), ('россия', 11), ('in', 10), ('dominican republic', 10), ('nederland', 9), ('be', 9), ('bj', 9), ('italia', 9), ('bosnia and herzegovina', 9), ('gb', 9), ('danmark', 9), ('ua', 9), ('中国', 9), ('armenia', 8), ('hongkong', 8), ('nicaragua', 8), ('suisse', 7), ('el salvador', 7), ('aus', 7), ('hu', 7), ('honduras', 7), ('panama', 7), ('za', 6), ('turkiye', 6), ('azerbaijan', 6), ('no', 6), ('cambodia', 6), ('tw', 6), ('myanmar', 6), ('中 国', 6), ('area', 5), ('aotearoa', 5), ('uganda', 5), ('mongolia', 5), ('kr', 5), ('usa earth', 4), ('chn', 4), ('lebanon', 4), ('kyrgyzstan', 4), ('cze', 4), ('cuba', 4), ('macedonia', 4), ('mauritius', 4), ('ca', 4), ('ke', 4), ('at', 4), ('oesterreich', 3), ('jordan', 3), ('tanzania', 3), ('iraq', 3), ('slovenija', 3), ('senegal', 3), ('qatar', 3), ('united arab emirates', 3), ('madagascar', 3), ('prc', 3), ('kuwait', 3), ('angola', 3), ('uzbekistan', 3), ('schweiz', 3), ('tunisie', 3), ('palestine', 2), ('kz', 2), ('aotearoa new zealand', 2), ('aruba', 2), ('belgique', 2), ('malawi', 2), ('svk', 2), ('sk', 2), ('cameroon', 2), ('can', 2), ('botswana', 2), ('germany baltic sea', 2), ('malta', 2), ('zimbabwe', 2), ('suomi', 2), ('mx', 2), ('tokyo', 2), ('jamaica', 2), ('korea republic of', 2), ('latvija', 2), ('and', 2), ('magyarorszag', 2), ('maldives', 2), ('co', 2), ('mozambique', 2), ('uy', 2), ('earth', 2), ('namibia', 2), ('norge', 2), ('oman', 2), ('romania brasov', 2), ('fr', 2), ('slovak republic', 2), ('taiwan roc', 2), ('zambia', 2), ('ceska republika', 2), ('中国 china', 2), ('美国', 2), ('대한민국', 2), ('sweden ⊕ skaaneland', 1), ('gh', 1), ('benin rwanda ghana kenya china', 1), ('new zealand earth', 1), ('austria greece', 1), ('austria uk', 1), ('pt', 1), ('bahamas', 1), ('baltic sea', 1), ('ba', 1), ('spain andorra', 1), ('belgium netherlands', 1), ('belize', 1), ('il', 1), ('bosnia and herzegovina sarajevo', 1), ('ng', 1), ('brasile', 1), ('montenegro', 1), ('royaume-uni', 1), ('cayman islands', 1), ('thailand australia taiwan united states netherlands', 1), ('huhan', 1), ('kong', 1), (\"cote d'ivoire\", 1), ('danemark', 1), ('netherland', 1), ('ethiopia', 1), ('france luxembourg', 1), ('france germany switzerland', 1), ('sierra leone', 1), ('germany rhein-ruhr-area', 1), ('germany crefeld', 1), ('germany and luxembourg', 1), ('leer', 1), ('germany berin', 1), ('germany europe', 1), ('guadeloupe', 1), ('zhongshan', 1), ('cn', 1), ('guyana', 1), ('germany earth', 1), ('nz', 1), ('fi', 1), ('yo', 1), ('seoul', 1), ('soka', 1), ('isle of man', 1), ('idn', 1), ('pref', 1), ('usa area', 1), ('india in', 1), ('kingdom of denmark', 1), ('kingdom of norway', 1), ('kingdom of saudi arabia', 1), ('democratic republic of the congo', 1), ('korea republika of', 1), ('kroatien', 1), ('ltu', 1), ('la reunion', 1), ('liechtenstein', 1), ('si', 1), ('key', 1), ('luxemburg', 1), ('reino unido', 1), ('maroc', 1), ('belguim', 1), ('www', 1), ('moldova republic of', 1), ('भरत', 1), ('deutschland singapore', 1), ('nld', 1), ('cali', 1), ('new caledonia', 1), ('new zealand slovakia', 1), ('republic of china', 1), ('north korea', 1), ('germany yet', 1), ('mauritania', 1), ('serbia europe', 1), ('fra', 1), ('kh', 1), ('me', 1), ('congo', 1), ('polynesie francaise', 1), ('haiti', 1), ('usa pdx', 1), ('south-africa', 1), ('cesko', 1), ('india asia', 1), ('reunion', 1), ('rsa', 1), ('republic of korea seoul', 1), ('republic of korea suwon', 1), ('republic of the philippines', 1), ('republik indonesia', 1), ('brazil earth', 1), ('saint lucia', 1), ('cr', 1), ('cl', 1), ('chile venezuela', 1), ('republica dominicana', 1), ('spain hnil', 1), ('south-korea', 1), ('guangzhou', 1), ('britain', 1), ('malaysia vietnam', 1), ('south korea utc+09', 1), ('peru usa', 1), ('abkhazia', 1), ('sweden timraa', 1), ('sweden sandviken', 1), ('switzerland greece', 1), ('switzerland netherlands czech republic', 1), ('switzerland luxembourg', 1), ('bra', 1), ('french polynesia', 1), ('taiwan japan', 1), ('taiwan 臺灣', 1), ('the netherlands eindhoven', 1), ('gr', 1), ('albania', 1), ('tokelau', 1), ('in japan', 1), ('mex', 1), ('libya', 1), ('turkmenistan belarus', 1), ('turks and caicos islands', 1), ('spain bilbao', 1), ('united kingdom dundee', 1), ('united kingdom exeter', 1), ('canada earth', 1), ('canda', 1), ('vatican city', 1), ('lt', 1), ('parc', 1), ('yemen', 1), ('hrvatska', 1), ('chaussee', 1), ('lv', 1), ('shibuya', 1), ('si republic of korea', 1), ('the netherlands assen', 1), ('ελλαδα', 1), ('индонезия', 1), ('украина', 1), ('canada ✈', 1), ('日 本', 1), ('美國', 1), ('香港', 1), ('서울', 1)]\n",
      "33293\n"
     ]
    }
   ],
   "source": [
    "from postal.expand import expand_address\n",
    "from postal.parser import parse_address\n",
    "\n",
    "countries = {}\n",
    "count = 0\n",
    "\n",
    "for row in locations:\n",
    "  loc = row[0]\n",
    "  expanded = expand_address(loc)\n",
    "  if len(expanded) > 0:\n",
    "    address = parse_address(expanded[0])\n",
    "    for a,b in address:\n",
    "      if b == 'country':\n",
    "        countries[a] = countries.get(a,0) + row[1]\n",
    "        count = count + row[1]\n",
    "\n",
    "print(sorted(countries.items(), key=lambda x: x[1], reverse=True))\n",
    "print(count)"
   ]
  },
  {
   "cell_type": "code",
   "execution_count": 36,
   "metadata": {},
   "outputs": [
    {
     "name": "stdout",
     "output_type": "stream",
     "text": [
      " * sqlite:///results.db\n",
      "Done.\n"
     ]
    },
    {
     "data": {
      "text/html": "<table>\n    <tr>\n        <th>count(*)</th>\n    </tr>\n    <tr>\n        <td>45429</td>\n    </tr>\n</table>",
      "text/plain": "[(45429,)]"
     },
     "execution_count": 36,
     "metadata": {},
     "output_type": "execute_result"
    }
   ],
   "source": [
    "%sql select count(*) from owner where email is not null;"
   ]
  },
  {
   "cell_type": "code",
   "execution_count": null,
   "metadata": {},
   "outputs": [],
   "source": []
  }
 ],
 "metadata": {
  "kernelspec": {
   "display_name": "Python 3.9.0 64-bit",
   "name": "python37664bit0fda1b1dbdee481db7662a4e7d3141e4"
  },
  "language_info": {
   "codemirror_mode": {
    "name": "ipython",
    "version": 3
   },
   "file_extension": ".py",
   "mimetype": "text/x-python",
   "name": "python",
   "nbconvert_exporter": "python",
   "pygments_lexer": "ipython3",
   "version": "3.9.0"
  },
  "metadata": {
   "interpreter": {
    "hash": "aee8b7b246df8f9039afb4144a1f6fd8d2ca17a180786b69acc140d282b71a49"
   }
  },
  "orig_nbformat": 2
 },
 "nbformat": 4,
 "nbformat_minor": 2
}