{
 "cells": [
  {
   "cell_type": "code",
   "execution_count": 1,
   "metadata": {},
   "outputs": [],
   "source": [
    "import sqlite3\n",
    "import pandas as pd\n",
    "import matplotlib.pyplot as plt\n",
    "%matplotlib inline\n",
    "%load_ext sql"
   ]
  },
  {
   "cell_type": "code",
   "execution_count": 2,
   "metadata": {},
   "outputs": [],
   "source": [
    "%sql sqlite:///results.db"
   ]
  },
  {
   "cell_type": "code",
   "execution_count": 12,
   "metadata": {},
   "outputs": [
    {
     "name": "stdout",
     "output_type": "stream",
     "text": [
      " * sqlite:///results.db\n",
      "Done.\n",
      "Returning data to local variable top50\n"
     ]
    }
   ],
   "source": [
    "%%sql top50 <<\n",
    "with \n",
    "    top_commands as (\n",
    "        select name as cmd_name, count(*) as cmd_count \n",
    "        from command \n",
    "        group by cmd_name \n",
    "        order by cmd_count desc \n",
    "        limit 50\n",
    "    ), \n",
    "    top_arguments as (\n",
    "        select name as cmd_name, arguments as cmd_args, count(*) as arg_count \n",
    "        from command \n",
    "        where cmd_name in (select cmd_name from top_commands) \n",
    "        group by cmd_name, cmd_args \n",
    "        order by cmd_name, arg_count desc\n",
    "    ),\n",
    "    X as (\n",
    "        select *, row_number() over (partition by cmd_name order by arg_count desc) as num\n",
    "        from top_arguments\n",
    "    ),\n",
    "    top_aliases as (\n",
    "        select \n",
    "            command.name as cmd_name, \n",
    "            command.arguments as cmd_args,\n",
    "            alias.name as alias_name,\n",
    "            alias.value as alias_value,\n",
    "            count(*) as alias_count\n",
    "        from alias join command using (alias_id)\n",
    "        where cmd_name in (select cmd_name from top_commands)\n",
    "        group by cmd_name, cmd_args, alias_name \n",
    "        order by cmd_name, cmd_args, alias_count desc\n",
    "    ),\n",
    "    Y as (\n",
    "        select *, row_number() over (partition by cmd_name, cmd_args order by alias_count desc) as num\n",
    "        from top_aliases\n",
    "    )\n",
    "\n",
    "select alias_name, alias_value\n",
    "from top_commands join X using (cmd_name) join Y using (cmd_name, cmd_args)\n",
    "where X.num <= 10 and Y.num <= 3\n",
    "order by cmd_count desc, arg_count desc, alias_count desc;"
   ]
  },
  {
   "cell_type": "code",
   "execution_count": 13,
   "metadata": {},
   "outputs": [
    {
     "data": {
      "text/html": [
       "<a href=\"./files/top50.csv\">CSV results</a>"
      ],
      "text/plain": [
       "CSV results at /Users/mcschroeder/Desktop/shell-alias-analysis/notebooks/top50.csv"
      ]
     },
     "execution_count": 13,
     "metadata": {},
     "output_type": "execute_result"
    }
   ],
   "source": [
    "top50.csv(filename='top50.csv')"
   ]
  },
  {
   "cell_type": "code",
   "execution_count": 14,
   "metadata": {},
   "outputs": [
    {
     "name": "stdout",
     "output_type": "stream",
     "text": [
      " * sqlite:///results.db\n",
      "Done.\n"
     ]
    },
    {
     "data": {
      "text/html": [
       "<a href=\"./files/longtail.csv\">CSV results</a>"
      ],
      "text/plain": [
       "CSV results at /Users/mcschroeder/Desktop/shell-alias-analysis/notebooks/longtail.csv"
      ]
     },
     "execution_count": 14,
     "metadata": {},
     "output_type": "execute_result"
    }
   ],
   "source": [
    "longtail = %sql select alias.name, alias.value from alias group by alias.value, alias.name having count(*) = 1 order by random() limit 200;\n",
    "longtail.csv(filename='longtail.csv')"
   ]
  },
  {
   "cell_type": "code",
   "execution_count": null,
   "metadata": {},
   "outputs": [],
   "source": []
  }
 ],
 "metadata": {
  "kernelspec": {
   "display_name": "Python 3.7.6 64-bit",
   "language": "python",
   "name": "python37664bit0fda1b1dbdee481db7662a4e7d3141e4"
  },
  "language_info": {
   "codemirror_mode": {
    "name": "ipython",
    "version": 3
   },
   "file_extension": ".py",
   "mimetype": "text/x-python",
   "name": "python",
   "nbconvert_exporter": "python",
   "pygments_lexer": "ipython3",
   "version": "3.8.5"
  }
 },
 "nbformat": 4,
 "nbformat_minor": 4
}
