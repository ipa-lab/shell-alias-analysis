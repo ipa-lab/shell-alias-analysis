{
 "cells": [
  {
   "cell_type": "code",
   "execution_count": 1,
   "metadata": {},
   "outputs": [],
   "source": [
    "import sqlite3\n",
    "import pandas as pd\n",
    "import matplotlib.pyplot as plt\n",
    "%matplotlib inline\n",
    "%load_ext sql"
   ]
  },
  {
   "cell_type": "code",
   "execution_count": 2,
   "metadata": {},
   "outputs": [],
   "source": [
    "%sql sqlite:///results.db"
   ]
  },
  {
   "cell_type": "markdown",
   "metadata": {},
   "source": [
    "# Bookmarks"
   ]
  },
  {
   "cell_type": "markdown",
   "metadata": {},
   "source": [
    "## REGEXP / Extension Troubles\n",
    "\n",
    "To find bookmarks, it is convenient to be able to use regular expresions when searching the database. This can be enabled in SQLite using an extension, which needs to be installed on the system first. See https://stackoverflow.com/a/8338515 and https://gist.github.com/janfri/a3e61731864a63554ba6f32bdc7179aa\n",
    "\n",
    "Unfortunately, I haven't been able to load this extension using the %sql magic syntax, so whenever I need to use the REGEXP operator, I'll have to use the clumsy Python syntax directly."
   ]
  },
  {
   "cell_type": "code",
   "execution_count": 8,
   "metadata": {},
   "outputs": [],
   "source": [
    "con = sqlite3.connect(\"results.db\")\n",
    "con.enable_load_extension(True)\n",
    "con.load_extension(\"pcre.so\")"
   ]
  },
  {
   "cell_type": "markdown",
   "metadata": {},
   "source": [
    "## Preliminary investigation"
   ]
  },
  {
   "cell_type": "markdown",
   "metadata": {},
   "source": [
    "Aliases containing a forward slash:"
   ]
  },
  {
   "cell_type": "code",
   "execution_count": 48,
   "metadata": {},
   "outputs": [
    {
     "name": "stdout",
     "output_type": "stream",
     "text": [
      " * sqlite:///results.db\n",
      "Done.\n"
     ]
    },
    {
     "data": {
      "text/html": [
       "<table>\n",
       "    <tr>\n",
       "        <th>#</th>\n",
       "        <th>%</th>\n",
       "    </tr>\n",
       "    <tr>\n",
       "        <td>451629</td>\n",
       "        <td>20.49</td>\n",
       "    </tr>\n",
       "</table>"
      ],
      "text/plain": [
       "[(451629, 20.49)]"
      ]
     },
     "execution_count": 48,
     "metadata": {},
     "output_type": "execute_result"
    }
   ],
   "source": [
    "%%sql \n",
    "with total as (select count(*) as total from alias)\n",
    "select count(*) as '#', round(count(*)*100.0/total,2) as '%'\n",
    "from alias \n",
    "join total \n",
    "where alias.value like '%/%'"
   ]
  },
  {
   "cell_type": "markdown",
   "metadata": {},
   "source": [
    "Arguments containing a forward slash:"
   ]
  },
  {
   "cell_type": "code",
   "execution_count": 49,
   "metadata": {},
   "outputs": [
    {
     "name": "stdout",
     "output_type": "stream",
     "text": [
      " * sqlite:///results.db\n",
      "Done.\n"
     ]
    },
    {
     "data": {
      "text/html": [
       "<table>\n",
       "    <tr>\n",
       "        <th>#</th>\n",
       "        <th>%</th>\n",
       "    </tr>\n",
       "    <tr>\n",
       "        <td>418196</td>\n",
       "        <td>11.52</td>\n",
       "    </tr>\n",
       "</table>"
      ],
      "text/plain": [
       "[(418196, 11.52)]"
      ]
     },
     "execution_count": 49,
     "metadata": {},
     "output_type": "execute_result"
    }
   ],
   "source": [
    "%%sql \n",
    "with total as (select count(*) as total from argument)\n",
    "select count(*) as '#', round(count(*)*100.0/total,2) as '%'\n",
    "from argument \n",
    "join total \n",
    "where argument.name like '%/%'"
   ]
  },
  {
   "cell_type": "code",
   "execution_count": 50,
   "metadata": {},
   "outputs": [
    {
     "name": "stdout",
     "output_type": "stream",
     "text": [
      " * sqlite:///results.db\n",
      "Done.\n"
     ]
    },
    {
     "data": {
      "text/html": [
       "<table>\n",
       "    <tr>\n",
       "        <th>name</th>\n",
       "        <th>#</th>\n",
       "        <th>%</th>\n",
       "    </tr>\n",
       "    <tr>\n",
       "        <td>&quot;$(history|tail -n1|sed -e &#x27;\\&#x27;&#x27;s/^\\s*[0-9]\\+\\s*//;s/[;&amp;|]\\s*alert$//&#x27;\\&#x27;&#x27;)&quot;</td>\n",
       "        <td>15722</td>\n",
       "        <td>0.43</td>\n",
       "    </tr>\n",
       "    <tr>\n",
       "        <td>~/.zshrc</td>\n",
       "        <td>13331</td>\n",
       "        <td>0.37</td>\n",
       "    </tr>\n",
       "    <tr>\n",
       "        <td>../..</td>\n",
       "        <td>10496</td>\n",
       "        <td>0.29</td>\n",
       "    </tr>\n",
       "    <tr>\n",
       "        <td>../../..</td>\n",
       "        <td>7764</td>\n",
       "        <td>0.21</td>\n",
       "    </tr>\n",
       "    <tr>\n",
       "        <td>~/.bashrc</td>\n",
       "        <td>7319</td>\n",
       "        <td>0.2</td>\n",
       "    </tr>\n",
       "    <tr>\n",
       "        <td>/dev/null</td>\n",
       "        <td>6073</td>\n",
       "        <td>0.17</td>\n",
       "    </tr>\n",
       "    <tr>\n",
       "        <td>../../../..</td>\n",
       "        <td>5089</td>\n",
       "        <td>0.14</td>\n",
       "    </tr>\n",
       "    <tr>\n",
       "        <td>~/.bash_profile</td>\n",
       "        <td>4403</td>\n",
       "        <td>0.12</td>\n",
       "    </tr>\n",
       "    <tr>\n",
       "        <td>~/.vimrc</td>\n",
       "        <td>3612</td>\n",
       "        <td>0.1</td>\n",
       "    </tr>\n",
       "    <tr>\n",
       "        <td>../</td>\n",
       "        <td>3115</td>\n",
       "        <td>0.09</td>\n",
       "    </tr>\n",
       "    <tr>\n",
       "        <td>${PATH//:/\\\\n}</td>\n",
       "        <td>2769</td>\n",
       "        <td>0.08</td>\n",
       "    </tr>\n",
       "    <tr>\n",
       "        <td>../../../../</td>\n",
       "        <td>2740</td>\n",
       "        <td>0.08</td>\n",
       "    </tr>\n",
       "    <tr>\n",
       "        <td>../../../</td>\n",
       "        <td>2667</td>\n",
       "        <td>0.07</td>\n",
       "    </tr>\n",
       "    <tr>\n",
       "        <td>../../</td>\n",
       "        <td>2565</td>\n",
       "        <td>0.07</td>\n",
       "    </tr>\n",
       "    <tr>\n",
       "        <td>2&gt;/dev/null</td>\n",
       "        <td>2254</td>\n",
       "        <td>0.06</td>\n",
       "    </tr>\n",
       "    <tr>\n",
       "        <td>./</td>\n",
       "        <td>2214</td>\n",
       "        <td>0.06</td>\n",
       "    </tr>\n",
       "    <tr>\n",
       "        <td>~/Downloads</td>\n",
       "        <td>2169</td>\n",
       "        <td>0.06</td>\n",
       "    </tr>\n",
       "    <tr>\n",
       "        <td>../../../../..</td>\n",
       "        <td>2109</td>\n",
       "        <td>0.06</td>\n",
       "    </tr>\n",
       "    <tr>\n",
       "        <td>~/.oh-my-zsh</td>\n",
       "        <td>1986</td>\n",
       "        <td>0.05</td>\n",
       "    </tr>\n",
       "    <tr>\n",
       "        <td>/</td>\n",
       "        <td>1939</td>\n",
       "        <td>0.05</td>\n",
       "    </tr>\n",
       "</table>"
      ],
      "text/plain": [
       "[('\"$(history|tail -n1|sed -e \\'\\\\\\'\\'s/^\\\\s*[0-9]\\\\+\\\\s*//;s/[;&|]\\\\s*alert$//\\'\\\\\\'\\')\"', 15722, 0.43),\n",
       " ('~/.zshrc', 13331, 0.37),\n",
       " ('../..', 10496, 0.29),\n",
       " ('../../..', 7764, 0.21),\n",
       " ('~/.bashrc', 7319, 0.2),\n",
       " ('/dev/null', 6073, 0.17),\n",
       " ('../../../..', 5089, 0.14),\n",
       " ('~/.bash_profile', 4403, 0.12),\n",
       " ('~/.vimrc', 3612, 0.1),\n",
       " ('../', 3115, 0.09),\n",
       " ('${PATH//:/\\\\\\\\n}', 2769, 0.08),\n",
       " ('../../../../', 2740, 0.08),\n",
       " ('../../../', 2667, 0.07),\n",
       " ('../../', 2565, 0.07),\n",
       " ('2>/dev/null', 2254, 0.06),\n",
       " ('./', 2214, 0.06),\n",
       " ('~/Downloads', 2169, 0.06),\n",
       " ('../../../../..', 2109, 0.06),\n",
       " ('~/.oh-my-zsh', 1986, 0.05),\n",
       " ('/', 1939, 0.05)]"
      ]
     },
     "execution_count": 50,
     "metadata": {},
     "output_type": "execute_result"
    }
   ],
   "source": [
    "%%sql \n",
    "with total as (select count(*) as total from argument)\n",
    "select name, count(*) as '#', round(count(*)*100.0/total,2) as '%'\n",
    "from argument \n",
    "join total \n",
    "where argument.name like '%/%'\n",
    "group by argument.name \n",
    "order by count(*) desc\n",
    "limit 20;"
   ]
  },
  {
   "cell_type": "markdown",
   "metadata": {},
   "source": [
    "Commands containing a forward slash:"
   ]
  },
  {
   "cell_type": "code",
   "execution_count": 51,
   "metadata": {},
   "outputs": [
    {
     "name": "stdout",
     "output_type": "stream",
     "text": [
      " * sqlite:///results.db\n",
      "Done.\n"
     ]
    },
    {
     "data": {
      "text/html": [
       "<table>\n",
       "    <tr>\n",
       "        <th>#</th>\n",
       "        <th>%</th>\n",
       "    </tr>\n",
       "    <tr>\n",
       "        <td>99423</td>\n",
       "        <td>3.92</td>\n",
       "    </tr>\n",
       "</table>"
      ],
      "text/plain": [
       "[(99423, 3.92)]"
      ]
     },
     "execution_count": 51,
     "metadata": {},
     "output_type": "execute_result"
    }
   ],
   "source": [
    "%%sql \n",
    "with total as (select count(*) as total from command)\n",
    "select count(*) as '#', round(count(*)*100.0/total,2) as '%'\n",
    "from command \n",
    "join total \n",
    "where command.name like '%/%'"
   ]
  },
  {
   "cell_type": "code",
   "execution_count": 52,
   "metadata": {},
   "outputs": [
    {
     "name": "stdout",
     "output_type": "stream",
     "text": [
      " * sqlite:///results.db\n",
      "Done.\n"
     ]
    },
    {
     "data": {
      "text/html": [
       "<table>\n",
       "    <tr>\n",
       "        <th>name</th>\n",
       "        <th>#</th>\n",
       "        <th>%</th>\n",
       "    </tr>\n",
       "    <tr>\n",
       "        <td>/usr/bin/git</td>\n",
       "        <td>3175</td>\n",
       "        <td>0.13</td>\n",
       "    </tr>\n",
       "    <tr>\n",
       "        <td>/usr/sbin/lsof</td>\n",
       "        <td>1707</td>\n",
       "        <td>0.07</td>\n",
       "    </tr>\n",
       "    <tr>\n",
       "        <td>/bin/ls</td>\n",
       "        <td>1631</td>\n",
       "        <td>0.06</td>\n",
       "    </tr>\n",
       "    <tr>\n",
       "        <td>/System/Library/CoreServices/Menu Extras/User.menu/Contents/Resources/CGSession</td>\n",
       "        <td>1218</td>\n",
       "        <td>0.05</td>\n",
       "    </tr>\n",
       "    <tr>\n",
       "        <td>/System/Library/Frameworks/CoreServices.framework/Frameworks/LaunchServices.framework/Support/lsregister</td>\n",
       "        <td>1174</td>\n",
       "        <td>0.05</td>\n",
       "    </tr>\n",
       "    <tr>\n",
       "        <td>/Applications/Google Chrome.app/Contents/MacOS/Google Chrome</td>\n",
       "        <td>854</td>\n",
       "        <td>0.03</td>\n",
       "    </tr>\n",
       "    <tr>\n",
       "        <td>/usr/local/bin/vim</td>\n",
       "        <td>848</td>\n",
       "        <td>0.03</td>\n",
       "    </tr>\n",
       "    <tr>\n",
       "        <td>../..</td>\n",
       "        <td>842</td>\n",
       "        <td>0.03</td>\n",
       "    </tr>\n",
       "    <tr>\n",
       "        <td>./gradlew</td>\n",
       "        <td>809</td>\n",
       "        <td>0.03</td>\n",
       "    </tr>\n",
       "    <tr>\n",
       "        <td>../../..</td>\n",
       "        <td>768</td>\n",
       "        <td>0.03</td>\n",
       "    </tr>\n",
       "    <tr>\n",
       "        <td>/Applications/MacVim.app/Contents/MacOS/Vim</td>\n",
       "        <td>720</td>\n",
       "        <td>0.03</td>\n",
       "    </tr>\n",
       "    <tr>\n",
       "        <td>/Applications/Sublime Text.app/Contents/SharedSupport/bin/subl</td>\n",
       "        <td>684</td>\n",
       "        <td>0.03</td>\n",
       "    </tr>\n",
       "    <tr>\n",
       "        <td>/usr/bin/pacman</td>\n",
       "        <td>663</td>\n",
       "        <td>0.03</td>\n",
       "    </tr>\n",
       "    <tr>\n",
       "        <td>../../../..</td>\n",
       "        <td>640</td>\n",
       "        <td>0.03</td>\n",
       "    </tr>\n",
       "    <tr>\n",
       "        <td>/System/Library/Automator/Combine PDF Pages.action/Contents/Resources/join.py</td>\n",
       "        <td>579</td>\n",
       "        <td>0.02</td>\n",
       "    </tr>\n",
       "    <tr>\n",
       "        <td>/sbin/iptables</td>\n",
       "        <td>534</td>\n",
       "        <td>0.02</td>\n",
       "    </tr>\n",
       "    <tr>\n",
       "        <td>`brew --prefix`/bin/ctags</td>\n",
       "        <td>533</td>\n",
       "        <td>0.02</td>\n",
       "    </tr>\n",
       "    <tr>\n",
       "        <td>/usr/bin/vim</td>\n",
       "        <td>525</td>\n",
       "        <td>0.02</td>\n",
       "    </tr>\n",
       "    <tr>\n",
       "        <td>/usr/libexec/PlistBuddy</td>\n",
       "        <td>501</td>\n",
       "        <td>0.02</td>\n",
       "    </tr>\n",
       "    <tr>\n",
       "        <td>/bin/rm</td>\n",
       "        <td>486</td>\n",
       "        <td>0.02</td>\n",
       "    </tr>\n",
       "</table>"
      ],
      "text/plain": [
       "[('/usr/bin/git', 3175, 0.13),\n",
       " ('/usr/sbin/lsof', 1707, 0.07),\n",
       " ('/bin/ls', 1631, 0.06),\n",
       " ('/System/Library/CoreServices/Menu Extras/User.menu/Contents/Resources/CGSession', 1218, 0.05),\n",
       " ('/System/Library/Frameworks/CoreServices.framework/Frameworks/LaunchServices.framework/Support/lsregister', 1174, 0.05),\n",
       " ('/Applications/Google Chrome.app/Contents/MacOS/Google Chrome', 854, 0.03),\n",
       " ('/usr/local/bin/vim', 848, 0.03),\n",
       " ('../..', 842, 0.03),\n",
       " ('./gradlew', 809, 0.03),\n",
       " ('../../..', 768, 0.03),\n",
       " ('/Applications/MacVim.app/Contents/MacOS/Vim', 720, 0.03),\n",
       " ('/Applications/Sublime Text.app/Contents/SharedSupport/bin/subl', 684, 0.03),\n",
       " ('/usr/bin/pacman', 663, 0.03),\n",
       " ('../../../..', 640, 0.03),\n",
       " ('/System/Library/Automator/Combine PDF Pages.action/Contents/Resources/join.py', 579, 0.02),\n",
       " ('/sbin/iptables', 534, 0.02),\n",
       " ('`brew --prefix`/bin/ctags', 533, 0.02),\n",
       " ('/usr/bin/vim', 525, 0.02),\n",
       " ('/usr/libexec/PlistBuddy', 501, 0.02),\n",
       " ('/bin/rm', 486, 0.02)]"
      ]
     },
     "execution_count": 52,
     "metadata": {},
     "output_type": "execute_result"
    }
   ],
   "source": [
    "%%sql \n",
    "with total as (select count(*) as total from command)\n",
    "select name, count(*) as '#', round(count(*)*100.0/total,2) as '%'\n",
    "from command \n",
    "join total \n",
    "where command.name like '%/%'\n",
    "group by command.name \n",
    "order by count(*) desc\n",
    "limit 20;"
   ]
  },
  {
   "cell_type": "markdown",
   "metadata": {},
   "source": [
    "Aliases containing IPv4 adresses:"
   ]
  },
  {
   "cell_type": "code",
   "execution_count": 61,
   "metadata": {},
   "outputs": [
    {
     "data": {
      "text/html": [
       "<div>\n",
       "<style scoped>\n",
       "    .dataframe tbody tr th:only-of-type {\n",
       "        vertical-align: middle;\n",
       "    }\n",
       "\n",
       "    .dataframe tbody tr th {\n",
       "        vertical-align: top;\n",
       "    }\n",
       "\n",
       "    .dataframe thead th {\n",
       "        text-align: right;\n",
       "    }\n",
       "</style>\n",
       "<table border=\"1\" class=\"dataframe\">\n",
       "  <thead>\n",
       "    <tr style=\"text-align: right;\">\n",
       "      <th></th>\n",
       "      <th>#</th>\n",
       "      <th>%</th>\n",
       "    </tr>\n",
       "  </thead>\n",
       "  <tbody>\n",
       "    <tr>\n",
       "      <th>0</th>\n",
       "      <td>17335</td>\n",
       "      <td>0.79</td>\n",
       "    </tr>\n",
       "  </tbody>\n",
       "</table>\n",
       "</div>"
      ],
      "text/plain": [
       "       #     %\n",
       "0  17335  0.79"
      ]
     },
     "execution_count": 61,
     "metadata": {},
     "output_type": "execute_result"
    }
   ],
   "source": [
    "pd.read_sql_query('''\n",
    "with total as (select count(*) as total from alias)\n",
    "select count(*) as '#', round(count(*)*100.0/total,2) as '%'\n",
    "from alias \n",
    "join total\n",
    "where alias.value regexp '[0-9]+\\.[0-9]+\\.[0-9]+\\.[0-9]+'\n",
    "''', con)"
   ]
  },
  {
   "cell_type": "code",
   "execution_count": 62,
   "metadata": {},
   "outputs": [
    {
     "data": {
      "text/html": [
       "<div>\n",
       "<style scoped>\n",
       "    .dataframe tbody tr th:only-of-type {\n",
       "        vertical-align: middle;\n",
       "    }\n",
       "\n",
       "    .dataframe tbody tr th {\n",
       "        vertical-align: top;\n",
       "    }\n",
       "\n",
       "    .dataframe thead th {\n",
       "        text-align: right;\n",
       "    }\n",
       "</style>\n",
       "<table border=\"1\" class=\"dataframe\">\n",
       "  <thead>\n",
       "    <tr style=\"text-align: right;\">\n",
       "      <th></th>\n",
       "      <th>name</th>\n",
       "      <th>value</th>\n",
       "      <th>#</th>\n",
       "      <th>%</th>\n",
       "    </tr>\n",
       "  </thead>\n",
       "  <tbody>\n",
       "    <tr>\n",
       "      <th>0</th>\n",
       "      <td>portforward</td>\n",
       "      <td>sudo ipfw add 1000 forward 127.0.0.1,3000 ip f...</td>\n",
       "      <td>93</td>\n",
       "      <td>0.0</td>\n",
       "    </tr>\n",
       "    <tr>\n",
       "      <th>1</th>\n",
       "      <td>p8</td>\n",
       "      <td>ping 8.8.8.8</td>\n",
       "      <td>69</td>\n",
       "      <td>0.0</td>\n",
       "    </tr>\n",
       "    <tr>\n",
       "      <th>2</th>\n",
       "      <td>localip</td>\n",
       "      <td>sudo ifconfig | grep -Eo 'inet (addr:)?([0-9]*...</td>\n",
       "      <td>66</td>\n",
       "      <td>0.0</td>\n",
       "    </tr>\n",
       "    <tr>\n",
       "      <th>3</th>\n",
       "      <td>djrun</td>\n",
       "      <td>dj runserver 0.0.0.0:8000</td>\n",
       "      <td>64</td>\n",
       "      <td>0.0</td>\n",
       "    </tr>\n",
       "    <tr>\n",
       "      <th>4</th>\n",
       "      <td>localip</td>\n",
       "      <td>sudo ifconfig | grep -Eo 'inet (addr:)?([0-9]*...</td>\n",
       "      <td>53</td>\n",
       "      <td>0.0</td>\n",
       "    </tr>\n",
       "    <tr>\n",
       "      <th>5</th>\n",
       "      <td>ping8</td>\n",
       "      <td>ping 8.8.8.8</td>\n",
       "      <td>40</td>\n",
       "      <td>0.0</td>\n",
       "    </tr>\n",
       "    <tr>\n",
       "      <th>6</th>\n",
       "      <td>p</td>\n",
       "      <td>ping 8.8.8.8</td>\n",
       "      <td>38</td>\n",
       "      <td>0.0</td>\n",
       "    </tr>\n",
       "    <tr>\n",
       "      <th>7</th>\n",
       "      <td>ts</td>\n",
       "      <td>thin start -a ${VM_IP:-127.0.0.1}</td>\n",
       "      <td>36</td>\n",
       "      <td>0.0</td>\n",
       "    </tr>\n",
       "    <tr>\n",
       "      <th>8</th>\n",
       "      <td>vm</td>\n",
       "      <td>ssh vagrant@127.0.0.1 -p 2222</td>\n",
       "      <td>30</td>\n",
       "      <td>0.0</td>\n",
       "    </tr>\n",
       "    <tr>\n",
       "      <th>9</th>\n",
       "      <td>myip</td>\n",
       "      <td>ifconfig | sed -En 's/127.0.0.1//;s/.*inet (ad...</td>\n",
       "      <td>29</td>\n",
       "      <td>0.0</td>\n",
       "    </tr>\n",
       "    <tr>\n",
       "      <th>10</th>\n",
       "      <td>setproxy</td>\n",
       "      <td>export ALL_PROXY=socks5://127.0.0.1:1080</td>\n",
       "      <td>27</td>\n",
       "      <td>0.0</td>\n",
       "    </tr>\n",
       "    <tr>\n",
       "      <th>11</th>\n",
       "      <td>rs</td>\n",
       "      <td>rails s -b 0.0.0.0</td>\n",
       "      <td>25</td>\n",
       "      <td>0.0</td>\n",
       "    </tr>\n",
       "    <tr>\n",
       "      <th>12</th>\n",
       "      <td>pingg</td>\n",
       "      <td>ping 8.8.8.8</td>\n",
       "      <td>23</td>\n",
       "      <td>0.0</td>\n",
       "    </tr>\n",
       "    <tr>\n",
       "      <th>13</th>\n",
       "      <td>localip</td>\n",
       "      <td>ifconfig | sed -En 's/127.0.0.1//;s/.*inet (ad...</td>\n",
       "      <td>22</td>\n",
       "      <td>0.0</td>\n",
       "    </tr>\n",
       "    <tr>\n",
       "      <th>14</th>\n",
       "      <td>ipl</td>\n",
       "      <td>ifconfig | grep -Eo 'inet (addr:)?([0-9]*\\.){3...</td>\n",
       "      <td>21</td>\n",
       "      <td>0.0</td>\n",
       "    </tr>\n",
       "    <tr>\n",
       "      <th>15</th>\n",
       "      <td>local-ip</td>\n",
       "      <td>ifconfig | grep 'inet addr' | grep -v '127.0.0...</td>\n",
       "      <td>20</td>\n",
       "      <td>0.0</td>\n",
       "    </tr>\n",
       "    <tr>\n",
       "      <th>16</th>\n",
       "      <td>port-forward-enable</td>\n",
       "      <td>echo 'rdr pass inet proto tcp from any to any ...</td>\n",
       "      <td>19</td>\n",
       "      <td>0.0</td>\n",
       "    </tr>\n",
       "    <tr>\n",
       "      <th>17</th>\n",
       "      <td>proxy</td>\n",
       "      <td>export all_proxy=socks5://127.0.0.1:1080</td>\n",
       "      <td>19</td>\n",
       "      <td>0.0</td>\n",
       "    </tr>\n",
       "    <tr>\n",
       "      <th>18</th>\n",
       "      <td>ip</td>\n",
       "      <td>ifconfig | grep \"inet \" | grep -v 127.0.0.1 | ...</td>\n",
       "      <td>18</td>\n",
       "      <td>0.0</td>\n",
       "    </tr>\n",
       "    <tr>\n",
       "      <th>19</th>\n",
       "      <td>localip</td>\n",
       "      <td>ifconfig | grep -Eo 'inet (addr:)?([0-9]*\\.){3...</td>\n",
       "      <td>16</td>\n",
       "      <td>0.0</td>\n",
       "    </tr>\n",
       "  </tbody>\n",
       "</table>\n",
       "</div>"
      ],
      "text/plain": [
       "                   name                                              value  \\\n",
       "0           portforward  sudo ipfw add 1000 forward 127.0.0.1,3000 ip f...   \n",
       "1                    p8                                       ping 8.8.8.8   \n",
       "2               localip  sudo ifconfig | grep -Eo 'inet (addr:)?([0-9]*...   \n",
       "3                 djrun                          dj runserver 0.0.0.0:8000   \n",
       "4               localip  sudo ifconfig | grep -Eo 'inet (addr:)?([0-9]*...   \n",
       "5                 ping8                                       ping 8.8.8.8   \n",
       "6                     p                                       ping 8.8.8.8   \n",
       "7                    ts                  thin start -a ${VM_IP:-127.0.0.1}   \n",
       "8                    vm                      ssh vagrant@127.0.0.1 -p 2222   \n",
       "9                  myip  ifconfig | sed -En 's/127.0.0.1//;s/.*inet (ad...   \n",
       "10             setproxy           export ALL_PROXY=socks5://127.0.0.1:1080   \n",
       "11                   rs                                 rails s -b 0.0.0.0   \n",
       "12                pingg                                       ping 8.8.8.8   \n",
       "13              localip  ifconfig | sed -En 's/127.0.0.1//;s/.*inet (ad...   \n",
       "14                  ipl  ifconfig | grep -Eo 'inet (addr:)?([0-9]*\\.){3...   \n",
       "15             local-ip  ifconfig | grep 'inet addr' | grep -v '127.0.0...   \n",
       "16  port-forward-enable  echo 'rdr pass inet proto tcp from any to any ...   \n",
       "17                proxy           export all_proxy=socks5://127.0.0.1:1080   \n",
       "18                   ip  ifconfig | grep \"inet \" | grep -v 127.0.0.1 | ...   \n",
       "19              localip  ifconfig | grep -Eo 'inet (addr:)?([0-9]*\\.){3...   \n",
       "\n",
       "     #    %  \n",
       "0   93  0.0  \n",
       "1   69  0.0  \n",
       "2   66  0.0  \n",
       "3   64  0.0  \n",
       "4   53  0.0  \n",
       "5   40  0.0  \n",
       "6   38  0.0  \n",
       "7   36  0.0  \n",
       "8   30  0.0  \n",
       "9   29  0.0  \n",
       "10  27  0.0  \n",
       "11  25  0.0  \n",
       "12  23  0.0  \n",
       "13  22  0.0  \n",
       "14  21  0.0  \n",
       "15  20  0.0  \n",
       "16  19  0.0  \n",
       "17  19  0.0  \n",
       "18  18  0.0  \n",
       "19  16  0.0  "
      ]
     },
     "execution_count": 62,
     "metadata": {},
     "output_type": "execute_result"
    }
   ],
   "source": [
    "pd.read_sql_query('''\n",
    "with total as (select count(*) as total from alias)\n",
    "select alias.name, alias.value, count(*) as '#', round(count(*)*100.0/total,2) as '%'\n",
    "from alias \n",
    "join total\n",
    "where alias.value regexp '[0-9]+\\.[0-9]+\\.[0-9]+\\.[0-9]+'\n",
    "group by alias.name, alias.value\n",
    "order by count(*) desc\n",
    "limit 20\n",
    "''', con)"
   ]
  },
  {
   "cell_type": "code",
   "execution_count": 65,
   "metadata": {},
   "outputs": [
    {
     "name": "stdout",
     "output_type": "stream",
     "text": [
      " * sqlite:///results.db\n",
      "Done.\n"
     ]
    },
    {
     "data": {
      "text/html": [
       "<table>\n",
       "    <tr>\n",
       "        <th># 127.0.0.1</th>\n",
       "    </tr>\n",
       "    <tr>\n",
       "        <td>3045</td>\n",
       "    </tr>\n",
       "</table>"
      ],
      "text/plain": [
       "[(3045,)]"
      ]
     },
     "execution_count": 65,
     "metadata": {},
     "output_type": "execute_result"
    }
   ],
   "source": [
    "%sql select count(*) as '# 127.0.0.1' from alias where value like '%127.0.0.1%'"
   ]
  },
  {
   "cell_type": "markdown",
   "metadata": {},
   "source": [
    "Commands invoked with IPv4 adresses as arguments:"
   ]
  },
  {
   "cell_type": "code",
   "execution_count": 66,
   "metadata": {},
   "outputs": [
    {
     "data": {
      "text/html": [
       "<div>\n",
       "<style scoped>\n",
       "    .dataframe tbody tr th:only-of-type {\n",
       "        vertical-align: middle;\n",
       "    }\n",
       "\n",
       "    .dataframe tbody tr th {\n",
       "        vertical-align: top;\n",
       "    }\n",
       "\n",
       "    .dataframe thead th {\n",
       "        text-align: right;\n",
       "    }\n",
       "</style>\n",
       "<table border=\"1\" class=\"dataframe\">\n",
       "  <thead>\n",
       "    <tr style=\"text-align: right;\">\n",
       "      <th></th>\n",
       "      <th>name</th>\n",
       "      <th>#</th>\n",
       "    </tr>\n",
       "  </thead>\n",
       "  <tbody>\n",
       "    <tr>\n",
       "      <th>0</th>\n",
       "      <td>ssh</td>\n",
       "      <td>8498</td>\n",
       "    </tr>\n",
       "    <tr>\n",
       "      <th>1</th>\n",
       "      <td>ping</td>\n",
       "      <td>915</td>\n",
       "    </tr>\n",
       "    <tr>\n",
       "      <th>2</th>\n",
       "      <td>export</td>\n",
       "      <td>833</td>\n",
       "    </tr>\n",
       "    <tr>\n",
       "      <th>3</th>\n",
       "      <td>grep</td>\n",
       "      <td>523</td>\n",
       "    </tr>\n",
       "    <tr>\n",
       "      <th>4</th>\n",
       "      <td>docker</td>\n",
       "      <td>306</td>\n",
       "    </tr>\n",
       "    <tr>\n",
       "      <th>5</th>\n",
       "      <td>telnet</td>\n",
       "      <td>262</td>\n",
       "    </tr>\n",
       "    <tr>\n",
       "      <th>6</th>\n",
       "      <td>sshfs</td>\n",
       "      <td>249</td>\n",
       "    </tr>\n",
       "    <tr>\n",
       "      <th>7</th>\n",
       "      <td>curl</td>\n",
       "      <td>245</td>\n",
       "    </tr>\n",
       "    <tr>\n",
       "      <th>8</th>\n",
       "      <td>echo</td>\n",
       "      <td>221</td>\n",
       "    </tr>\n",
       "    <tr>\n",
       "      <th>9</th>\n",
       "      <td>nmap</td>\n",
       "      <td>199</td>\n",
       "    </tr>\n",
       "    <tr>\n",
       "      <th>10</th>\n",
       "      <td>scp</td>\n",
       "      <td>187</td>\n",
       "    </tr>\n",
       "    <tr>\n",
       "      <th>11</th>\n",
       "      <td>route</td>\n",
       "      <td>185</td>\n",
       "    </tr>\n",
       "    <tr>\n",
       "      <th>12</th>\n",
       "      <td>rdesktop</td>\n",
       "      <td>172</td>\n",
       "    </tr>\n",
       "    <tr>\n",
       "      <th>13</th>\n",
       "      <td>mysql</td>\n",
       "      <td>170</td>\n",
       "    </tr>\n",
       "    <tr>\n",
       "      <th>14</th>\n",
       "      <td>python</td>\n",
       "      <td>169</td>\n",
       "    </tr>\n",
       "    <tr>\n",
       "      <th>15</th>\n",
       "      <td>rsync</td>\n",
       "      <td>153</td>\n",
       "    </tr>\n",
       "    <tr>\n",
       "      <th>16</th>\n",
       "      <td>sed</td>\n",
       "      <td>146</td>\n",
       "    </tr>\n",
       "    <tr>\n",
       "      <th>17</th>\n",
       "      <td>sshpass</td>\n",
       "      <td>143</td>\n",
       "    </tr>\n",
       "    <tr>\n",
       "      <th>18</th>\n",
       "      <td>mount</td>\n",
       "      <td>138</td>\n",
       "    </tr>\n",
       "    <tr>\n",
       "      <th>19</th>\n",
       "      <td>rails</td>\n",
       "      <td>114</td>\n",
       "    </tr>\n",
       "  </tbody>\n",
       "</table>\n",
       "</div>"
      ],
      "text/plain": [
       "        name     #\n",
       "0        ssh  8498\n",
       "1       ping   915\n",
       "2     export   833\n",
       "3       grep   523\n",
       "4     docker   306\n",
       "5     telnet   262\n",
       "6      sshfs   249\n",
       "7       curl   245\n",
       "8       echo   221\n",
       "9       nmap   199\n",
       "10       scp   187\n",
       "11     route   185\n",
       "12  rdesktop   172\n",
       "13     mysql   170\n",
       "14    python   169\n",
       "15     rsync   153\n",
       "16       sed   146\n",
       "17   sshpass   143\n",
       "18     mount   138\n",
       "19     rails   114"
      ]
     },
     "execution_count": 66,
     "metadata": {},
     "output_type": "execute_result"
    }
   ],
   "source": [
    "pd.read_sql_query('''\n",
    "select command.name, count(*) as '#'\n",
    "from command join argument using (command_id) \n",
    "where argument.name regexp '[0-9]+\\.[0-9]+\\.[0-9]+\\.[0-9]+' \n",
    "group by command.name \n",
    "order by count(*) \n",
    "desc limit 20\n",
    "''', con)"
   ]
  },
  {
   "cell_type": "markdown",
   "metadata": {},
   "source": [
    "Commands invoked with arugment containing forward slash:"
   ]
  },
  {
   "cell_type": "code",
   "execution_count": 67,
   "metadata": {},
   "outputs": [
    {
     "name": "stdout",
     "output_type": "stream",
     "text": [
      " * sqlite:///results.db\n",
      "Done.\n"
     ]
    },
    {
     "data": {
      "text/html": [
       "<table>\n",
       "    <tr>\n",
       "        <th>name</th>\n",
       "        <th>#</th>\n",
       "        <th>% with bookmark</th>\n",
       "    </tr>\n",
       "    <tr>\n",
       "        <td>cd</td>\n",
       "        <td>116017</td>\n",
       "        <td>69.62</td>\n",
       "    </tr>\n",
       "    <tr>\n",
       "        <td>vim</td>\n",
       "        <td>21845</td>\n",
       "        <td>46.93</td>\n",
       "    </tr>\n",
       "    <tr>\n",
       "        <td>source</td>\n",
       "        <td>19975</td>\n",
       "        <td>90.02</td>\n",
       "    </tr>\n",
       "    <tr>\n",
       "        <td>notify-send</td>\n",
       "        <td>15910</td>\n",
       "        <td>98.12</td>\n",
       "    </tr>\n",
       "    <tr>\n",
       "        <td>git</td>\n",
       "        <td>8162</td>\n",
       "        <td>2.49</td>\n",
       "    </tr>\n",
       "    <tr>\n",
       "        <td>rm</td>\n",
       "        <td>7814</td>\n",
       "        <td>29.29</td>\n",
       "    </tr>\n",
       "    <tr>\n",
       "        <td>open</td>\n",
       "        <td>7953</td>\n",
       "        <td>46.25</td>\n",
       "    </tr>\n",
       "    <tr>\n",
       "        <td>sed</td>\n",
       "        <td>6453</td>\n",
       "        <td>83.77</td>\n",
       "    </tr>\n",
       "    <tr>\n",
       "        <td>docker</td>\n",
       "        <td>3961</td>\n",
       "        <td>14.17</td>\n",
       "    </tr>\n",
       "    <tr>\n",
       "        <td>curl</td>\n",
       "        <td>6357</td>\n",
       "        <td>60.67</td>\n",
       "    </tr>\n",
       "    <tr>\n",
       "        <td>echo</td>\n",
       "        <td>6664</td>\n",
       "        <td>21.0</td>\n",
       "    </tr>\n",
       "    <tr>\n",
       "        <td>cat</td>\n",
       "        <td>4823</td>\n",
       "        <td>67.11</td>\n",
       "    </tr>\n",
       "    <tr>\n",
       "        <td>.</td>\n",
       "        <td>4914</td>\n",
       "        <td>84.42</td>\n",
       "    </tr>\n",
       "    <tr>\n",
       "        <td>cp</td>\n",
       "        <td>2915</td>\n",
       "        <td>16.42</td>\n",
       "    </tr>\n",
       "    <tr>\n",
       "        <td>/usr/bin/git</td>\n",
       "        <td>3018</td>\n",
       "        <td>95.06</td>\n",
       "    </tr>\n",
       "    <tr>\n",
       "        <td>tail</td>\n",
       "        <td>3945</td>\n",
       "        <td>40.3</td>\n",
       "    </tr>\n",
       "    <tr>\n",
       "        <td>ssh</td>\n",
       "        <td>3789</td>\n",
       "        <td>12.09</td>\n",
       "    </tr>\n",
       "    <tr>\n",
       "        <td>vi</td>\n",
       "        <td>3580</td>\n",
       "        <td>68.28</td>\n",
       "    </tr>\n",
       "    <tr>\n",
       "        <td>$EDITOR</td>\n",
       "        <td>3201</td>\n",
       "        <td>60.9</td>\n",
       "    </tr>\n",
       "    <tr>\n",
       "        <td>nvim</td>\n",
       "        <td>3162</td>\n",
       "        <td>18.12</td>\n",
       "    </tr>\n",
       "</table>"
      ],
      "text/plain": [
       "[('cd', 116017, 69.62),\n",
       " ('vim', 21845, 46.93),\n",
       " ('source', 19975, 90.02),\n",
       " ('notify-send', 15910, 98.12),\n",
       " ('git', 8162, 2.49),\n",
       " ('rm', 7814, 29.29),\n",
       " ('open', 7953, 46.25),\n",
       " ('sed', 6453, 83.77),\n",
       " ('docker', 3961, 14.17),\n",
       " ('curl', 6357, 60.67),\n",
       " ('echo', 6664, 21.0),\n",
       " ('cat', 4823, 67.11),\n",
       " ('.', 4914, 84.42),\n",
       " ('cp', 2915, 16.42),\n",
       " ('/usr/bin/git', 3018, 95.06),\n",
       " ('tail', 3945, 40.3),\n",
       " ('ssh', 3789, 12.09),\n",
       " ('vi', 3580, 68.28),\n",
       " ('$EDITOR', 3201, 60.9),\n",
       " ('nvim', 3162, 18.12)]"
      ]
     },
     "execution_count": 67,
     "metadata": {},
     "output_type": "execute_result"
    }
   ],
   "source": [
    "%%sql \n",
    "with total as (select name, count(*) as total from command group by name)\n",
    "select \n",
    "    command.name, \n",
    "    count(distinct command_id) as '#', \n",
    "    round(count(distinct command_id)*100.0/total,2) as '% with bookmark' \n",
    "from command join argument using (command_id)\n",
    "join total using (name) \n",
    "where argument.name like '%/%' \n",
    "group by command.name \n",
    "order by count(*) desc \n",
    "limit 20"
   ]
  },
  {
   "cell_type": "markdown",
   "metadata": {},
   "source": [
    "## Collecting Bookmarks\n",
    "\n",
    "We will collect every argument that looks like a bookmark into a new table `bookmark`. The table consists only of the `argument_id` and a boolean field `remote` that indicates whether the bookmark points to a remote location.\n",
    "\n",
    "Note: The dataset on Zenodo already includes this table."
   ]
  },
  {
   "cell_type": "code",
   "execution_count": 70,
   "metadata": {},
   "outputs": [
    {
     "name": "stdout",
     "output_type": "stream",
     "text": [
      " * sqlite:///results.db\n",
      "Done.\n"
     ]
    },
    {
     "data": {
      "text/plain": [
       "[]"
      ]
     },
     "execution_count": 70,
     "metadata": {},
     "output_type": "execute_result"
    }
   ],
   "source": [
    "%%sql\n",
    "create table bookmark\n",
    "( argument_id integer primary key\n",
    ", remote integer not null\n",
    ", foreign key (argument_id) references argument (argument_id)\n",
    ");"
   ]
  },
  {
   "cell_type": "markdown",
   "metadata": {},
   "source": [
    "Remote bookmarks are either IP addresses or contain `.TLD:` or `.TLD/` or end with `.TLD`"
   ]
  },
  {
   "cell_type": "code",
   "execution_count": 73,
   "metadata": {},
   "outputs": [
    {
     "data": {
      "text/plain": [
       "<sqlite3.Cursor at 0x11701c880>"
      ]
     },
     "execution_count": 73,
     "metadata": {},
     "output_type": "execute_result"
    }
   ],
   "source": [
    "con.execute('''\n",
    "insert into bookmark (argument_id, remote) \n",
    "select argument_id, 1\n",
    "from (\n",
    "    select argument_id from argument where name regexp '([0-9]+\\.[0-9]+\\.[0-9]+\\.[0-9]+)|(\\.(aaa|aarp|abarth|abb|abbott|abbvie|abc|able|abogado|abudhabi|ac|academy|accenture|accountant|accountants|aco|actor|ad|adac|ads|adult|ae|aeg|aero|aetna|af|afamilycompany|afl|africa|ag|agakhan|agency|ai|aig|aigo|airbus|airforce|airtel|akdn|al|alfaromeo|alibaba|alipay|allfinanz|allstate|ally|alsace|alstom|am|americanexpress|americanfamily|amex|amfam|amica|amsterdam|analytics|android|anquan|anz|ao|aol|apartments|app|apple|aq|aquarelle|ar|arab|aramco|archi|army|arpa|art|arte|as|asda|asia|associates|at|athleta|attorney|au|auction|audi|audible|audio|auspost|author|auto|autos|avianca|aw|aws|ax|axa|az|azure|ba|baby|baidu|banamex|bananarepublic|band|bank|bar|barcelona|barclaycard|barclays|barefoot|bargains|baseball|basketball|bauhaus|bayern|bb|bbc|bbt|bbva|bcg|bcn|bd|be|beats|beauty|beer|bentley|berlin|best|bestbuy|bet|bf|bg|bh|bharti|bi|bible|bid|bike|bing|bingo|bio|biz|bj|black|blackfriday|blockbuster|blog|bloomberg|blue|bm|bms|bmw|bn|bnpparibas|bo|boats|boehringer|bofa|bom|bond|boo|book|booking|bosch|bostik|boston|bot|boutique|box|br|bradesco|bridgestone|broadway|broker|brother|brussels|bs|bt|budapest|bugatti|build|builders|business|buy|buzz|bv|bw|by|bz|bzh|ca|cab|cafe|cal|call|calvinklein|cam|camera|camp|cancerresearch|canon|capetown|capital|capitalone|car|caravan|cards|care|career|careers|cars|casa|case|caseih|cash|casino|cat|catering|catholic|cba|cbn|cbre|cbs|cc|cd|ceb|center|ceo|cern|cf|cfa|cfd|cg|ch|chanel|channel|charity|chase|chat|cheap|chintai|christmas|chrome|church|ci|cipriani|circle|cisco|citadel|citi|citic|city|cityeats|ck|cl|claims|cleaning|click|clinic|clinique|clothing|cloud|club|clubmed|cm|cn|co|coach|codes|coffee|college|cologne|com|comcast|commbank|community|company|compare|computer|comsec|condos|construction|consulting|contact|contractors|cooking|cookingchannel|cool|coop|corsica|country|coupon|coupons|courses|cpa|cr|credit|creditcard|creditunion|cricket|crown|crs|cruise|cruises|csc|cu|cuisinella|cv|cw|cx|cy|cymru|cyou|cz|dabur|dad|dance|data|date|dating|datsun|day|dclk|dds|de|deal|dealer|deals|degree|delivery|dell|deloitte|delta|democrat|dental|dentist|desi|design|dev|dhl|diamonds|diet|digital|direct|directory|discount|discover|dish|diy|dj|dk|dm|dnp|do|docs|doctor|dog|domains|dot|download|drive|dtv|dubai|duck|dunlop|dupont|durban|dvag|dvr|dz|earth|eat|ec|eco|edeka|edu|education|ee|eg|email|emerck|energy|engineer|engineering|enterprises|epson|equipment|er|ericsson|erni|es|esq|estate|esurance|et|etisalat|eu|eurovision|eus|events|exchange|expert|exposed|express|extraspace|fage|fail|fairwinds|faith|family|fan|fans|farm|farmers|fashion|fast|fedex|feedback|ferrari|ferrero|fi|fiat|fidelity|fido|film|final|finance|financial|fire|firestone|firmdale|fish|fishing|fit|fitness|fj|fk|flickr|flights|flir|florist|flowers|fly|fm|fo|foo|food|foodnetwork|football|ford|forex|forsale|forum|foundation|fox|fr|free|fresenius|frl|frogans|frontdoor|frontier|ftr|fujitsu|fujixerox|fun|fund|furniture|futbol|fyi|ga|gal|gallery|gallo|gallup|game|games|gap|garden|gay|gb|gbiz|gd|gdn|ge|gea|gent|genting|george|gf|gg|ggee|gh|gi|gift|gifts|gives|giving|gl|glade|glass|gle|global|globo|gm|gmail|gmbh|gmo|gmx|gn|godaddy|gold|goldpoint|golf|goo|goodyear|goog|google|gop|got|gov|gp|gq|gr|grainger|graphics|gratis|green|gripe|grocery|group|gs|gt|gu|guardian|gucci|guge|guide|guitars|guru|gw|gy|hair|hamburg|hangout|haus|hbo|hdfc|hdfcbank|health|healthcare|help|helsinki|here|hermes|hgtv|hiphop|hisamitsu|hitachi|hiv|hk|hkt|hm|hn|hockey|holdings|holiday|homedepot|homegoods|homes|homesense|honda|horse|hospital|host|hosting|hot|hoteles|hotels|hotmail|house|how|hr|hsbc|ht|hu|hughes|hyatt|hyundai|ibm|icbc|ice|icu|id|ie|ieee|ifm|ikano|il|im|imamat|imdb|immo|immobilien|in|inc|industries|infiniti|info|ing|ink|institute|insurance|insure|int|intel|international|intuit|investments|io|ipiranga|iq|ir|irish|is|ismaili|ist|istanbul|it|itau|itv|iveco|jaguar|java|jcb|jcp|je|jeep|jetzt|jewelry|jio|jll|jm|jmp|jnj|jo|jobs|joburg|jot|joy|jp|jpmorgan|jprs|juegos|juniper|kaufen|kddi|ke|kerryhotels|kerrylogistics|kerryproperties|kfh|kg|kh|ki|kia|kim|kinder|kindle|kitchen|kiwi|km|kn|koeln|komatsu|kosher|kp|kpmg|kpn|kr|krd|kred|kuokgroup|kw|ky|kyoto|kz|la|lacaixa|lamborghini|lamer|lancaster|lancia|land|landrover|lanxess|lasalle|lat|latino|latrobe|law|lawyer|lb|lc|lds|lease|leclerc|lefrak|legal|lego|lexus|lgbt|li|lidl|life|lifeinsurance|lifestyle|lighting|like|lilly|limited|limo|lincoln|linde|link|lipsy|live|living|lixil|lk|llc|llp|loan|loans|locker|locus|loft|lol|london|lotte|lotto|love|lpl|lplfinancial|lr|ls|lt|ltd|ltda|lu|lundbeck|lupin|luxe|luxury|lv|ly|ma|macys|madrid|maif|maison|makeup|man|management|mango|map|market|marketing|markets|marriott|marshalls|maserati|mattel|mba|mc|mckinsey|md|me|med|media|meet|melbourne|meme|memorial|men|menu|merckmsd|metlife|mg|mh|miami|microsoft|mil|mini|mint|mit|mitsubishi|mk|ml|mlb|mls|mm|mma|mn|mo|mobi|mobile|moda|moe|moi|mom|monash|money|monster|mormon|mortgage|moscow|moto|motorcycles|mov|movie|mp|mq|mr|ms|msd|mt|mtn|mtr|mu|museum|mutual|mv|mw|mx|my|mz|na|nab|nadex|nagoya|name|nationwide|natura|navy|nba|nc|ne|nec|net|netbank|netflix|network|neustar|new|newholland|news|next|nextdirect|nexus|nf|nfl|ng|ngo|nhk|ni|nico|nike|nikon|ninja|nissan|nissay|nl|no|nokia|northwesternmutual|norton|now|nowruz|nowtv|np|nr|nra|nrw|ntt|nu|nyc|nz|obi|observer|off|office|okinawa|olayan|olayangroup|oldnavy|ollo|om|omega|one|ong|onl|online|onyourside|ooo|open|oracle|orange|org|organic|origins|osaka|otsuka|ott|ovh|pa|page|panasonic|paris|pars|partners|parts|party|passagens|pay|pccw|pe|pet|pf|pfizer|pg|ph|pharmacy|phd|philips|phone|photo|photography|photos|physio|pics|pictet|pictures|pid|pin|ping|pink|pioneer|pizza|pk|pl|place|play|playstation|plumbing|plus|pm|pn|pnc|pohl|poker|politie|porn|post|pr|pramerica|praxi|press|prime|pro|prod|productions|prof|progressive|promo|properties|property|protection|pru|prudential|ps|pt|pub|pw|pwc|py|qa|qpon|quebec|quest|qvc|racing|radio|raid|re|read|realestate|realtor|realty|recipes|red|redstone|redumbrella|rehab|reise|reisen|reit|reliance|ren|rent|rentals|repair|report|republican|rest|restaurant|review|reviews|rexroth|rich|richardli|ricoh|rightathome|ril|rio|rip|rmit|ro|rocher|rocks|rodeo|rogers|room|rs|rsvp|ru|rugby|ruhr|run|rw|rwe|ryukyu|sa|saarland|safe|safety|sakura|sale|salon|samsclub|samsung|sandvik|sandvikcoromant|sanofi|sap|sarl|sas|save|saxo|sb|sbi|sbs|sc|sca|scb|schaeffler|schmidt|scholarships|school|schule|schwarz|science|scjohnson|scor|scot|sd|se|search|seat|secure|security|seek|select|sener|services|ses|seven|sew|sex|sexy|sfr|sg|sh|shangrila|sharp|shaw|shell|shia|shiksha|shoes|shop|shopping|shouji|show|showtime|shriram|si|silk|sina|singles|site|sj|sk|ski|skin|sky|skype|sl|sling|sm|smart|smile|sn|sncf|so|soccer|social|softbank|software|sohu|solar|solutions|song|sony|soy|space|sport|spot|spreadbetting|sr|srl|ss|st|stada|staples|star|statebank|statefarm|stc|stcgroup|stockholm|storage|store|stream|studio|study|style|su|sucks|supplies|supply|support|surf|surgery|suzuki|sv|swatch|swiftcover|swiss|sx|sy|sydney|symantec|systems|sz|tab|taipei|talk|taobao|target|tatamotors|tatar|tattoo|tax|taxi|tc|tci|td|tdk|team|tech|technology|tel|temasek|tennis|teva|tf|tg|th|thd|theater|theatre|tiaa|tickets|tienda|tiffany|tips|tires|tirol|tj|tjmaxx|tjx|tk|tkmaxx|tl|tm|tmall|tn|to|today|tokyo|tools|top|toray|toshiba|total|tours|town|toyota|toys|tr|trade|trading|training|travel|travelchannel|travelers|travelersinsurance|trust|trv|tt|tube|tui|tunes|tushu|tv|tvs|tw|tz|ua|ubank|ubs|ug|uk|unicom|university|uno|uol|ups|us|uy|uz|va|vacations|vana|vanguard|vc|ve|vegas|ventures|verisign|versicherung|vet|vg|vi|viajes|video|vig|viking|villas|vin|vip|virgin|visa|vision|vistaprint|viva|vivo|vlaanderen|vn|vodka|volkswagen|volvo|vote|voting|voto|voyage|vu|vuelos|wales|walmart|walter|wang|wanggou|watch|watches|weather|weatherchannel|webcam|weber|website|wed|wedding|weibo|weir|wf|whoswho|wien|wiki|williamhill|win|windows|wine|winners|wme|wolterskluwer|woodside|work|works|world|wow|ws|wtc|wtf|xbox|xerox|xfinity|xihuan|xin|xn--11b4c3d|xn--1ck2e1b|xn--1qqw23a|xn--2scrj9c|xn--30rr7y|xn--3bst00m|xn--3ds443g|xn--3e0b707e|xn--3hcrj9c|xn--3oq18vl8pn36a|xn--3pxu8k|xn--42c2d9a|xn--45br5cyl|xn--45brj9c|xn--45q11c|xn--4gbrim|xn--54b7fta0cc|xn--55qw42g|xn--55qx5d|xn--5su34j936bgsg|xn--5tzm5g|xn--6frz82g|xn--6qq986b3xl|xn--80adxhks|xn--80ao21a|xn--80aqecdr1a|xn--80asehdb|xn--80aswg|xn--8y0a063a|xn--90a3ac|xn--90ae|xn--90ais|xn--9dbq2a|xn--9et52u|xn--9krt00a|xn--b4w605ferd|xn--bck1b9a5dre4c|xn--c1avg|xn--c2br7g|xn--cck2b3b|xn--cg4bki|xn--clchc0ea0b2g2a9gcd|xn--czr694b|xn--czrs0t|xn--czru2d|xn--d1acj3b|xn--d1alf|xn--e1a4c|xn--eckvdtc9d|xn--efvy88h|xn--estv75g|xn--fct429k|xn--fhbei|xn--fiq228c5hs|xn--fiq64b|xn--fiqs8s|xn--fiqz9s|xn--fjq720a|xn--flw351e|xn--fpcrj9c3d|xn--fzc2c9e2c|xn--fzys8d69uvgm|xn--g2xx48c|xn--gckr3f0f|xn--gecrj9c|xn--gk3at1e|xn--h2breg3eve|xn--h2brj9c|xn--h2brj9c8c|xn--hxt814e|xn--i1b6b1a6a2e|xn--imr513n|xn--io0a7i|xn--j1aef|xn--j1amh|xn--j6w193g|xn--jlq61u9w7b|xn--jvr189m|xn--kcrx77d1x4a|xn--kprw13d|xn--kpry57d|xn--kpu716f|xn--kput3i|xn--l1acc|xn--lgbbat1ad8j|xn--mgb9awbf|xn--mgba3a3ejt|xn--mgba3a4f16a|xn--mgba7c0bbn0a|xn--mgbaakc7dvf|xn--mgbaam7a8h|xn--mgbab2bd|xn--mgbah1a3hjkrd|xn--mgbai9azgqp6j|xn--mgbayh7gpa|xn--mgbbh1a|xn--mgbbh1a71e|xn--mgbc0a9azcg|xn--mgbca7dzdo|xn--mgberp4a5d4ar|xn--mgbgu82a|xn--mgbi4ecexp|xn--mgbpl2fh|xn--mgbt3dhd|xn--mgbtx2b|xn--mgbx4cd0ab|xn--mix891f|xn--mk1bu44c|xn--mxtq1m|xn--ngbc5azd|xn--ngbe9e0a|xn--ngbrx|xn--node|xn--nqv7f|xn--nqv7fs00ema|xn--nyqy26a|xn--o3cw4h|xn--ogbpf8fl|xn--otu796d|xn--p1acf|xn--p1ai|xn--pbt977c|xn--pgbs0dh|xn--pssy2u|xn--q9jyb4c|xn--qcka1pmc|xn--qxa6a|xn--qxam|xn--rhqv96g|xn--rovu88b|xn--rvc1e0am3e|xn--s9brj9c|xn--ses554g|xn--t60b56a|xn--tckwe|xn--tiq49xqyj|xn--unup4y|xn--vermgensberater-ctb|xn--vermgensberatung-pwb|xn--vhquv|xn--vuq861b|xn--w4r85el8fhu5dnra|xn--w4rs40l|xn--wgbh1c|xn--wgbl6a|xn--xhq521b|xn--xkc2al3hye2a|xn--xkc2dl3a5ee0h|xn--y9a3aq|xn--yfro4i67o|xn--ygbi2ammx|xn--zfr164b|xxx|xyz|yachts|yahoo|yamaxun|yandex|ye|yodobashi|yoga|yokohama|you|youtube|yt|yun|za|zappos|zara|zero|zip|zm|zone|zuerich|zw))(:|/|$)'\n",
    ")\n",
    "''')"
   ]
  },
  {
   "cell_type": "code",
   "execution_count": 75,
   "metadata": {},
   "outputs": [],
   "source": [
    "con.commit()"
   ]
  },
  {
   "cell_type": "markdown",
   "metadata": {},
   "source": [
    "Local bookmarks are paths; paths contain `/`"
   ]
  },
  {
   "cell_type": "code",
   "execution_count": 76,
   "metadata": {},
   "outputs": [
    {
     "name": "stdout",
     "output_type": "stream",
     "text": [
      " * sqlite:///results.db\n",
      "374104 rows affected.\n"
     ]
    },
    {
     "data": {
      "text/plain": [
       "[]"
      ]
     },
     "execution_count": 76,
     "metadata": {},
     "output_type": "execute_result"
    }
   ],
   "source": [
    "%%sql\n",
    "insert or ignore into bookmark (argument_id, remote)\n",
    "select argument_id, 0\n",
    "from (\n",
    "    select argument_id from argument where name like '%/%'\n",
    ")"
   ]
  },
  {
   "cell_type": "code",
   "execution_count": 77,
   "metadata": {},
   "outputs": [
    {
     "name": "stdout",
     "output_type": "stream",
     "text": [
      " * sqlite:///results.db\n",
      "Done.\n"
     ]
    },
    {
     "data": {
      "text/html": [
       "<table>\n",
       "    <tr>\n",
       "        <th>count(*)</th>\n",
       "    </tr>\n",
       "    <tr>\n",
       "        <td>468267</td>\n",
       "    </tr>\n",
       "</table>"
      ],
      "text/plain": [
       "[(468267,)]"
      ]
     },
     "execution_count": 77,
     "metadata": {},
     "output_type": "execute_result"
    }
   ],
   "source": [
    "%sql select count(*) from bookmark"
   ]
  },
  {
   "cell_type": "markdown",
   "metadata": {},
   "source": [
    "### Look for false positives and define exclusion criteria"
   ]
  },
  {
   "cell_type": "code",
   "execution_count": null,
   "metadata": {},
   "outputs": [],
   "source": [
    "%%sql\n",
    "select argument.name, count(*)\n",
    "from bookmark join argument using (argument_id)\n",
    "group by argument.name\n",
    "order by count(*) desc\n",
    "limit 200;"
   ]
  },
  {
   "cell_type": "code",
   "execution_count": null,
   "metadata": {},
   "outputs": [],
   "source": [
    "%%sql\n",
    "delete from bookmark\n",
    "where argument_id in \n",
    "(select argument_id from bookmark join argument using (argument_id) join command using (command_id)\n",
    " where argument.name in ('*/', '*(-/DN)', 'user.name', 'user.email')\n",
    "or argument.name like '%/dev/null%'\n",
    "or (command.name = 'git' and (\n",
    "    argument.name like '%origin/%' \n",
    "    or argument.name like '%upstream/%' \n",
    "    or argument.name like '%refs/%'))\n",
    "or argument.name like '%./*.deb%'\n",
    "or (argument.name like \"%'s/%\" or argument.name like '%\"s/%' or argument.name like '% s/%')\n",
    "or argument.name like '%sub(/inet6%'\n",
    "or argument.name like '%PATH//:/%'\n",
    "or argument.name like '%(%%v/%%V)%'\n",
    "or argument.name like '%/(\\d+\\.\\d+\\.\\d+\\.\\d+)/%'\n",
    "or argument.name like '%s;[^/]*/;%'\n",
    ")"
   ]
  },
  {
   "cell_type": "code",
   "execution_count": null,
   "metadata": {},
   "outputs": [],
   "source": [
    "con.execute('''\n",
    "delete from bookmark\n",
    "where argument_id in \n",
    "(select argument_id from bookmark join argument using (argument_id)\n",
    "where argument.name regexp '^[\\.\\/]+$'\n",
    ")\n",
    "''')\n",
    "con.commit()"
   ]
  },
  {
   "cell_type": "markdown",
   "metadata": {},
   "source": [
    "Fix some TLDs to not count for remote bookmarks"
   ]
  },
  {
   "cell_type": "code",
   "execution_count": null,
   "metadata": {},
   "outputs": [],
   "source": [
    "%%sql\n",
    "update bookmark\n",
    "set remote = 0\n",
    "where argument_id in\n",
    "(select argument_id from bookmark join argument using (argument_id)\n",
    " where argument.name like '%.app%'\n",
    " or argument.name like '%.pub%'\n",
    " or argument.name like '%.libs%'\n",
    " or argument.name like '%.menu%'\n",
    " or argument.name like '%.py%'\n",
    " or argument.name like '%.sh%'\n",
    ")"
   ]
  },
  {
   "cell_type": "markdown",
   "metadata": {},
   "source": [
    "## Analysis"
   ]
  },
  {
   "cell_type": "code",
   "execution_count": 26,
   "metadata": {},
   "outputs": [
    {
     "name": "stdout",
     "output_type": "stream",
     "text": [
      " * sqlite:///results.db\n",
      "Done.\n"
     ]
    },
    {
     "data": {
      "text/html": [
       "<table>\n",
       "    <tr>\n",
       "        <th>#</th>\n",
       "        <th>%</th>\n",
       "    </tr>\n",
       "    <tr>\n",
       "        <td>321546</td>\n",
       "        <td>14.59</td>\n",
       "    </tr>\n",
       "</table>"
      ],
      "text/plain": [
       "[(321546, 14.59)]"
      ]
     },
     "execution_count": 26,
     "metadata": {},
     "output_type": "execute_result"
    }
   ],
   "source": [
    "%%sql \n",
    "with total as (select count(*) as total from alias)\n",
    "select count(distinct alias_id) as '#', round(count(distinct alias_id)*100.0/total,2) as '%' \n",
    "from bookmark join argument using (argument_id) join command using (command_id) join alias using (alias_id)\n",
    "join total"
   ]
  },
  {
   "cell_type": "code",
   "execution_count": 27,
   "metadata": {},
   "outputs": [
    {
     "name": "stdout",
     "output_type": "stream",
     "text": [
      " * sqlite:///results.db\n",
      "Done.\n"
     ]
    },
    {
     "data": {
      "text/html": [
       "<table>\n",
       "    <tr>\n",
       "        <th># remote</th>\n",
       "        <th>%</th>\n",
       "        <th>% of bookmarks</th>\n",
       "    </tr>\n",
       "    <tr>\n",
       "        <td>59931</td>\n",
       "        <td>2.72</td>\n",
       "        <td>15.92</td>\n",
       "    </tr>\n",
       "</table>"
      ],
      "text/plain": [
       "[(59931, 2.72, 15.92)]"
      ]
     },
     "execution_count": 27,
     "metadata": {},
     "output_type": "execute_result"
    }
   ],
   "source": [
    "%%sql\n",
    "with \n",
    "    total as (select count(*) as total from alias),\n",
    "    total_bookmarks as (select count(*) as total_bookmarks from bookmark)\n",
    "select \n",
    "    count(distinct alias_id) as '# remote', \n",
    "    round(count(distinct alias_id)*100.0/total,2) as '%',\n",
    "    round(count(distinct alias_id)*100.0/total_bookmarks,2) as '% of bookmarks'\n",
    "from bookmark join argument using (argument_id) join command using (command_id) join alias using (alias_id)\n",
    "join total\n",
    "join total_bookmarks\n",
    "where bookmark.remote = 1"
   ]
  },
  {
   "cell_type": "code",
   "execution_count": 28,
   "metadata": {},
   "outputs": [
    {
     "name": "stdout",
     "output_type": "stream",
     "text": [
      " * sqlite:///results.db\n",
      "Done.\n"
     ]
    },
    {
     "data": {
      "text/html": [
       "<table>\n",
       "    <tr>\n",
       "        <th>name</th>\n",
       "        <th>#</th>\n",
       "    </tr>\n",
       "    <tr>\n",
       "        <td>~/.zshrc</td>\n",
       "        <td>13331</td>\n",
       "    </tr>\n",
       "    <tr>\n",
       "        <td>~/.bashrc</td>\n",
       "        <td>7319</td>\n",
       "    </tr>\n",
       "    <tr>\n",
       "        <td>~/.bash_profile</td>\n",
       "        <td>4403</td>\n",
       "    </tr>\n",
       "    <tr>\n",
       "        <td>~/.vimrc</td>\n",
       "        <td>3612</td>\n",
       "    </tr>\n",
       "    <tr>\n",
       "        <td>manage.py</td>\n",
       "        <td>2374</td>\n",
       "    </tr>\n",
       "    <tr>\n",
       "        <td>~/Downloads</td>\n",
       "        <td>2169</td>\n",
       "    </tr>\n",
       "    <tr>\n",
       "        <td>~/.oh-my-zsh</td>\n",
       "        <td>1986</td>\n",
       "    </tr>\n",
       "    <tr>\n",
       "        <td>~/Desktop</td>\n",
       "        <td>1874</td>\n",
       "    </tr>\n",
       "    <tr>\n",
       "        <td>/etc/hosts</td>\n",
       "        <td>1769</td>\n",
       "    </tr>\n",
       "    <tr>\n",
       "        <td>/System/Library/CoreServices/Finder.app</td>\n",
       "        <td>1551</td>\n",
       "    </tr>\n",
       "    <tr>\n",
       "        <td>/usr/local/var/postgres</td>\n",
       "        <td>1501</td>\n",
       "    </tr>\n",
       "    <tr>\n",
       "        <td>~/.tmux.conf</td>\n",
       "        <td>1238</td>\n",
       "    </tr>\n",
       "    <tr>\n",
       "        <td>~/.Trash</td>\n",
       "        <td>1220</td>\n",
       "    </tr>\n",
       "    <tr>\n",
       "        <td>/Volumes/*/.Trashes</td>\n",
       "        <td>1133</td>\n",
       "    </tr>\n",
       "    <tr>\n",
       "        <td>/private/var/log/asl/*.asl</td>\n",
       "        <td>1069</td>\n",
       "    </tr>\n",
       "    <tr>\n",
       "        <td>~/.ssh/id_rsa.pub</td>\n",
       "        <td>938</td>\n",
       "    </tr>\n",
       "    <tr>\n",
       "        <td>~/.bash_aliases</td>\n",
       "        <td>918</td>\n",
       "    </tr>\n",
       "    <tr>\n",
       "        <td>~/.Xresources</td>\n",
       "        <td>864</td>\n",
       "    </tr>\n",
       "    <tr>\n",
       "        <td>$HOME/.zshrc</td>\n",
       "        <td>853</td>\n",
       "    </tr>\n",
       "    <tr>\n",
       "        <td>~/.config/i3/config</td>\n",
       "        <td>836</td>\n",
       "    </tr>\n",
       "</table>"
      ],
      "text/plain": [
       "[('~/.zshrc', 13331),\n",
       " ('~/.bashrc', 7319),\n",
       " ('~/.bash_profile', 4403),\n",
       " ('~/.vimrc', 3612),\n",
       " ('manage.py', 2374),\n",
       " ('~/Downloads', 2169),\n",
       " ('~/.oh-my-zsh', 1986),\n",
       " ('~/Desktop', 1874),\n",
       " ('/etc/hosts', 1769),\n",
       " ('/System/Library/CoreServices/Finder.app', 1551),\n",
       " ('/usr/local/var/postgres', 1501),\n",
       " ('~/.tmux.conf', 1238),\n",
       " ('~/.Trash', 1220),\n",
       " ('/Volumes/*/.Trashes', 1133),\n",
       " ('/private/var/log/asl/*.asl', 1069),\n",
       " ('~/.ssh/id_rsa.pub', 938),\n",
       " ('~/.bash_aliases', 918),\n",
       " ('~/.Xresources', 864),\n",
       " ('$HOME/.zshrc', 853),\n",
       " ('~/.config/i3/config', 836)]"
      ]
     },
     "execution_count": 28,
     "metadata": {},
     "output_type": "execute_result"
    }
   ],
   "source": [
    "%%sql\n",
    "select argument.name, count(*) as '#'\n",
    "from argument join bookmark using (argument_id)\n",
    "where bookmark.remote = 0\n",
    "group by argument.name\n",
    "order by count(*) desc\n",
    "limit 20;"
   ]
  },
  {
   "cell_type": "code",
   "execution_count": 30,
   "metadata": {},
   "outputs": [
    {
     "name": "stdout",
     "output_type": "stream",
     "text": [
      " * sqlite:///results.db\n",
      "Done.\n"
     ]
    },
    {
     "data": {
      "text/html": [
       "<table>\n",
       "    <tr>\n",
       "        <th>name</th>\n",
       "        <th>#</th>\n",
       "    </tr>\n",
       "    <tr>\n",
       "        <td>myip.opendns.com</td>\n",
       "        <td>2670</td>\n",
       "    </tr>\n",
       "    <tr>\n",
       "        <td>@resolver1.opendns.com</td>\n",
       "        <td>2645</td>\n",
       "    </tr>\n",
       "    <tr>\n",
       "        <td>8.8.8.8</td>\n",
       "        <td>706</td>\n",
       "    </tr>\n",
       "    <tr>\n",
       "        <td>127.0.0.1</td>\n",
       "        <td>643</td>\n",
       "    </tr>\n",
       "    <tr>\n",
       "        <td>google.com</td>\n",
       "        <td>461</td>\n",
       "    </tr>\n",
       "    <tr>\n",
       "        <td>wttr.in</td>\n",
       "        <td>422</td>\n",
       "    </tr>\n",
       "    <tr>\n",
       "        <td>towel.blinkenlights.nl</td>\n",
       "        <td>388</td>\n",
       "    </tr>\n",
       "    <tr>\n",
       "        <td>icanhazip.com</td>\n",
       "        <td>375</td>\n",
       "    </tr>\n",
       "    <tr>\n",
       "        <td>0.0.0.0</td>\n",
       "        <td>358</td>\n",
       "    </tr>\n",
       "    <tr>\n",
       "        <td>http://ipecho.net/plain</td>\n",
       "        <td>353</td>\n",
       "    </tr>\n",
       "    <tr>\n",
       "        <td>www.google.com</td>\n",
       "        <td>328</td>\n",
       "    </tr>\n",
       "    <tr>\n",
       "        <td>&#x27;127.0.0.1&#x27;</td>\n",
       "        <td>286</td>\n",
       "    </tr>\n",
       "    <tr>\n",
       "        <td>whois-servers.net</td>\n",
       "        <td>281</td>\n",
       "    </tr>\n",
       "    <tr>\n",
       "        <td>--registry=https://registry.npm.taobao.org</td>\n",
       "        <td>268</td>\n",
       "    </tr>\n",
       "    <tr>\n",
       "        <td>ifconfig.me</td>\n",
       "        <td>267</td>\n",
       "    </tr>\n",
       "    <tr>\n",
       "        <td>0.0.0.0:8000</td>\n",
       "        <td>249</td>\n",
       "    </tr>\n",
       "    <tr>\n",
       "        <td>ipinfo.io/ip</td>\n",
       "        <td>247</td>\n",
       "    </tr>\n",
       "    <tr>\n",
       "        <td>http://sprunge.us</td>\n",
       "        <td>237</td>\n",
       "    </tr>\n",
       "    <tr>\n",
       "        <td>--disturl=https://npm.taobao.org/dist</td>\n",
       "        <td>229</td>\n",
       "    </tr>\n",
       "    <tr>\n",
       "        <td>termbin.com</td>\n",
       "        <td>184</td>\n",
       "    </tr>\n",
       "</table>"
      ],
      "text/plain": [
       "[('myip.opendns.com', 2670),\n",
       " ('@resolver1.opendns.com', 2645),\n",
       " ('8.8.8.8', 706),\n",
       " ('127.0.0.1', 643),\n",
       " ('google.com', 461),\n",
       " ('wttr.in', 422),\n",
       " ('towel.blinkenlights.nl', 388),\n",
       " ('icanhazip.com', 375),\n",
       " ('0.0.0.0', 358),\n",
       " ('http://ipecho.net/plain', 353),\n",
       " ('www.google.com', 328),\n",
       " (\"'127.0.0.1'\", 286),\n",
       " ('whois-servers.net', 281),\n",
       " ('--registry=https://registry.npm.taobao.org', 268),\n",
       " ('ifconfig.me', 267),\n",
       " ('0.0.0.0:8000', 249),\n",
       " ('ipinfo.io/ip', 247),\n",
       " ('http://sprunge.us', 237),\n",
       " ('--disturl=https://npm.taobao.org/dist', 229),\n",
       " ('termbin.com', 184)]"
      ]
     },
     "execution_count": 30,
     "metadata": {},
     "output_type": "execute_result"
    }
   ],
   "source": [
    "%%sql\n",
    "select argument.name, count(*) as '#'\n",
    "from argument join bookmark using (argument_id)\n",
    "where bookmark.remote = 1\n",
    "group by argument.name\n",
    "order by count(*) desc\n",
    "limit 20;"
   ]
  },
  {
   "cell_type": "code",
   "execution_count": null,
   "metadata": {},
   "outputs": [],
   "source": []
  }
 ],
 "metadata": {
  "kernelspec": {
   "display_name": "Python 3.7.6 64-bit",
   "language": "python",
   "name": "python37664bit0fda1b1dbdee481db7662a4e7d3141e4"
  },
  "language_info": {
   "codemirror_mode": {
    "name": "ipython",
    "version": 3
   },
   "file_extension": ".py",
   "mimetype": "text/x-python",
   "name": "python",
   "nbconvert_exporter": "python",
   "pygments_lexer": "ipython3",
   "version": "3.8.5"
  }
 },
 "nbformat": 4,
 "nbformat_minor": 4
}
