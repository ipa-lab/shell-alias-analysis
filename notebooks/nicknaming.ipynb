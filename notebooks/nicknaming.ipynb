{
 "cells": [
  {
   "cell_type": "code",
   "execution_count": 11,
   "metadata": {},
   "outputs": [
    {
     "name": "stdout",
     "output_type": "stream",
     "text": [
      "The sql extension is already loaded. To reload it, use:\n",
      "  %reload_ext sql\n"
     ]
    }
   ],
   "source": [
    "import sqlite3\n",
    "import pandas as pd\n",
    "import matplotlib.pyplot as plt\n",
    "%matplotlib inline\n",
    "%load_ext sql"
   ]
  },
  {
   "cell_type": "code",
   "execution_count": 12,
   "metadata": {},
   "outputs": [],
   "source": [
    "%sql sqlite:///results.db"
   ]
  },
  {
   "cell_type": "markdown",
   "metadata": {},
   "source": [
    "# Renaming commands (Nicknaming)\n",
    "\n",
    "`A = B`\n",
    "\n",
    "Renaming occurs when a new name is given to a command, but no semantic changes are introduced (i.e. the alias value is simply the command name, nothing else)."
   ]
  },
  {
   "cell_type": "code",
   "execution_count": 13,
   "metadata": {},
   "outputs": [
    {
     "name": "stdout",
     "output_type": "stream",
     "text": [
      " * sqlite:///results.db\n",
      "Done.\n"
     ]
    },
    {
     "data": {
      "text/html": [
       "<table>\n",
       "    <tr>\n",
       "        <th>#</th>\n",
       "        <th>%</th>\n",
       "    </tr>\n",
       "    <tr>\n",
       "        <td>244872</td>\n",
       "        <td>11.11</td>\n",
       "    </tr>\n",
       "</table>"
      ],
      "text/plain": [
       "[(244872, 11.11)]"
      ]
     },
     "execution_count": 13,
     "metadata": {},
     "output_type": "execute_result"
    }
   ],
   "source": [
    "%%sql \n",
    "with total as (select count(*) as total from alias)\n",
    "select count(*) as '#', round(count(*)*100.0/total,2) as '%' \n",
    "from alias join command using (alias_id)\n",
    "join total\n",
    "where alias.value = command.name\n",
    "and alias.name != command.name\n",
    "and alias.name not in known_commands"
   ]
  },
  {
   "cell_type": "code",
   "execution_count": 15,
   "metadata": {},
   "outputs": [
    {
     "name": "stdout",
     "output_type": "stream",
     "text": [
      " * sqlite:///results.db\n",
      "Done.\n"
     ]
    },
    {
     "data": {
      "text/html": [
       "<table>\n",
       "    <tr>\n",
       "        <th>name</th>\n",
       "        <th>value</th>\n",
       "        <th>#</th>\n",
       "    </tr>\n",
       "    <tr>\n",
       "        <td>g</td>\n",
       "        <td>git</td>\n",
       "        <td>8618</td>\n",
       "    </tr>\n",
       "    <tr>\n",
       "        <td>c</td>\n",
       "        <td>clear</td>\n",
       "        <td>6815</td>\n",
       "    </tr>\n",
       "    <tr>\n",
       "        <td>h</td>\n",
       "        <td>history</td>\n",
       "        <td>4376</td>\n",
       "    </tr>\n",
       "    <tr>\n",
       "        <td>v</td>\n",
       "        <td>vim</td>\n",
       "        <td>3972</td>\n",
       "    </tr>\n",
       "    <tr>\n",
       "        <td>cls</td>\n",
       "        <td>clear</td>\n",
       "        <td>3047</td>\n",
       "    </tr>\n",
       "    <tr>\n",
       "        <td>l</td>\n",
       "        <td>ls</td>\n",
       "        <td>2702</td>\n",
       "    </tr>\n",
       "    <tr>\n",
       "        <td>dc</td>\n",
       "        <td>docker-compose</td>\n",
       "        <td>2331</td>\n",
       "    </tr>\n",
       "    <tr>\n",
       "        <td>sl</td>\n",
       "        <td>ls</td>\n",
       "        <td>2074</td>\n",
       "    </tr>\n",
       "    <tr>\n",
       "        <td>cl</td>\n",
       "        <td>clear</td>\n",
       "        <td>1891</td>\n",
       "    </tr>\n",
       "    <tr>\n",
       "        <td>k</td>\n",
       "        <td>kubectl</td>\n",
       "        <td>1778</td>\n",
       "    </tr>\n",
       "    <tr>\n",
       "        <td>:q</td>\n",
       "        <td>exit</td>\n",
       "        <td>1653</td>\n",
       "    </tr>\n",
       "    <tr>\n",
       "        <td>q</td>\n",
       "        <td>exit</td>\n",
       "        <td>1397</td>\n",
       "    </tr>\n",
       "    <tr>\n",
       "        <td>v</td>\n",
       "        <td>nvim</td>\n",
       "        <td>1393</td>\n",
       "    </tr>\n",
       "    <tr>\n",
       "        <td>d</td>\n",
       "        <td>docker</td>\n",
       "        <td>1321</td>\n",
       "    </tr>\n",
       "    <tr>\n",
       "        <td>py</td>\n",
       "        <td>python</td>\n",
       "        <td>1294</td>\n",
       "    </tr>\n",
       "    <tr>\n",
       "        <td>j</td>\n",
       "        <td>jobs</td>\n",
       "        <td>1137</td>\n",
       "    </tr>\n",
       "    <tr>\n",
       "        <td>o</td>\n",
       "        <td>open</td>\n",
       "        <td>898</td>\n",
       "    </tr>\n",
       "    <tr>\n",
       "        <td>r</td>\n",
       "        <td>ranger</td>\n",
       "        <td>854</td>\n",
       "    </tr>\n",
       "    <tr>\n",
       "        <td>x</td>\n",
       "        <td>exit</td>\n",
       "        <td>817</td>\n",
       "    </tr>\n",
       "    <tr>\n",
       "        <td>t</td>\n",
       "        <td>tmux</td>\n",
       "        <td>803</td>\n",
       "    </tr>\n",
       "</table>"
      ],
      "text/plain": [
       "[('g', 'git', 8618),\n",
       " ('c', 'clear', 6815),\n",
       " ('h', 'history', 4376),\n",
       " ('v', 'vim', 3972),\n",
       " ('cls', 'clear', 3047),\n",
       " ('l', 'ls', 2702),\n",
       " ('dc', 'docker-compose', 2331),\n",
       " ('sl', 'ls', 2074),\n",
       " ('cl', 'clear', 1891),\n",
       " ('k', 'kubectl', 1778),\n",
       " (':q', 'exit', 1653),\n",
       " ('q', 'exit', 1397),\n",
       " ('v', 'nvim', 1393),\n",
       " ('d', 'docker', 1321),\n",
       " ('py', 'python', 1294),\n",
       " ('j', 'jobs', 1137),\n",
       " ('o', 'open', 898),\n",
       " ('r', 'ranger', 854),\n",
       " ('x', 'exit', 817),\n",
       " ('t', 'tmux', 803)]"
      ]
     },
     "execution_count": 15,
     "metadata": {},
     "output_type": "execute_result"
    }
   ],
   "source": [
    "%%sql\n",
    "select alias.name, alias.value, count(*) as '#'\n",
    "from alias join command using (alias_id)\n",
    "where alias.value = command.name\n",
    "and alias.name != command.name\n",
    "and alias.name not in known_commands\n",
    "group by alias.value, alias.name\n",
    "order by count(*) desc\n",
    "limit 20;"
   ]
  },
  {
   "cell_type": "code",
   "execution_count": 28,
   "metadata": {},
   "outputs": [
    {
     "name": "stdout",
     "output_type": "stream",
     "text": [
      " * sqlite:///results.db\n",
      "Done.\n"
     ]
    },
    {
     "data": {
      "text/html": [
       "<table>\n",
       "    <tr>\n",
       "        <th>#</th>\n",
       "    </tr>\n",
       "    <tr>\n",
       "        <td>124518</td>\n",
       "    </tr>\n",
       "</table>"
      ],
      "text/plain": [
       "[(124518,)]"
      ]
     },
     "execution_count": 28,
     "metadata": {},
     "output_type": "execute_result"
    }
   ],
   "source": [
    "%%sql\n",
    "select count(*) as '#'\n",
    "from alias join command using (alias_id)\n",
    "where alias.value = command.name\n",
    "and alias.name != command.name\n",
    "and alias.name not in known_commands\n",
    "and length(alias.name) <= 2;"
   ]
  },
  {
   "cell_type": "code",
   "execution_count": 31,
   "metadata": {},
   "outputs": [
    {
     "name": "stdout",
     "output_type": "stream",
     "text": [
      " * sqlite:///results.db\n",
      "Done.\n"
     ]
    },
    {
     "data": {
      "text/html": [
       "<table>\n",
       "    <tr>\n",
       "        <th>#</th>\n",
       "    </tr>\n",
       "    <tr>\n",
       "        <td>227802</td>\n",
       "    </tr>\n",
       "</table>"
      ],
      "text/plain": [
       "[(227802,)]"
      ]
     },
     "execution_count": 31,
     "metadata": {},
     "output_type": "execute_result"
    }
   ],
   "source": [
    "%%sql\n",
    "select count(*) as '#'\n",
    "from alias join command using (alias_id)\n",
    "where alias.value = command.name\n",
    "and alias.name != command.name\n",
    "and alias.name not in known_commands\n",
    "and length(alias.name) <= length(alias.value)"
   ]
  },
  {
   "cell_type": "markdown",
   "metadata": {},
   "source": [
    "---\n",
    "## By Command"
   ]
  },
  {
   "cell_type": "code",
   "execution_count": 32,
   "metadata": {},
   "outputs": [
    {
     "name": "stdout",
     "output_type": "stream",
     "text": [
      " * sqlite:///results.db\n",
      "Done.\n"
     ]
    },
    {
     "data": {
      "text/html": [
       "<table>\n",
       "    <tr>\n",
       "        <th>cmd_name</th>\n",
       "        <th>num</th>\n",
       "        <th>per</th>\n",
       "    </tr>\n",
       "    <tr>\n",
       "        <td>exit</td>\n",
       "        <td>6562</td>\n",
       "        <td>85.86</td>\n",
       "    </tr>\n",
       "    <tr>\n",
       "        <td>clear</td>\n",
       "        <td>13448</td>\n",
       "        <td>68.29</td>\n",
       "    </tr>\n",
       "    <tr>\n",
       "        <td>popd</td>\n",
       "        <td>1554</td>\n",
       "        <td>64.75</td>\n",
       "    </tr>\n",
       "    <tr>\n",
       "        <td>ranger</td>\n",
       "        <td>1429</td>\n",
       "        <td>58.98</td>\n",
       "    </tr>\n",
       "    <tr>\n",
       "        <td>history</td>\n",
       "        <td>4934</td>\n",
       "        <td>44.55</td>\n",
       "    </tr>\n",
       "    <tr>\n",
       "        <td>jobs</td>\n",
       "        <td>1231</td>\n",
       "        <td>40.99</td>\n",
       "    </tr>\n",
       "    <tr>\n",
       "        <td>pushd</td>\n",
       "        <td>1356</td>\n",
       "        <td>38.05</td>\n",
       "    </tr>\n",
       "    <tr>\n",
       "        <td>xdg-open</td>\n",
       "        <td>1298</td>\n",
       "        <td>37.16</td>\n",
       "    </tr>\n",
       "    <tr>\n",
       "        <td>sudo</td>\n",
       "        <td>2971</td>\n",
       "        <td>34.35</td>\n",
       "    </tr>\n",
       "    <tr>\n",
       "        <td>docker-compose</td>\n",
       "        <td>3543</td>\n",
       "        <td>32.99</td>\n",
       "    </tr>\n",
       "    <tr>\n",
       "        <td>python3</td>\n",
       "        <td>1701</td>\n",
       "        <td>28.19</td>\n",
       "    </tr>\n",
       "</table>"
      ],
      "text/plain": [
       "[('exit', 6562, 85.86),\n",
       " ('clear', 13448, 68.29),\n",
       " ('popd', 1554, 64.75),\n",
       " ('ranger', 1429, 58.98),\n",
       " ('history', 4934, 44.55),\n",
       " ('jobs', 1231, 40.99),\n",
       " ('pushd', 1356, 38.05),\n",
       " ('xdg-open', 1298, 37.16),\n",
       " ('sudo', 2971, 34.35),\n",
       " ('docker-compose', 3543, 32.99),\n",
       " ('python3', 1701, 28.19)]"
      ]
     },
     "execution_count": 32,
     "metadata": {},
     "output_type": "execute_result"
    }
   ],
   "source": [
    "%%sql\n",
    "select \n",
    "    cmd_name,\n",
    "    count(distinct alias_id) as num,\n",
    "    round(count(distinct alias_id)*100.0/total,2) as per\n",
    "from (\n",
    "    select command.name as cmd_name, alias_id\n",
    "    from alias join command using (alias_id)\n",
    "    where alias.value = command.name\n",
    "    and alias.name != command.name\n",
    "    and alias.name not in known_commands\n",
    ")\n",
    "join command_alias_totals using (cmd_name)\n",
    "group by cmd_name\n",
    "having num > 1000 and per > 25\n",
    "order by per desc, num desc"
   ]
  },
  {
   "cell_type": "code",
   "execution_count": null,
   "metadata": {},
   "outputs": [],
   "source": []
  }
 ],
 "metadata": {
  "kernelspec": {
   "display_name": "Python 3.7.6 64-bit",
   "language": "python",
   "name": "python37664bit0fda1b1dbdee481db7662a4e7d3141e4"
  },
  "language_info": {
   "codemirror_mode": {
    "name": "ipython",
    "version": 3
   },
   "file_extension": ".py",
   "mimetype": "text/x-python",
   "name": "python",
   "nbconvert_exporter": "python",
   "pygments_lexer": "ipython3",
   "version": "3.8.5"
  }
 },
 "nbformat": 4,
 "nbformat_minor": 4
}
