{
 "cells": [
  {
   "cell_type": "code",
   "execution_count": 1,
   "metadata": {},
   "outputs": [],
   "source": [
    "import sqlite3\n",
    "import pandas as pd\n",
    "import matplotlib.pyplot as plt\n",
    "%matplotlib inline\n",
    "%load_ext sql"
   ]
  },
  {
   "cell_type": "code",
   "execution_count": 10,
   "metadata": {},
   "outputs": [],
   "source": [
    "%sql sqlite:///results.db"
   ]
  },
  {
   "cell_type": "markdown",
   "metadata": {},
   "source": [
    "### Creating Indexes & Adding Summary Columns\n",
    "\n",
    "Before we dive into all kinds of data analysis, let's create some table indexes to speed things up, and some additional columns that will come in handy.\n",
    "\n",
    "Note: The dataset on Zenodo already includes these things."
   ]
  },
  {
   "cell_type": "code",
   "execution_count": null,
   "metadata": {},
   "outputs": [],
   "source": [
    "%%sql \n",
    "create index alias_name_idx on alias (name);\n",
    "create index alias_value_idx on alias (value);\n",
    "create index command_name_idx on command (name);\n",
    "create index command_arguments_idx on command (arguments);\n",
    "create index command_alias_id_idx on command (alias_id);\n",
    "create index argument_name_idx on argument (name);\n",
    "create index argument_command_id_idx on argument (command_id);"
   ]
  },
  {
   "cell_type": "code",
   "execution_count": null,
   "metadata": {},
   "outputs": [],
   "source": [
    "%%sql\n",
    "begin transaction;\n",
    "\n",
    "create temp table alias_num_commands as \n",
    "select alias.alias_id as alias_id, count(command.alias_id) as num_commands\n",
    "from alias join command using (alias_id)\n",
    "group by alias.alias_id;\n",
    "create index alias_num_commands_idx on alias_num_commands (alias_id);\n",
    "\n",
    "alter table alias add column num_commands integer not null default 0;\n",
    "update alias set num_commands = (\n",
    "    select num_commands \n",
    "    from alias_num_commands \n",
    "    where alias_num_commands.alias_id = alias.alias_id\n",
    ");\n",
    "create index alias_num_commands_idx on alias (num_commands);\n",
    "\n",
    "drop table alias_num_commands;\n",
    "\n",
    "commit;"
   ]
  },
  {
   "cell_type": "code",
   "execution_count": null,
   "metadata": {},
   "outputs": [],
   "source": [
    "%%sql\n",
    "begin transaction;\n",
    "\n",
    "create temp table command_num_arguments as\n",
    "select command.command_id as command_id, count(argument.command_id) as num_arguments\n",
    "from command join argument using (command_id)\n",
    "group by command.command_id;\n",
    "\n",
    "insert into command_num_arguments\n",
    "select command.command_id, 0\n",
    "from command\n",
    "where command.command_id not in (select command_id from command_num_arguments);\n",
    "\n",
    "create index command_num_arguments_idx on command_num_arguments (command_id);\n",
    "\n",
    "alter table command add column num_arguments integer not null default 0;\n",
    "update command set num_arguments = (\n",
    "    select num_arguments\n",
    "    from command_num_arguments\n",
    "    where command_num_arguments.command_id = command.command_id\n",
    ");\n",
    "create index command_num_arguments_idx on command (num_arguments);\n",
    "\n",
    "drop table command_num_arguments;\n",
    "\n",
    "commit;"
   ]
  },
  {
   "cell_type": "markdown",
   "metadata": {},
   "source": [
    "# Summary Statistics"
   ]
  },
  {
   "cell_type": "code",
   "execution_count": 35,
   "metadata": {},
   "outputs": [
    {
     "name": "stdout",
     "output_type": "stream",
     "text": [
      " * sqlite:///results.db\n",
      "Done.\n"
     ]
    },
    {
     "data": {
      "text/html": [
       "<table>\n",
       "    <tr>\n",
       "        <th>number_of_aliases</th>\n",
       "    </tr>\n",
       "    <tr>\n",
       "        <td>2204199</td>\n",
       "    </tr>\n",
       "</table>"
      ],
      "text/plain": [
       "[(2204199,)]"
      ]
     },
     "execution_count": 35,
     "metadata": {},
     "output_type": "execute_result"
    }
   ],
   "source": [
    "%sql select count(*) as number_of_aliases from alias"
   ]
  },
  {
   "cell_type": "code",
   "execution_count": 36,
   "metadata": {},
   "outputs": [
    {
     "name": "stdout",
     "output_type": "stream",
     "text": [
      " * sqlite:///results.db\n",
      "Done.\n"
     ]
    },
    {
     "data": {
      "text/html": [
       "<table>\n",
       "    <tr>\n",
       "        <th>number_of_commands</th>\n",
       "    </tr>\n",
       "    <tr>\n",
       "        <td>2534167</td>\n",
       "    </tr>\n",
       "</table>"
      ],
      "text/plain": [
       "[(2534167,)]"
      ]
     },
     "execution_count": 36,
     "metadata": {},
     "output_type": "execute_result"
    }
   ],
   "source": [
    "%sql select count(*) as number_of_commands from command"
   ]
  },
  {
   "cell_type": "code",
   "execution_count": 37,
   "metadata": {},
   "outputs": [
    {
     "name": "stdout",
     "output_type": "stream",
     "text": [
      " * sqlite:///results.db\n",
      "Done.\n"
     ]
    },
    {
     "data": {
      "text/html": [
       "<table>\n",
       "    <tr>\n",
       "        <th>number_of_arguments</th>\n",
       "    </tr>\n",
       "    <tr>\n",
       "        <td>3630423</td>\n",
       "    </tr>\n",
       "</table>"
      ],
      "text/plain": [
       "[(3630423,)]"
      ]
     },
     "execution_count": 37,
     "metadata": {},
     "output_type": "execute_result"
    }
   ],
   "source": [
    "%sql select count(*) as number_of_arguments from argument"
   ]
  },
  {
   "cell_type": "markdown",
   "metadata": {},
   "source": [
    "# Top alias definitions"
   ]
  },
  {
   "cell_type": "code",
   "execution_count": 38,
   "metadata": {},
   "outputs": [
    {
     "name": "stdout",
     "output_type": "stream",
     "text": [
      " * sqlite:///results.db\n",
      "Done.\n",
      "Returning data to local variable top_aliases\n"
     ]
    }
   ],
   "source": [
    "%%sql top_aliases <<\n",
    "with total as (select count(*) as total from alias) \n",
    "select\n",
    "    '\\verb|' || name || '|' as 'Name',\n",
    "    '=',\n",
    "    '\\verb|' || value || '|' as 'Value', \n",
    "    '\\num{{' || count(*) || '}}' as '\\#', \n",
    "    '\\num{{' || round(count(*)*100.0/total,2) || '}}' as '\\%' \n",
    "from alias\n",
    "join total \n",
    "group by name, value \n",
    "order by count(*) desc \n",
    "limit 10"
   ]
  },
  {
   "cell_type": "code",
   "execution_count": 39,
   "metadata": {},
   "outputs": [
    {
     "name": "stdout",
     "output_type": "stream",
     "text": [
      "\\begin{tabular}{rclrr}\n",
      "\\toprule\n",
      "         Name & '=' &                                              Value &           \\# &          \\% \\\\\n",
      "\\midrule\n",
      "    \\verb|ls| &   = &                             \\verb|ls --color=auto| &  \\num{37224} &  \\num{1.69} \\\\\n",
      "  \\verb|grep| &   = &                           \\verb|grep --color=auto| &  \\num{33192} &  \\num{1.51} \\\\\n",
      " \\verb|egrep| &   = &                          \\verb|egrep --color=auto| &  \\num{25488} &  \\num{1.16} \\\\\n",
      " \\verb|fgrep| &   = &                          \\verb|fgrep --color=auto| &  \\num{25114} &  \\num{1.14} \\\\\n",
      "    \\verb|la| &   = &                                       \\verb|ls -A| &  \\num{21912} &  \\num{0.99} \\\\\n",
      "     \\verb|l| &   = &                                      \\verb|ls -CF| &  \\num{20037} &  \\num{0.91} \\\\\n",
      "    \\verb|ll| &   = &                                     \\verb|ls -alF| &  \\num{17192} &  \\num{0.78} \\\\\n",
      " \\verb|alert| &   = &  \\verb|notify-send --urgency=low -i \"$([ $? = 0... &  \\num{15635} &  \\num{0.71} \\\\\n",
      "    \\verb|..| &   = &                                       \\verb|cd ..| &  \\num{14636} &  \\num{0.66} \\\\\n",
      "    \\verb|ll| &   = &                                       \\verb|ls -l| &  \\num{11185} &  \\num{0.51} \\\\\n",
      "\\bottomrule\n",
      "\\end{tabular}\n",
      "\n"
     ]
    }
   ],
   "source": [
    "print(top_aliases.DataFrame().to_latex(index=False, escape=False, column_format='rclrr'))"
   ]
  },
  {
   "cell_type": "markdown",
   "metadata": {},
   "source": [
    "# Top alias names, commands, and arguments"
   ]
  },
  {
   "cell_type": "code",
   "execution_count": 40,
   "metadata": {},
   "outputs": [
    {
     "name": "stdout",
     "output_type": "stream",
     "text": [
      " * sqlite:///results.db\n",
      "Done.\n",
      "Returning data to local variable top_names\n"
     ]
    }
   ],
   "source": [
    "%%sql top_names <<\n",
    "with total as (select count(*) as total from alias) \n",
    "select \n",
    "    '\\verb|' || name || '|' as 'Alias Name', \n",
    "    '\\num{{' || count(*) || '}}' as '\\#', \n",
    "    '\\num{{' || round(count(*)*100.0/total,2) || '}}' as '\\%' \n",
    "from alias \n",
    "join total \n",
    "group by name \n",
    "order by count(*) desc \n",
    "limit 15"
   ]
  },
  {
   "cell_type": "code",
   "execution_count": 41,
   "metadata": {},
   "outputs": [
    {
     "name": "stdout",
     "output_type": "stream",
     "text": [
      "\\begin{tabular}{lrr}\n",
      "\\toprule\n",
      "   Alias Name &           \\# &          \\% \\\\\n",
      "\\midrule\n",
      "    \\verb|ls| &  \\num{83782} &   \\num{3.8} \\\\\n",
      "    \\verb|ll| &  \\num{62465} &  \\num{2.83} \\\\\n",
      "  \\verb|grep| &  \\num{44479} &  \\num{2.02} \\\\\n",
      "    \\verb|la| &  \\num{43760} &  \\num{1.99} \\\\\n",
      "     \\verb|l| &  \\num{39539} &  \\num{1.79} \\\\\n",
      " \\verb|egrep| &  \\num{27852} &  \\num{1.26} \\\\\n",
      " \\verb|fgrep| &  \\num{27067} &  \\num{1.23} \\\\\n",
      "    \\verb|..| &  \\num{17145} &  \\num{0.78} \\\\\n",
      " \\verb|alert| &  \\num{15999} &  \\num{0.73} \\\\\n",
      "    \\verb|rm| &  \\num{15715} &  \\num{0.71} \\\\\n",
      "    \\verb|vi| &  \\num{15521} &   \\num{0.7} \\\\\n",
      "    \\verb|cp| &  \\num{15184} &  \\num{0.69} \\\\\n",
      "    \\verb|mv| &  \\num{13447} &  \\num{0.61} \\\\\n",
      "    \\verb|gs| &  \\num{13391} &  \\num{0.61} \\\\\n",
      "   \\verb|vim| &  \\num{13165} &   \\num{0.6} \\\\\n",
      "\\bottomrule\n",
      "\\end{tabular}\n",
      "\n"
     ]
    }
   ],
   "source": [
    "print(top_names.DataFrame().to_latex(index=False, escape=False, column_format='lrr'))"
   ]
  },
  {
   "cell_type": "code",
   "execution_count": 42,
   "metadata": {},
   "outputs": [
    {
     "name": "stdout",
     "output_type": "stream",
     "text": [
      " * sqlite:///results.db\n",
      "Done.\n",
      "Returning data to local variable top_commands\n"
     ]
    }
   ],
   "source": [
    "%%sql top_commands <<\n",
    "with total as (select count(*) as total from command) \n",
    "select \n",
    "    '\\verb|' || name || '|' as 'Command', \n",
    "    '\\num{{' || count(*) || '}}' as '\\#', \n",
    "    '\\num{{' || round(count(*)*100.0/total,2) || '}}' as '\\%' \n",
    "from command \n",
    "join total \n",
    "group by name \n",
    "order by count(*) desc \n",
    "limit 15"
   ]
  },
  {
   "cell_type": "code",
   "execution_count": 43,
   "metadata": {},
   "outputs": [
    {
     "name": "stdout",
     "output_type": "stream",
     "text": [
      "\\begin{tabular}{lrr}\n",
      "\\toprule\n",
      "       Command &            \\# &           \\% \\\\\n",
      "\\midrule\n",
      "    \\verb|git| &  \\num{327786} &  \\num{12.93} \\\\\n",
      "     \\verb|ls| &  \\num{260156} &  \\num{10.27} \\\\\n",
      "     \\verb|cd| &  \\num{166632} &   \\num{6.58} \\\\\n",
      "   \\verb|grep| &   \\num{89598} &   \\num{3.54} \\\\\n",
      "    \\verb|vim| &   \\num{46545} &   \\num{1.84} \\\\\n",
      "   \\verb|echo| &   \\num{31735} &   \\num{1.25} \\\\\n",
      "    \\verb|ssh| &   \\num{31352} &   \\num{1.24} \\\\\n",
      "  \\verb|egrep| &   \\num{30953} &   \\num{1.22} \\\\\n",
      " \\verb|docker| &   \\num{27946} &    \\num{1.1} \\\\\n",
      "  \\verb|fgrep| &   \\num{27054} &   \\num{1.07} \\\\\n",
      "     \\verb|rm| &   \\num{26679} &   \\num{1.05} \\\\\n",
      " \\verb|source| &   \\num{22189} &   \\num{0.88} \\\\\n",
      "   \\verb|tmux| &   \\num{21788} &   \\num{0.86} \\\\\n",
      "  \\verb|clear| &   \\num{19567} &   \\num{0.77} \\\\\n",
      "     \\verb|cp| &   \\num{17754} &    \\num{0.7} \\\\\n",
      "\\bottomrule\n",
      "\\end{tabular}\n",
      "\n"
     ]
    }
   ],
   "source": [
    "print(top_commands.DataFrame().to_latex(index=False, escape=False, column_format='lrr'))"
   ]
  },
  {
   "cell_type": "code",
   "execution_count": 44,
   "metadata": {},
   "outputs": [
    {
     "name": "stdout",
     "output_type": "stream",
     "text": [
      " * sqlite:///results.db\n",
      "Done.\n",
      "Returning data to local variable top_arguments\n"
     ]
    }
   ],
   "source": [
    "%%sql top_arguments <<\n",
    "with total as (select count(*) as total from argument) \n",
    "select \n",
    "    '\\verb|' || name || '|' as 'Argument', \n",
    "    '\\num{{' || count(*) || '}}' as '\\#', \n",
    "    '\\num{{' || round(count(*)*100.0/total,2) || '}}' as '\\%' \n",
    "from argument \n",
    "join total \n",
    "group by name \n",
    "order by count(*) desc \n",
    "limit 20"
   ]
  },
  {
   "cell_type": "code",
   "execution_count": 45,
   "metadata": {},
   "outputs": [
    {
     "name": "stdout",
     "output_type": "stream",
     "text": [
      "\\begin{tabular}{lrr}\n",
      "\\toprule\n",
      "            Argument &            \\# &          \\% \\\\\n",
      "\\midrule\n",
      " \\verb|--color=auto| &  \\num{153931} &  \\num{4.24} \\\\\n",
      "           \\verb|-i| &   \\num{70640} &  \\num{1.95} \\\\\n",
      "           \\verb|-a| &   \\num{42910} &  \\num{1.18} \\\\\n",
      "           \\verb|-l| &   \\num{39519} &  \\num{1.09} \\\\\n",
      "           \\verb|-v| &   \\num{35295} &  \\num{0.97} \\\\\n",
      "       \\verb|commit| &   \\num{32238} &  \\num{0.89} \\\\\n",
      "           \\verb|-A| &   \\num{31883} &  \\num{0.88} \\\\\n",
      "       \\verb|status| &   \\num{28348} &  \\num{0.78} \\\\\n",
      "           \\verb|-f| &   \\num{27913} &  \\num{0.77} \\\\\n",
      "         \\verb|push| &   \\num{27423} &  \\num{0.76} \\\\\n",
      "            \\verb|.| &   \\num{26627} &  \\num{0.73} \\\\\n",
      "          \\verb|add| &   \\num{26364} &  \\num{0.73} \\\\\n",
      "          \\verb|log| &   \\num{24442} &  \\num{0.67} \\\\\n",
      "           \\verb|-d| &   \\num{24364} &  \\num{0.67} \\\\\n",
      "           \\verb|..| &   \\num{24145} &  \\num{0.67} \\\\\n",
      "           \\verb|-p| &   \\num{23882} &  \\num{0.66} \\\\\n",
      "           \\verb|-m| &   \\num{23538} &  \\num{0.65} \\\\\n",
      "           \\verb|-n| &   \\num{22358} &  \\num{0.62} \\\\\n",
      "         \\verb|diff| &   \\num{22328} &  \\num{0.62} \\\\\n",
      "     \\verb|checkout| &   \\num{22325} &  \\num{0.61} \\\\\n",
      "\\bottomrule\n",
      "\\end{tabular}\n",
      "\n"
     ]
    }
   ],
   "source": [
    "print(top_arguments.DataFrame().to_latex(index=False, escape=False, column_format='lrr'))"
   ]
  },
  {
   "cell_type": "markdown",
   "metadata": {},
   "source": [
    "# Top commands with their top arguments and top aliases"
   ]
  },
  {
   "cell_type": "code",
   "execution_count": 48,
   "metadata": {},
   "outputs": [
    {
     "name": "stdout",
     "output_type": "stream",
     "text": [
      " * sqlite:///results.db\n",
      "Done.\n",
      "Returning data to local variable top3\n"
     ]
    }
   ],
   "source": [
    "%%sql top3 <<\n",
    "with \n",
    "    top_commands as (\n",
    "        select name as cmd_name, count(*) as cmd_count \n",
    "        from command \n",
    "        where cmd_name in ('git', 'ls')\n",
    "        group by cmd_name \n",
    "        order by cmd_count desc \n",
    "    ), \n",
    "    top_arguments as (\n",
    "        select name as cmd_name, arguments as cmd_args, count(*) as arg_count \n",
    "        from command \n",
    "        where cmd_name in (select cmd_name from top_commands) \n",
    "        group by cmd_name, cmd_args \n",
    "        order by cmd_name, arg_count desc\n",
    "    ),\n",
    "    X as (\n",
    "        select *, row_number() over (partition by cmd_name order by arg_count desc) as num\n",
    "        from top_arguments\n",
    "    ),\n",
    "    top_aliases as (\n",
    "        select \n",
    "            command.name as cmd_name, \n",
    "            command.arguments as cmd_args,\n",
    "            alias.name as alias_name,\n",
    "            count(*) as alias_count\n",
    "        from alias join command using (alias_id)\n",
    "        where cmd_name in (select cmd_name from top_commands)\n",
    "        group by cmd_name, cmd_args, alias_name \n",
    "        order by cmd_name, cmd_args, alias_count desc\n",
    "    ),\n",
    "    Y as (\n",
    "        select *, row_number() over (partition by cmd_name, cmd_args order by alias_count desc) as num\n",
    "        from top_aliases\n",
    "    )\n",
    "\n",
    "select\n",
    "    cmd_count,\n",
    "    cmd_name,\n",
    "    round(arg_count*100.0/cmd_count, 2) as args_per,\n",
    "    cmd_args,\n",
    "    alias_name, \n",
    "    round(alias_count*100.0/arg_count, 2) as alias_per\n",
    "\n",
    "from top_commands join X using (cmd_name) join Y using (cmd_name, cmd_args)\n",
    "where X.num <= 10 and Y.num <= 3\n",
    "and alias_per > 5\n",
    "order by cmd_count desc, arg_count desc, alias_count desc;"
   ]
  },
  {
   "cell_type": "code",
   "execution_count": 49,
   "metadata": {},
   "outputs": [
    {
     "name": "stdout",
     "output_type": "stream",
     "text": [
      "\\begin{tabular}{lrll}\n",
      "\\toprule\n",
      "    Command &           \\% &            Arguments &                                                                Aliases (\\%) \\\\\n",
      "\\midrule\n",
      " \\verb|git| &   \\num{5.85} &        \\verb|status| &                           \\verb|gs| (\\num{54.27}), \\verb|gst| (\\num{19.19}) \\\\\n",
      " \\verb|git| &   \\num{3.48} &              \\verb|| &                             \\verb|g| (\\num{75.71}), \\verb|gti| (\\num{5.74}) \\\\\n",
      " \\verb|git| &   \\num{3.20} &      \\verb|checkout| &  \\verb|gco| (\\num{50.52}), \\verb|gc| (\\num{13.87}), \\verb|gch| (\\num{7.56}) \\\\\n",
      " \\verb|git| &   \\num{3.18} &          \\verb|push| &  \\verb|gp| (\\num{46.73}), \\verb|gps| (\\num{9.23}), \\verb|push| (\\num{7.56}) \\\\\n",
      " \\verb|git| &   \\num{3.16} &          \\verb|diff| &                                                     \\verb|gd| (\\num{79.89}) \\\\\n",
      " \\verb|git| &   \\num{2.86} &          \\verb|pull| &  \\verb|gpl| (\\num{18.30}), \\verb|gl| (\\num{16.59}), \\verb|gp| (\\num{15.07}) \\\\\n",
      " \\verb|git| &   \\num{2.78} &        \\verb|branch| &                            \\verb|gb| (\\num{73.54}), \\verb|gbr| (\\num{6.57}) \\\\\n",
      " \\verb|git| &   \\num{2.71} &           \\verb|add| &                                                     \\verb|ga| (\\num{80.96}) \\\\\n",
      " \\verb|git| &   \\num{2.00} &        \\verb|commit| &                            \\verb|gc| (\\num{63.16}), \\verb|gci| (\\num{5.33}) \\\\\n",
      " \\verb|git| &   \\num{1.96} &     \\verb|commit -m| &   \\verb|gcm| (\\num{31.29}), \\verb|gc| (\\num{25.18}), \\verb|gm| (\\num{7.97}) \\\\\n",
      "  \\verb|ls| &  \\num{14.45} &  \\verb|--color=auto| &                                                     \\verb|ls| (\\num{99.04}) \\\\\n",
      "  \\verb|ls| &   \\num{8.63} &            \\verb|-A| &                                                     \\verb|la| (\\num{97.61}) \\\\\n",
      "  \\verb|ls| &   \\num{7.80} &           \\verb|-CF| &                                                      \\verb|l| (\\num{98.75}) \\\\\n",
      "  \\verb|ls| &   \\num{6.78} &          \\verb|-alF| &                                                     \\verb|ll| (\\num{97.49}) \\\\\n",
      "  \\verb|ls| &   \\num{5.46} &            \\verb|-l| &                              \\verb|ll| (\\num{78.83}), \\verb|l| (\\num{7.91}) \\\\\n",
      "  \\verb|ls| &   \\num{3.75} &              \\verb|| &                             \\verb|l| (\\num{27.90}), \\verb|sl| (\\num{21.45}) \\\\\n",
      "  \\verb|ls| &   \\num{2.88} &            \\verb|-G| &                                                     \\verb|ls| (\\num{96.47}) \\\\\n",
      "  \\verb|ls| &   \\num{2.74} &           \\verb|-la| &  \\verb|ll| (\\num{38.42}), \\verb|la| (\\num{26.87}), \\verb|lla| (\\num{12.63}) \\\\\n",
      "  \\verb|ls| &   \\num{2.67} &            \\verb|-a| &                                                     \\verb|la| (\\num{76.94}) \\\\\n",
      "  \\verb|ls| &   \\num{1.92} &           \\verb|-al| &     \\verb|ll| (\\num{49.69}), \\verb|la| (\\num{12.23}), \\verb|l| (\\num{8.49}) \\\\\n",
      "\\bottomrule\n",
      "\\end{tabular}\n",
      "\n"
     ]
    }
   ],
   "source": [
    "def format_alias(x):\n",
    "    return '\\\\verb|%s| (\\\\num{%.2f})' % (x['alias_name'], x['alias_per'])\n",
    "          \n",
    "df = top3.DataFrame()\n",
    "df['alias_fmt'] = df.apply(format_alias, axis=1)\n",
    "df = df.groupby(['cmd_count','cmd_name','args_per','cmd_args']).agg(aliases=('alias_fmt', ', '.join)).reset_index()\n",
    "df.sort_values(by=['cmd_count','cmd_name','args_per'],ascending=[False,True,False],inplace=True)\n",
    "\n",
    "df.drop(['cmd_count'], axis=1, inplace=True)\n",
    "df['cmd_name'] = df.apply(lambda x: '\\\\verb|%s|' % x['cmd_name'], axis=1)\n",
    "df['args_per'] = df.apply(lambda x: '\\\\num{%.2f}' % x['args_per'], axis=1)\n",
    "df['cmd_args'] = df.apply(lambda x: '\\\\verb|%s|' % x['cmd_args'], axis=1)\n",
    "\n",
    "with pd.option_context(\"max_colwidth\", 1000):\n",
    "    print(df.to_latex(escape=False,index=False,column_format='lrll',header=['Command','\\%','Arguments','Aliases (\\%)']))"
   ]
  },
  {
   "cell_type": "code",
   "execution_count": null,
   "metadata": {},
   "outputs": [],
   "source": []
  }
 ],
 "metadata": {
  "kernelspec": {
   "display_name": "Python 3.7.6 64-bit",
   "language": "python",
   "name": "python37664bit0fda1b1dbdee481db7662a4e7d3141e4"
  },
  "language_info": {
   "codemirror_mode": {
    "name": "ipython",
    "version": 3
   },
   "file_extension": ".py",
   "mimetype": "text/x-python",
   "name": "python",
   "nbconvert_exporter": "python",
   "pygments_lexer": "ipython3",
   "version": "3.7.6"
  }
 },
 "nbformat": 4,
 "nbformat_minor": 4
}
