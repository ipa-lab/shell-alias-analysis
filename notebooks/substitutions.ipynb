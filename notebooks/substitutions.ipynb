{
 "cells": [
  {
   "cell_type": "code",
   "execution_count": 1,
   "metadata": {},
   "outputs": [],
   "source": [
    "import sqlite3\n",
    "import pandas as pd\n",
    "import matplotlib.pyplot as plt\n",
    "%matplotlib inline\n",
    "%load_ext sql"
   ]
  },
  {
   "cell_type": "code",
   "execution_count": 2,
   "metadata": {},
   "outputs": [],
   "source": [
    "%sql sqlite:///results.db"
   ]
  },
  {
   "cell_type": "markdown",
   "metadata": {},
   "source": [
    "# Substituting Commands"
   ]
  },
  {
   "cell_type": "markdown",
   "metadata": {},
   "source": [
    "First, we want a list of known actual commands. We will use lists of standard Unix tools from Wikipedia (https://en.wikipedia.org/wiki/List_of_Unix_commands and https://en.wikipedia.org/wiki/List_of_GNU_Core_Utilities_commands) but also commands from our dataset. We need to make sure these are actual commands, however, and not already aliases that are also used like commands. So some manual curation is necessary. Afterwards, we create a table of known commands.\n",
    "\n",
    "Note: The dataset from Zenodo already contains the `known_commands` table."
   ]
  },
  {
   "cell_type": "code",
   "execution_count": null,
   "metadata": {},
   "outputs": [],
   "source": [
    "%%sql \n",
    "select name, count(*) from command\n",
    "where name not like '%=%' and name not like '%-%' and name not like '%$%'\n",
    "group by name having count(*) > 1000 \n",
    "order by count(*) desc;"
   ]
  },
  {
   "cell_type": "code",
   "execution_count": null,
   "metadata": {},
   "outputs": [],
   "source": [
    "%%sql\n",
    "create table known_commands (name text primary key);\n",
    "insert into known_commands (name) values\n",
    "('.'),('['),('ack'),('adb'),('admin'),('alias'),('apt'),('aptitude'),('ar'),('arch'),('asa'),('at'),('atom'),('awk'),('aws'),('b2sum'),('base32'),('base64'),('basename'),('bash'),('bat'),('batch'),('bc'),('bg'),('brew'),('bundle'),('c99'),('cal'),('cat'),('cc'),('cd'),('cflow'),('chcon'),('chgrp'),('chmod'),('chown'),('chroot'),('cksum'),('clear'),('cmp'),('code'),('colordiff'),('colorls'),('colourify'),('column'),('comm'),('command'),('composer'),('compress'),('cp'),('crontab'),('csplit'),('ctags'),('curl'),('cut'),('cxref'),('date'),('dd'),('defaults'),('delta'),('df'),('diff'),('dig'),('dir'),('dircolors'),('dirname'),('dirs'),('dnf'),('do'),('docker'),('done'),('drush'),('dscacheutil'),('du'),('echo'),('ed'),('edit'),('egrep'),('emacs'),('emacsclient'),('env'),('eval'),('ex'),('exa'),('exec'),('exit'),('expand'),('export'),('expr'),('factor'),('false'),('fasd'),('fc'),('feh'),('fg'),('fgrep'),('file'),('find'),('fmt'),('fold'),('for'),('fort77'),('free'),('function'),('fuser'),('fzf'),('g++'),('gcc'),('gem'),('gencat'),('get'),('getconf'),('getopts'),('git'),('gitk'),('grep'),('groups'),('gvim'),('hash'),('head'),('heroku'),('hg'),('history'),('hostid'),('htop'),('hub'),('iconv'),('id'),('ifconfig'),('install'),('ipconfig'),('ipcrm'),('ipcs'),('ipython'),('java'),('jobs'),('join'),('journalctl'),('jupyter'),('kill'),('killall'),('kubectl'),('launchctl'),('less'),('lex'),('link'),('ln'),('locale'),('localedef'),('logger'),('logname'),('lp'),('ls'),('lsof'),('m4'),('mailx'),('make'),('man'),('mate'),('md5sum'),('mdutil'),('mesg'),('mix'),('mkdir'),('mkfifo'),('mkfile'),('mknod'),('mktemp'),('more'),('mount'),('mplayer'),('mpv'),('mv'),('mvim'),('mvn'),('mysql'),('nano'),('netstat'),('newgrp'),('nice'),('nl'),('nm'),('nocorrect'),('node'),('noglob'),('nohup'),('npm'),('nproc'),('numfmt'),('nvim'),('od'),('open'),('openssl'),('osascript'),('pacaur'),('pacman'),('paste'),('patch'),('pathchk'),('pax'),('pbcopy'),('perl'),('pg_ctl'),('php'),('ping'),('pinky'),('pip'),('pip3'),('pkill'),('popd'),('pr'),('printenv'),('printf'),('prs'),('ps'),('ptx'),('pushd'),('pwd'),('pygmentize'),('python'),('python2'),('python3'),('qalter'),('qdel'),('qhold'),('qmove'),('qmsg'),('qrerun'),('qrls'),('qselect'),('qsig'),('qstat'),('qsub'),('rails'),('rake'),('ranger'),('read'),('readlink'),('realpath'),('reboot'),('renice'),('rg'),('rlwrap'),('rm'),('rmdel'),('rmdir'),('rsync'),('ruby'),('runcon'),('sact'),('sccs'),('scp'),('screen'),('sed'),('seq'),('service'),('set'),('setxkbmap'),('sh'),('sha1sum'),('sha224sum'),('sha256sum'),('sha384sum'),('sha512sum'),('shred'),('shuf'),('shutdown'),('sleep'),('sort'),('source'),('split'),('spring'),('ssh'),('sshfs'),('stat'),('stdbuf'),('strings'),('strip'),('stty'),('su'),('subl'),('sudo'),('sum'),('svn'),('sync'),('systemctl'),('tabs'),('tac'),('tail'),('talk'),('tar'),('task'),('tcpdump'),('tee'),('terraform'),('test'),('then'),('time'),('timeout'),('tmux'),('tmuxinator'),('top'),('touch'),('tput'),('tr'),('tree'),('true'),('truncate'),('tsort'),('tty'),('type'),('ulimit'),('umask'),('umount'),('unalias'),('uname'),('uncompress'),('unexpand'),('unget'),('uniq'),('unlink'),('unset'),('uptime'),('users'),('uucp'),('uudecode'),('uuencode'),('uustat'),('uux'),('vagrant'),('val'),('vdir'),('vi'),('vim'),('wait'),('watch'),('wc'),('wget'),('what'),('who'),('whoami'),('write'),('xargs'),('xclip'),('xrandr'),('xsel'),('yacc'),('yaourt'),('yarn'),('yay'),('yes'),('yum'),('zcat'),('zeus')"
   ]
  },
  {
   "cell_type": "markdown",
   "metadata": {},
   "source": [
    "---"
   ]
  },
  {
   "cell_type": "code",
   "execution_count": 25,
   "metadata": {},
   "outputs": [
    {
     "name": "stdout",
     "output_type": "stream",
     "text": [
      " * sqlite:///results.db\n",
      "Done.\n"
     ]
    },
    {
     "data": {
      "text/html": [
       "<table>\n",
       "    <tr>\n",
       "        <th>#</th>\n",
       "        <th>%</th>\n",
       "    </tr>\n",
       "    <tr>\n",
       "        <td>100564</td>\n",
       "        <td>4.56</td>\n",
       "    </tr>\n",
       "</table>"
      ],
      "text/plain": [
       "[(100564, 4.56)]"
      ]
     },
     "execution_count": 25,
     "metadata": {},
     "output_type": "execute_result"
    }
   ],
   "source": [
    "%%sql\n",
    "with total as (select count(*) as total from alias)\n",
    "select count(*) as '#', round(count(*)*100.0/total,2) as '%'\n",
    "from alias\n",
    "join total\n",
    "where alias.name in known_commands\n",
    "and alias.value != alias.name\n",
    "and alias.value not like alias.name || ' %'\n",
    "and alias.value not like '% ' || alias.name\n",
    "and alias.value not like '% ' || alias.name || ' %'"
   ]
  },
  {
   "cell_type": "code",
   "execution_count": 26,
   "metadata": {},
   "outputs": [
    {
     "name": "stdout",
     "output_type": "stream",
     "text": [
      " * sqlite:///results.db\n",
      "Done.\n"
     ]
    },
    {
     "data": {
      "text/html": [
       "<table>\n",
       "    <tr>\n",
       "        <th>name</th>\n",
       "        <th>value</th>\n",
       "        <th>count(*)</th>\n",
       "    </tr>\n",
       "    <tr>\n",
       "        <td>vi</td>\n",
       "        <td>vim</td>\n",
       "        <td>9648</td>\n",
       "    </tr>\n",
       "    <tr>\n",
       "        <td>vim</td>\n",
       "        <td>nvim</td>\n",
       "        <td>6936</td>\n",
       "    </tr>\n",
       "    <tr>\n",
       "        <td>vi</td>\n",
       "        <td>nvim</td>\n",
       "        <td>2771</td>\n",
       "    </tr>\n",
       "    <tr>\n",
       "        <td>python</td>\n",
       "        <td>python3</td>\n",
       "        <td>1947</td>\n",
       "    </tr>\n",
       "    <tr>\n",
       "        <td>more</td>\n",
       "        <td>less</td>\n",
       "        <td>1900</td>\n",
       "    </tr>\n",
       "    <tr>\n",
       "        <td>open</td>\n",
       "        <td>xdg-open</td>\n",
       "        <td>1647</td>\n",
       "    </tr>\n",
       "    <tr>\n",
       "        <td>git</td>\n",
       "        <td>hub</td>\n",
       "        <td>1626</td>\n",
       "    </tr>\n",
       "    <tr>\n",
       "        <td>diff</td>\n",
       "        <td>colordiff</td>\n",
       "        <td>1424</td>\n",
       "    </tr>\n",
       "    <tr>\n",
       "        <td>cat</td>\n",
       "        <td>bat</td>\n",
       "        <td>1321</td>\n",
       "    </tr>\n",
       "    <tr>\n",
       "        <td>pip</td>\n",
       "        <td>pip3</td>\n",
       "        <td>1013</td>\n",
       "    </tr>\n",
       "    <tr>\n",
       "        <td>ls</td>\n",
       "        <td>exa</td>\n",
       "        <td>971</td>\n",
       "    </tr>\n",
       "    <tr>\n",
       "        <td>top</td>\n",
       "        <td>htop</td>\n",
       "        <td>839</td>\n",
       "    </tr>\n",
       "    <tr>\n",
       "        <td>pbcopy</td>\n",
       "        <td>xclip -selection clipboard</td>\n",
       "        <td>734</td>\n",
       "    </tr>\n",
       "    <tr>\n",
       "        <td>vim</td>\n",
       "        <td>mvim -v</td>\n",
       "        <td>660</td>\n",
       "    </tr>\n",
       "    <tr>\n",
       "        <td>pbcopy</td>\n",
       "        <td>xsel --clipboard --input</td>\n",
       "        <td>633</td>\n",
       "    </tr>\n",
       "    <tr>\n",
       "        <td>rm</td>\n",
       "        <td>trash</td>\n",
       "        <td>627</td>\n",
       "    </tr>\n",
       "    <tr>\n",
       "        <td>dir</td>\n",
       "        <td>ls --color=auto --format=vertical</td>\n",
       "        <td>611</td>\n",
       "    </tr>\n",
       "    <tr>\n",
       "        <td>vdir</td>\n",
       "        <td>ls --color=auto --format=long</td>\n",
       "        <td>566</td>\n",
       "    </tr>\n",
       "    <tr>\n",
       "        <td>ack</td>\n",
       "        <td>ack-grep</td>\n",
       "        <td>539</td>\n",
       "    </tr>\n",
       "    <tr>\n",
       "        <td>ctags</td>\n",
       "        <td>`brew --prefix`/bin/ctags</td>\n",
       "        <td>522</td>\n",
       "    </tr>\n",
       "</table>"
      ],
      "text/plain": [
       "[('vi', 'vim', 9648),\n",
       " ('vim', 'nvim', 6936),\n",
       " ('vi', 'nvim', 2771),\n",
       " ('python', 'python3', 1947),\n",
       " ('more', 'less', 1900),\n",
       " ('open', 'xdg-open', 1647),\n",
       " ('git', 'hub', 1626),\n",
       " ('diff', 'colordiff', 1424),\n",
       " ('cat', 'bat', 1321),\n",
       " ('pip', 'pip3', 1013),\n",
       " ('ls', 'exa', 971),\n",
       " ('top', 'htop', 839),\n",
       " ('pbcopy', 'xclip -selection clipboard', 734),\n",
       " ('vim', 'mvim -v', 660),\n",
       " ('pbcopy', 'xsel --clipboard --input', 633),\n",
       " ('rm', 'trash', 627),\n",
       " ('dir', 'ls --color=auto --format=vertical', 611),\n",
       " ('vdir', 'ls --color=auto --format=long', 566),\n",
       " ('ack', 'ack-grep', 539),\n",
       " ('ctags', '`brew --prefix`/bin/ctags', 522)]"
      ]
     },
     "execution_count": 26,
     "metadata": {},
     "output_type": "execute_result"
    }
   ],
   "source": [
    "%%sql\n",
    "with total as (select count(*) as total from alias)\n",
    "select alias.name, alias.value, count(*)\n",
    "from alias\n",
    "join total\n",
    "where alias.name in known_commands\n",
    "and alias.value != alias.name\n",
    "and alias.value not like alias.name || ' %'\n",
    "and alias.value not like '% ' || alias.name\n",
    "and alias.value not like '% ' || alias.name || ' %'\n",
    "group by alias.name, alias.value\n",
    "order by count(*) desc\n",
    "limit 20;"
   ]
  },
  {
   "cell_type": "code",
   "execution_count": null,
   "metadata": {},
   "outputs": [],
   "source": []
  }
 ],
 "metadata": {
  "kernelspec": {
   "display_name": "Python 3.7.6 64-bit",
   "language": "python",
   "name": "python37664bit0fda1b1dbdee481db7662a4e7d3141e4"
  },
  "language_info": {
   "codemirror_mode": {
    "name": "ipython",
    "version": 3
   },
   "file_extension": ".py",
   "mimetype": "text/x-python",
   "name": "python",
   "nbconvert_exporter": "python",
   "pygments_lexer": "ipython3",
   "version": "3.8.5"
  }
 },
 "nbformat": 4,
 "nbformat_minor": 4
}
